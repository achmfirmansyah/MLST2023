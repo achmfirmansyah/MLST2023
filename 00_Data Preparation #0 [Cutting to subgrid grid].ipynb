{
 "cells": [
  {
   "cell_type": "markdown",
   "id": "2e07d193",
   "metadata": {},
   "source": [
    "## Cutting GRID \n",
    "Memotong raster dengan sampel besar menjadi beberapa raster yang lebih kecil"
   ]
  },
  {
   "cell_type": "markdown",
   "id": "44eaf827",
   "metadata": {},
   "source": [
    "#### [00] Load Library"
   ]
  },
  {
   "cell_type": "code",
   "execution_count": null,
   "id": "5d9504cf",
   "metadata": {},
   "outputs": [],
   "source": [
    "import pandas as pd\n",
    "import numpy as np\n",
    "import math\n",
    "\n",
    "import geopandas as gpd \n",
    "import rasterio \n",
    "from shapely.geometry import Polygon\n",
    "from osgeo import gdal\n",
    "\n",
    "from google.cloud import storage\n",
    "import gcsfs\n",
    "\n",
    "from datetime import datetime\n",
    "import glob\n",
    "import os\n",
    "from tqdm import tqdm\n",
    "\n",
    "import warnings\n",
    "warnings.filterwarnings(\"ignore\")\n",
    "\n",
    "pd.set_option('display.max_rows', 500)\n",
    "pd.set_option('display.max_columns', 500)\n",
    "\n",
    "from omegaconf import DictConfig,OmegaConf\n",
    "\n",
    "\n"
   ]
  },
  {
   "cell_type": "markdown",
   "id": "be57e50e",
   "metadata": {},
   "source": [
    "**!! Edit kdPIC parameter in config/config.yaml**\n",
    "\n",
    "specify the \"kdPIC\" and the band that would be calculated"
   ]
  },
  {
   "cell_type": "code",
   "execution_count": null,
   "id": "499a647f",
   "metadata": {},
   "outputs": [],
   "source": [
    "conf = OmegaConf.load('config/config.yaml')"
   ]
  },
  {
   "cell_type": "code",
   "execution_count": null,
   "id": "87527ab8",
   "metadata": {},
   "outputs": [],
   "source": [
    "kdPIC=conf['config']['pic_']"
   ]
  },
  {
   "cell_type": "markdown",
   "id": "bc140eb7",
   "metadata": {},
   "source": [
    "#### [01] Import Data "
   ]
  },
  {
   "cell_type": "code",
   "execution_count": null,
   "id": "c05eb2f1",
   "metadata": {},
   "outputs": [],
   "source": [
    "file_sampel = kdPIC + \"_sample2022.gpkg\"\n",
    "sampel = gpd.read_file(\"gs://bps-gcp-bucket/MLST2023/sample/\"+file_sampel).to_crs(4326)\n",
    "grid = gpd.read_file(\"gs://bps-gcp-bucket/MLST2023/sample/Grid_Ekoreg_2022.gpkg\").query('kdPIC=='+'\\\"'+kdPIC+'\\\"')"
   ]
  },
  {
   "cell_type": "markdown",
   "id": "d9c4929c",
   "metadata": {},
   "source": [
    "#### [02] Function Definition\n"
   ]
  },
  {
   "cell_type": "markdown",
   "id": "f590ec50",
   "metadata": {},
   "source": [
    "**[02.01]** Mendapat nama file raster"
   ]
  },
  {
   "cell_type": "code",
   "execution_count": null,
   "id": "6ee44d09",
   "metadata": {},
   "outputs": [],
   "source": [
    "def get_name(grid, pic):\n",
    "    filename= 'duatahun_'+grid+'_QALPN1_PakKus_sentinel2_10m.tif'\n",
    "    filename_full = '/vsigs/bps-gcp-bucket/citra-sentinel2/'+pic+'/'+filename\n",
    "    return filename, filename_full\n"
   ]
  },
  {
   "cell_type": "markdown",
   "id": "bf471ca0",
   "metadata": {},
   "source": [
    "**[02.02]** Mendapat id grid terhadap treshold tertentu"
   ]
  },
  {
   "cell_type": "code",
   "execution_count": null,
   "id": "3b4a808f",
   "metadata": {},
   "outputs": [],
   "source": [
    "def get_id(sampel, treshold):\n",
    "    id_ = pd.pivot_table(sampel, index=\"ID_GRID\", aggfunc=\"count\").sort_values(by=\"geometry\",ascending=False).query(\"geometry>\"+str(treshold)).index\n",
    "    return list(id_)"
   ]
  },
  {
   "cell_type": "markdown",
   "id": "9e5c42fa",
   "metadata": {},
   "source": [
    "**[02.03]** Memotong raster grid"
   ]
  },
  {
   "cell_type": "code",
   "execution_count": null,
   "id": "67e7219e",
   "metadata": {},
   "outputs": [],
   "source": [
    "def create_grid_raster(id_grid, n): \n",
    "    filename, filename_full = get_name(id_grid, kdPIC)\n",
    "    \n",
    "    ds = gdal.Open(filename_full)\n",
    "    band = ds.GetRasterBand(1)\n",
    "    xsize = band.XSize\n",
    "    ysize = band.YSize\n",
    "\n",
    "    tile_size_x = math.ceil(xsize/n)\n",
    "    tile_size_y = math.ceil(ysize/n)\n",
    "\n",
    "    k = 1\n",
    "    for i in range(0, xsize, tile_size_x):\n",
    "        for j in range(0, ysize, tile_size_y):\n",
    "            ds = gdal.Translate('ml_output/00_cutting_to_subgrid/' + filename[0:9] +  id_grid + \"_\"  + str(k) + filename[-32:], filename_full, srcWin = [i, j, tile_size_x, tile_size_y])\n",
    "            ds = None\n",
    "            k+=1\n",
    "            "
   ]
  },
  {
   "cell_type": "markdown",
   "id": "3727fd3b",
   "metadata": {},
   "source": [
    "**[02.04]** Memotong vector grid"
   ]
  },
  {
   "cell_type": "code",
   "execution_count": null,
   "id": "c703dd78",
   "metadata": {},
   "outputs": [],
   "source": [
    "def create_grid_polygon(id_grid, n): \n",
    "    \n",
    "    tmp = grid.loc[grid.ID_GRID == id_grid]\n",
    "    xmin,ymin,xmax,ymax =  tmp.total_bounds\n",
    "    width = (xmax-xmin)/n\n",
    "    height = (ymax-ymin)/n\n",
    "    rows = n\n",
    "    cols = n\n",
    "    XleftOrigin = xmin\n",
    "    XrightOrigin = xmin + width\n",
    "    YtopOrigin = ymax\n",
    "    YbottomOrigin = ymax- height\n",
    "    polygons = []\n",
    "\n",
    "    for i in range(n):\n",
    "        Ytop = YtopOrigin\n",
    "        Ybottom =YbottomOrigin\n",
    "        for j in range(n):\n",
    "            polygons.append(Polygon([(XleftOrigin, Ytop), (XrightOrigin, Ytop), (XrightOrigin, Ybottom), (XleftOrigin, Ybottom)])) \n",
    "            Ytop = Ytop - height\n",
    "            Ybottom = Ybottom - height\n",
    "        XleftOrigin = XleftOrigin + width\n",
    "        XrightOrigin = XrightOrigin + width\n",
    "    \n",
    "    sub_grid = gpd.GeoDataFrame({'id_sub':range(1,n**2+1),\n",
    "                             'geometry':polygons})\n",
    "    sub_grid['sub_grid'] = [id_grid + '_' + str(x) for x in sub_grid.id_sub]\n",
    "    \n",
    "    return sub_grid"
   ]
  },
  {
   "cell_type": "markdown",
   "id": "b53ebd97",
   "metadata": {},
   "source": [
    "#### [03] List of GRID dengan sampel besar"
   ]
  },
  {
   "cell_type": "markdown",
   "id": "dd69ddc2",
   "metadata": {},
   "source": [
    "List grid dengan sampel lebih dari 1000 titik sampel"
   ]
  },
  {
   "cell_type": "code",
   "execution_count": null,
   "id": "cc314766",
   "metadata": {},
   "outputs": [],
   "source": [
    "id_grid_ = list(sampel.ID_GRID.unique())\n",
    "id_ = get_id(sampel, 1000) ## edit dengan maksimum sampel\n",
    "id_"
   ]
  },
  {
   "cell_type": "code",
   "execution_count": null,
   "id": "f775bc6e",
   "metadata": {},
   "outputs": [],
   "source": [
    "print(\"Total Seluruh Grid : \" + str(len(sampel.ID_GRID.unique())))\n",
    "print(\"Total Seluruh Grid dg dengan Sampel > 1000 : \" + str(len(id_)))\n",
    "print(\"Persentase Seluruh Grid dg dengan Sampel > 1000 : \" + str(100*len(id_)/len(sampel.ID_GRID.unique())))\n"
   ]
  },
  {
   "cell_type": "markdown",
   "id": "0933c4e7",
   "metadata": {},
   "source": [
    "#### [04] Memotong Grid dalam [nxn] Raster\n",
    "\n",
    "Memotong grid menjadi 25 sub raster"
   ]
  },
  {
   "cell_type": "code",
   "execution_count": null,
   "id": "95a5e8d6",
   "metadata": {},
   "outputs": [],
   "source": [
    "cols_ = list(sampel.columns)\n",
    "cols_.append('sub_grid')\n",
    "res = pd.DataFrame(columns=cols_)\n",
    "\n",
    "for i in tqdm(id_grid_):\n",
    "    sj = sampel.loc[sampel.ID_GRID == i]\n",
    "    \n",
    "    if i in id_:\n",
    "        create_grid_raster(i, 5) \n",
    "        sub_grid = create_grid_polygon(i, 5)\n",
    "        sj_ = gpd.sjoin(sj, sub_grid[['geometry','sub_grid']])\n",
    "        res = res.append(sj_)\n",
    "    else:\n",
    "        sj['sub_grid'] = i\n",
    "        res = res.append(sj)\n"
   ]
  },
  {
   "cell_type": "markdown",
   "id": "ce835d35",
   "metadata": {},
   "source": [
    "#### [05] Cek Jumlah Sampel tiap GRID dan SubGrid "
   ]
  },
  {
   "cell_type": "code",
   "execution_count": null,
   "id": "2a05c9a2",
   "metadata": {},
   "outputs": [],
   "source": [
    "res.groupby(['ID_GRID','sub_grid']).sub_grid.count()"
   ]
  },
  {
   "cell_type": "markdown",
   "id": "7a8b8a6c",
   "metadata": {},
   "source": [
    "##### [06] Upload File Raster dan Sampel ke Bucket dalam GCloud Storange"
   ]
  },
  {
   "cell_type": "code",
   "execution_count": null,
   "id": "96db699f",
   "metadata": {},
   "outputs": [],
   "source": [
    "os.environ['GOOGLE_APPLICATION_CREDENTIALS'] = r'config/gcp_store.json'\n",
    "client = storage.Client()\n",
    "bucket = client.get_bucket('bps-gcp-bucket')\n",
    "\n",
    "for i in glob.glob(\"ml_output/00_cutting_to_subgrid/*.tif\"):\n",
    "    tif_name = i.split('/')[2]\n",
    "    gcp_file_name='citra-sentinel2/'+kdPIC+'/'+tif_name\n",
    "    print(gcp_file_name)\n",
    "    bucket.blob(gcp_file_name).upload_from_filename(i)\n",
    "    # print(tif_name + \" DONE !\")\n",
    "print(\"DONE !! SELURUH RASTER SUB GRID TELAH TERUPLOAD !\")\n",
    "    \n",
    "gpd_file_name = \"ml_output/00_cutting_to_subgrid/\"+file_sampel[:-5]+\"_edit.gpkg\"\n",
    "gpd.GeoDataFrame(res, crs=\"EPSG:4326\", geometry=\"geometry\").to_file(gpd_file_name,driver=\"GPKG\")\n",
    "gcp_file_name=gpd_file_name\n",
    "bucket.blob(\"MLST2023/sample/\"+kdPIC+\"_sample2022_edit.gpkg\").upload_from_filename(gcp_file_name)\n",
    "print(\"DONE !! FILE GPKG EDIT TELAH TERUPLOAD !\")\n",
    "\n",
    "for i in glob.glob(\"ml_output/00_cutting_to_subgrid/*.tif\"):\n",
    "    os.remove(i)\n",
    "    \n",
    "for i in glob.glob(\"ml_output/00_cutting_to_subgrid/*.gpkg\"):\n",
    "    os.remove(i)    \n"
   ]
  }
 ],
 "metadata": {
  "kernelspec": {
   "display_name": "Python 3 (ipykernel)",
   "language": "python",
   "name": "python3"
  },
  "language_info": {
   "codemirror_mode": {
    "name": "ipython",
    "version": 3
   },
   "file_extension": ".py",
   "mimetype": "text/x-python",
   "name": "python",
   "nbconvert_exporter": "python",
   "pygments_lexer": "ipython3",
   "version": "3.8.12"
  }
 },
 "nbformat": 4,
 "nbformat_minor": 5
}
