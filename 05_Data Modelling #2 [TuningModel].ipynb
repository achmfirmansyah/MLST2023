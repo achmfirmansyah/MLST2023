{
 "cells": [
  {
   "cell_type": "code",
   "execution_count": 7,
   "id": "cc01d51e",
   "metadata": {},
   "outputs": [],
   "source": [
    "import pickle5 as pickle\n",
    "pic_='F'\n",
    "tracking_uri_='http://34.128.104.38:5000'"
   ]
  },
  {
   "cell_type": "code",
   "execution_count": null,
   "id": "75c3b93e",
   "metadata": {},
   "outputs": [],
   "source": [
    "print('==============')\n",
    "print('Run Hyperparameter Tuning Catboost')\n",
    "%run -i '05_a_Catboost-Optuna-MLFlow [No Artificial].py'\n",
    "%run -i '05_a_Catboost-Optuna-MLFlow [With Artificial].py'\n",
    "print('DONE')\n",
    "print('==============')"
   ]
  },
  {
   "cell_type": "code",
   "execution_count": null,
   "id": "bdd4807c",
   "metadata": {},
   "outputs": [],
   "source": [
    "print('==============')\n",
    "print('Run Hyperparameter Tuning Catboost')\n",
    "%run -i '05_b_LightGBM-Optuna-MLFlow [No Artifcial].py'\n",
    "%run -i '05_b_LightGBM-Optuna-MLFlow [With Artifcial].py'\n",
    "print('DONE')\n",
    "print('==============')"
   ]
  },
  {
   "cell_type": "code",
   "execution_count": null,
   "id": "fba4a7d2",
   "metadata": {},
   "outputs": [],
   "source": [
    "print('==============')\n",
    "print('Run Hyperparameter Tuning Catboost')\n",
    "%run -i '05_c_RandomForest-Optuna-MLFlow [No Artifcial].py'\n",
    "%run -i '05_c_RandomForest-Optuna-MLFlow [With Artifcial].py'\n",
    "print('DONE')\n",
    "print('==============')"
   ]
  },
  {
   "cell_type": "code",
   "execution_count": 8,
   "id": "5777e859",
   "metadata": {},
   "outputs": [],
   "source": [
    "import mlflow\n",
    "from mlflow.tracking import MlflowClient\n",
    "model_tuning={}"
   ]
  },
  {
   "cell_type": "code",
   "execution_count": 9,
   "id": "3050ade9",
   "metadata": {},
   "outputs": [],
   "source": [
    "client = MlflowClient()\n",
    "experiment = client.get_experiment_by_name(\"Hyper Parameter Tuning\")\n",
    "if experiment!=None:\n",
    "    exp_id=experiment.experiment_id\n",
    "    data_=mlflow.search_runs([exp_id], order_by=[\"metrics.f1_micro DESC\",\"metrics.logloss ASC\",\"metrics.roc_auc_score DESC\"])"
   ]
  },
  {
   "cell_type": "code",
   "execution_count": 11,
   "id": "150300c4",
   "metadata": {},
   "outputs": [],
   "source": [
    "best_cat_no_artificial=data_.loc[(data_['params.algorithm']=='catboost')&\n",
    "                                 (data_['params.strategy']=='no artificial')].iloc[0,:]['run_id']\n",
    "best_cat_no_artificial='runs:/'+best_cat_no_artificial+'/catboost_model'\n",
    "best_cat_no_artificial=mlflow.catboost.load_model(best_cat_no_artificial)\n",
    "\n",
    "best_cat_w_artificial=data_.loc[(data_['params.algorithm']=='catboost')&\n",
    "                                 (data_['params.strategy']=='with artificial')].iloc[0,:]['run_id']\n",
    "best_cat_w_artificial='runs:/'+best_cat_w_artificial+'/catboost_model'\n",
    "best_cat_w_artificial=mlflow.catboost.load_model(best_cat_w_artificial)\n",
    "\n",
    "\n",
    "best_lgb_no_artificial=data_.loc[(data_['params.algorithm']=='lightgbm')&\n",
    "                                 (data_['params.strategy']=='no artificial')].iloc[0,:]['run_id']\n",
    "best_lgb_no_artificial='runs:/'+best_lgb_no_artificial+'/lgbm_model'\n",
    "best_lgb_no_artificial=mlflow.lightgbm.load_model(best_lgb_no_artificial)\n",
    "\n",
    "best_lgb_w_artificial=data_.loc[(data_['params.algorithm']=='lightgbm')&\n",
    "                                 (data_['params.strategy']=='with artificial')].iloc[0,:]['run_id']\n",
    "best_lgb_w_artificial='runs:/'+best_lgb_w_artificial+'/lgbm_model'\n",
    "best_lgb_w_artificial=mlflow.lightgbm.load_model(best_lgb_w_artificial)\n",
    "\n",
    "\n",
    "best_rf_no_artificial=data_.loc[(data_['params.algorithm']=='randomforest')&\n",
    "                                 (data_['params.strategy']=='no artificial')].iloc[0,:]['run_id']\n",
    "best_rf_no_artificial='runs:/'+best_rf_no_artificial+'/rf_model'\n",
    "best_rf_no_artificial=mlflow.sklearn.load_model(best_rf_no_artificial)\n",
    "\n",
    "best_rf_w_artificial=data_.loc[(data_['params.algorithm']=='randomforest')&\n",
    "                                 (data_['params.strategy']=='with artificial')].iloc[0,:]['run_id']\n",
    "best_rf_w_artificial='runs:/'+best_rf_w_artificial+'/rf_model'\n",
    "best_rf_w_artificial=mlflow.sklearn.load_model(best_rf_w_artificial)"
   ]
  },
  {
   "cell_type": "code",
   "execution_count": 14,
   "id": "1cc9edcf",
   "metadata": {},
   "outputs": [],
   "source": [
    "model_tuning['catboost_wo_na']=best_cat_no_artificial\n",
    "model_tuning['lightgbm_wo_na']=best_lgb_no_artificial\n",
    "model_tuning['randomforest_wo_na']=best_rf_no_artificial\n",
    "\n",
    "model_tuning['catboost_w_a']=best_cat_w_artificial\n",
    "model_tuning['lightgbm_w_a']=best_lgb_w_artificial\n",
    "model_tuning['randomforest_w_a']=best_rf_w_artificial\n",
    "\n",
    "with open('ml_output/04_05_modeling/tuning/model_tuned.pickle', 'wb') as handle:\n",
    "    pickle.dump(model_tuning, handle, protocol=pickle.HIGHEST_PROTOCOL)"
   ]
  },
  {
   "cell_type": "code",
   "execution_count": 15,
   "id": "4f666040",
   "metadata": {},
   "outputs": [],
   "source": [
    "import os\n",
    "from google.cloud import storage\n",
    "client = storage.Client()\n",
    "os.environ['GOOGLE_APPLICATION_CREDENTIALS'] = r'config/gcp_store.json'\n",
    "bucket = client.get_bucket('bps-gcp-bucket')\n",
    "file_name='MLST2023/model/tuning-model/'+pic_+'_tuning.pickle'\n",
    "bucket.blob(file_name).upload_from_filename('ml_output/05_trials_hypertuning/model_tuned.pickle')"
   ]
  }
 ],
 "metadata": {
  "kernelspec": {
   "display_name": "Python 3 (ipykernel)",
   "language": "python",
   "name": "python3"
  },
  "language_info": {
   "codemirror_mode": {
    "name": "ipython",
    "version": 3
   },
   "file_extension": ".py",
   "mimetype": "text/x-python",
   "name": "python",
   "nbconvert_exporter": "python",
   "pygments_lexer": "ipython3",
   "version": "3.8.12"
  }
 },
 "nbformat": 4,
 "nbformat_minor": 5
}
