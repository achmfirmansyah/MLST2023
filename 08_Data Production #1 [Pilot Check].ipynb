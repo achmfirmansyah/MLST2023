{
 "cells": [
  {
   "cell_type": "code",
   "execution_count": 1,
   "id": "796d746c",
   "metadata": {},
   "outputs": [
    {
     "name": "stderr",
     "output_type": "stream",
     "text": [
      "/home/jupyter-peta_admin/.local/lib/python3.8/site-packages/geopandas/_compat.py:112: UserWarning: The Shapely GEOS version (3.10.2-CAPI-1.16.0) is incompatible with the GEOS version PyGEOS was compiled with (3.11.0-CAPI-1.17.0). Conversions between both will be slow.\n",
      "  warnings.warn(\n"
     ]
    }
   ],
   "source": [
    "from itertools import repeat\n",
    "import pickle5 as pickle\n",
    "import pandas as pd\n",
    "from geocube.api.core import make_geocube\n",
    "from geocube.rasterize import rasterize_points_griddata, rasterize_points_radial\n",
    "import rioxarray as rio\n",
    "import rasterio\n",
    "import numpy as np\n",
    "import geopandas as gpd\n",
    "from multiprocessing import Pool\n",
    "import os\n",
    "from rasterio.merge import merge\n",
    "from itertools import product\n",
    "from glob import glob\n",
    "from pathlib import Path\n"
   ]
  },
  {
   "cell_type": "code",
   "execution_count": 2,
   "id": "901544d6",
   "metadata": {},
   "outputs": [],
   "source": [
    "from omegaconf import DictConfig,OmegaConf\n",
    "conf = OmegaConf.load('config/config.yaml')\n",
    "pic_=conf['config']['pic_']"
   ]
  },
  {
   "cell_type": "code",
   "execution_count": 3,
   "id": "3269d0f8",
   "metadata": {},
   "outputs": [],
   "source": [
    "grid = gpd.read_file(\"gs://bps-gcp-bucket/MLST2023/sample/Grid_Ekoreg_2022.gpkg\").query('kdPIC=='+'\\\"'+pic_+'\\\"')"
   ]
  },
  {
   "cell_type": "code",
   "execution_count": 4,
   "id": "e2a60924",
   "metadata": {},
   "outputs": [
    {
     "data": {
      "text/plain": [
       "Index(['left', 'top', 'right', 'bottom', 'ID_GRID', 'identify_1', 'layer',\n",
       "       'path', 'Bentuklahan', 'Kd_BL', 'Kd_Pulau', 'Nm_Pulau', 'Ekoregion1',\n",
       "       'Kd_Ekoreg', 'kdPIC_old', 'kdPIC', 'geometry'],\n",
       "      dtype='object')"
      ]
     },
     "execution_count": 4,
     "metadata": {},
     "output_type": "execute_result"
    }
   ],
   "source": [
    "grid.columns"
   ]
  },
  {
   "cell_type": "code",
   "execution_count": 6,
   "id": "a86b8f0b",
   "metadata": {},
   "outputs": [],
   "source": [
    "from google.cloud import storage"
   ]
  },
  {
   "cell_type": "code",
   "execution_count": 11,
   "id": "e26c50af",
   "metadata": {},
   "outputs": [],
   "source": [
    "def upload_blob(bucket_name, source_file_name, destination_blob_name):\n",
    "    \"\"\"Uploads a file to the bucket.\"\"\"\n",
    "    storage_client = storage.Client()\n",
    "    bucket = storage_client.bucket(bucket_name)\n",
    "    blob = bucket.blob(destination_blob_name)\n",
    "\n",
    "    blob.upload_from_filename(source_file_name)\n",
    "\n",
    "    print(\n",
    "        f\"File {source_file_name} uploaded to {destination_blob_name}.\"\n",
    "    )"
   ]
  },
  {
   "cell_type": "code",
   "execution_count": 14,
   "id": "45805cc5",
   "metadata": {},
   "outputs": [],
   "source": [
    "upload_result=glob('ml_output/08_class_result/result/classified_*')"
   ]
  },
  {
   "cell_type": "code",
   "execution_count": 17,
   "id": "c01415e4",
   "metadata": {},
   "outputs": [
    {
     "name": "stdout",
     "output_type": "stream",
     "text": [
      "File ml_output/08_class_result/result/classified_ID-3129.tif uploaded to MLST2023/result/classified_ID-3129.tif.\n",
      "File ml_output/08_class_result/result/classified_ID-3130.tif uploaded to MLST2023/result/classified_ID-3130.tif.\n",
      "File ml_output/08_class_result/result/classified_ID-3044.tif uploaded to MLST2023/result/classified_ID-3044.tif.\n",
      "File ml_output/08_class_result/result/classified_ID-3128.tif uploaded to MLST2023/result/classified_ID-3128.tif.\n",
      "File ml_output/08_class_result/result/classified_ID-2999.tif uploaded to MLST2023/result/classified_ID-2999.tif.\n",
      "File ml_output/08_class_result/result/classified_ID-3087.tif uploaded to MLST2023/result/classified_ID-3087.tif.\n",
      "File ml_output/08_class_result/result/classified_ID-3000.tif uploaded to MLST2023/result/classified_ID-3000.tif.\n",
      "File ml_output/08_class_result/result/classified_ID-3043.tif uploaded to MLST2023/result/classified_ID-3043.tif.\n",
      "File ml_output/08_class_result/result/classified_ID-3086.tif uploaded to MLST2023/result/classified_ID-3086.tif.\n",
      "File ml_output/08_class_result/result/classified_ID-3045.tif uploaded to MLST2023/result/classified_ID-3045.tif.\n"
     ]
    }
   ],
   "source": [
    "for i in upload_result:\n",
    "    y_=i.split('/')[-1]\n",
    "    upload_blob('bps-gcp-bucket',i,'MLST2023/result/'+y_)"
   ]
  },
  {
   "cell_type": "code",
   "execution_count": 18,
   "id": "81a73016",
   "metadata": {},
   "outputs": [],
   "source": [
    "\n",
    "client = storage.Client()\n",
    "ls_=list(client.list_blobs('bps-gcp-bucket', prefix='MLST2023/result'))"
   ]
  },
  {
   "cell_type": "code",
   "execution_count": 24,
   "id": "073e3b90",
   "metadata": {},
   "outputs": [],
   "source": [
    "result_done=[str(i).split('/')[-1].split(',')[0] for i in ls_ if str(i).split('/')[-1].split(',')[0]!='']"
   ]
  },
  {
   "cell_type": "code",
   "execution_count": 25,
   "id": "87477315",
   "metadata": {},
   "outputs": [],
   "source": [
    "def run_data(idgrid):\n",
    "    tif_name='classified_'+str(idgrid)+'.tif'\n",
    "    if tif_name not in result_done:\n",
    "        run='python3 08_Production.py '+str(idgrid)\n",
    "        !{run}\n",
    "    else:\n",
    "        print(idgrid,' is already classified. skip the process.')"
   ]
  },
  {
   "cell_type": "code",
   "execution_count": null,
   "id": "9a0218d3",
   "metadata": {},
   "outputs": [
    {
     "name": "stdout",
     "output_type": "stream",
     "text": [
      "ID-2999  is already classified. skip the process.\n",
      "File ml_output/08_class_result/result/classified_ID-3129.tif uploaded to MLST2023/result/classified_ID-3129.tif.\n",
      "File ml_output/08_class_result/result/classified_ID-3130.tif uploaded to MLST2023/result/classified_ID-3130.tif.\n",
      "File ml_output/08_class_result/result/classified_ID-3044.tif uploaded to MLST2023/result/classified_ID-3044.tif.\n",
      "File ml_output/08_class_result/result/classified_ID-3128.tif uploaded to MLST2023/result/classified_ID-3128.tif.\n",
      "File ml_output/08_class_result/result/classified_ID-2999.tif uploaded to MLST2023/result/classified_ID-2999.tif.\n",
      "File ml_output/08_class_result/result/classified_ID-3087.tif uploaded to MLST2023/result/classified_ID-3087.tif.\n",
      "File ml_output/08_class_result/result/classified_ID-3000.tif uploaded to MLST2023/result/classified_ID-3000.tif.\n",
      "File ml_output/08_class_result/result/classified_ID-3043.tif uploaded to MLST2023/result/classified_ID-3043.tif.\n",
      "File ml_output/08_class_result/result/classified_ID-3086.tif uploaded to MLST2023/result/classified_ID-3086.tif.\n",
      "File ml_output/08_class_result/result/classified_ID-3045.tif uploaded to MLST2023/result/classified_ID-3045.tif.\n",
      "ID-3000  is already classified. skip the process.\n",
      "ID-3043  is already classified. skip the process.\n",
      "ID-3044  is already classified. skip the process.\n",
      "ID-3045  is already classified. skip the process.\n",
      "ID-3086  is already classified. skip the process.\n",
      "ID-3087  is already classified. skip the process.\n",
      "ID-3128  is already classified. skip the process.\n",
      "ID-3129  is already classified. skip the process.\n",
      "ID-3130  is already classified. skip the process.\n",
      "/home/jupyter-peta_admin/.local/lib/python3.8/site-packages/geopandas/_compat.py:112: UserWarning: The Shapely GEOS version (3.10.2-CAPI-1.16.0) is incompatible with the GEOS version PyGEOS was compiled with (3.11.0-CAPI-1.17.0). Conversions between both will be slow.\n",
      "  warnings.warn(\n",
      "ml_output/08_class_result/result/classified_ID-3172.tif Done\n",
      "/home/jupyter-peta_admin/.local/lib/python3.8/site-packages/geopandas/_compat.py:112: UserWarning: The Shapely GEOS version (3.10.2-CAPI-1.16.0) is incompatible with the GEOS version PyGEOS was compiled with (3.11.0-CAPI-1.17.0). Conversions between both will be slow.\n",
      "  warnings.warn(\n",
      "ml_output/08_class_result/result/classified_ID-3173.tif Done\n",
      "/home/jupyter-peta_admin/.local/lib/python3.8/site-packages/geopandas/_compat.py:112: UserWarning: The Shapely GEOS version (3.10.2-CAPI-1.16.0) is incompatible with the GEOS version PyGEOS was compiled with (3.11.0-CAPI-1.17.0). Conversions between both will be slow.\n",
      "  warnings.warn(\n",
      "ml_output/08_class_result/result/classified_ID-3174.tif Done\n",
      "/home/jupyter-peta_admin/.local/lib/python3.8/site-packages/geopandas/_compat.py:112: UserWarning: The Shapely GEOS version (3.10.2-CAPI-1.16.0) is incompatible with the GEOS version PyGEOS was compiled with (3.11.0-CAPI-1.17.0). Conversions between both will be slow.\n",
      "  warnings.warn(\n"
     ]
    }
   ],
   "source": [
    "for i in grid.ID_GRID.tolist()[:50]:\n",
    "    run_data(i)\n",
    "    upload_result=glob('ml_output/08_class_result/result/classified_*')\n",
    "    if len(upload_result)>=10:\n",
    "        for j in upload_result:\n",
    "            y_=j.split('/')[-1]\n",
    "            upload_blob('bps-gcp-bucket',j,'MLST2023/result/'+y_)\n",
    "            os.remove(j)"
   ]
  },
  {
   "cell_type": "code",
   "execution_count": null,
   "id": "de8fd789",
   "metadata": {},
   "outputs": [],
   "source": [
    "#with Pool(28) as p:\n",
    "#    p.map(run_data,grid.ID_GRID.tolist()[:1])"
   ]
  }
 ],
 "metadata": {
  "kernelspec": {
   "display_name": "Python 3 (ipykernel)",
   "language": "python",
   "name": "python3"
  },
  "language_info": {
   "codemirror_mode": {
    "name": "ipython",
    "version": 3
   },
   "file_extension": ".py",
   "mimetype": "text/x-python",
   "name": "python",
   "nbconvert_exporter": "python",
   "pygments_lexer": "ipython3",
   "version": "3.8.12"
  }
 },
 "nbformat": 4,
 "nbformat_minor": 5
}
