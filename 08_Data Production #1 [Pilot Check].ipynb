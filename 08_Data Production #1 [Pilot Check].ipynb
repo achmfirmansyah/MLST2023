{
 "cells": [
  {
   "cell_type": "code",
   "execution_count": 14,
   "id": "796d746c",
   "metadata": {},
   "outputs": [],
   "source": [
    "from itertools import repeat\n",
    "import pickle5 as pickle\n",
    "import pandas as pd\n",
    "from geocube.api.core import make_geocube\n",
    "from geocube.rasterize import rasterize_points_griddata, rasterize_points_radial\n",
    "import rioxarray as rio\n",
    "import rasterio\n",
    "import numpy as np\n",
    "import geopandas as gpd\n",
    "from multiprocessing import Pool\n",
    "import os\n",
    "from rasterio.merge import merge\n",
    "from itertools import product\n",
    "from glob import glob\n",
    "from pathlib import Path\n"
   ]
  },
  {
   "cell_type": "code",
   "execution_count": 4,
   "id": "901544d6",
   "metadata": {},
   "outputs": [],
   "source": [
    "from omegaconf import DictConfig,OmegaConf\n",
    "conf = OmegaConf.load('config/config.yaml')\n",
    "pic_=conf['config']['pic_']"
   ]
  },
  {
   "cell_type": "code",
   "execution_count": 5,
   "id": "3269d0f8",
   "metadata": {},
   "outputs": [],
   "source": [
    "grid = gpd.read_file(\"gs://bps-gcp-bucket/MLST2023/sample/Grid_Ekoreg_2022.gpkg\").query('kdPIC=='+'\\\"'+pic_+'\\\"')"
   ]
  },
  {
   "cell_type": "code",
   "execution_count": 9,
   "id": "e2a60924",
   "metadata": {},
   "outputs": [
    {
     "data": {
      "text/plain": [
       "Index(['left', 'top', 'right', 'bottom', 'ID_GRID', 'identify_1', 'layer',\n",
       "       'path', 'Bentuklahan', 'Kd_BL', 'Kd_Pulau', 'Nm_Pulau', 'Ekoregion1',\n",
       "       'Kd_Ekoreg', 'kdPIC_old', 'kdPIC', 'geometry'],\n",
       "      dtype='object')"
      ]
     },
     "execution_count": 9,
     "metadata": {},
     "output_type": "execute_result"
    }
   ],
   "source": [
    "grid.columns"
   ]
  },
  {
   "cell_type": "code",
   "execution_count": 18,
   "id": "87477315",
   "metadata": {},
   "outputs": [],
   "source": [
    "def run_data(idgrid):\n",
    "    tif_name='ml_output/08_class_result/result/classified_'+str(idgrid)+'.tif'\n",
    "    if Path(tif_name).is_file()==False:\n",
    "        run='python3 08_Production.py '+str(idgrid)\n",
    "        !{run}\n",
    "    else:\n",
    "        print(idgrid,' is already classified. skip the process.')"
   ]
  },
  {
   "cell_type": "code",
   "execution_count": null,
   "id": "de8fd789",
   "metadata": {},
   "outputs": [],
   "source": [
    "with Pool(28) as p:\n",
    "    p.map(run_data,grid.ID_GRID)"
   ]
  }
 ],
 "metadata": {
  "kernelspec": {
   "display_name": "Python 3 (ipykernel)",
   "language": "python",
   "name": "python3"
  },
  "language_info": {
   "codemirror_mode": {
    "name": "ipython",
    "version": 3
   },
   "file_extension": ".py",
   "mimetype": "text/x-python",
   "name": "python",
   "nbconvert_exporter": "python",
   "pygments_lexer": "ipython3",
   "version": "3.8.12"
  }
 },
 "nbformat": 4,
 "nbformat_minor": 5
}
