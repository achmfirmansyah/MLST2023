{
 "cells": [
  {
   "cell_type": "markdown",
   "id": "ce9c3a9b",
   "metadata": {},
   "source": [
    "#### [00] Importing Data"
   ]
  },
  {
   "cell_type": "code",
   "execution_count": 43,
   "id": "caaf77fe",
   "metadata": {},
   "outputs": [],
   "source": [
    "import pandas as pd\n",
    "import seaborn as sns\n",
    "import matplotlib.pyplot as plt\n",
    "\n",
    "\n",
    "from imblearn.under_sampling import RandomUnderSampler\n",
    "from imblearn.under_sampling import TomekLinks \n",
    "from imblearn.under_sampling import EditedNearestNeighbours \n",
    "\n",
    "from imblearn.over_sampling import SMOTE\n",
    "from imblearn.over_sampling import BorderlineSMOTE "
   ]
  },
  {
   "cell_type": "markdown",
   "id": "2b1047c6",
   "metadata": {},
   "source": [
    "**!! Edit kdPIC parameter**\n",
    "\n",
    "specify the \"kdPIC\" and the band that would be calculated"
   ]
  },
  {
   "cell_type": "code",
   "execution_count": 2,
   "id": "ffb4aa91",
   "metadata": {},
   "outputs": [],
   "source": [
    "\n",
    "from omegaconf import DictConfig,OmegaConf\n",
    "conf = OmegaConf.load('config/config.yaml')\n",
    "kdPIC=conf['config']['pic_']"
   ]
  },
  {
   "cell_type": "markdown",
   "id": "4ac5cc0c",
   "metadata": {},
   "source": [
    "#### [01] Under dan Over Sampling Function Definition"
   ]
  },
  {
   "cell_type": "code",
   "execution_count": 67,
   "id": "ee83e173",
   "metadata": {},
   "outputs": [],
   "source": [
    "standard_=['B1_p15','B2_p15','B3_p15','B4_p15','B5_p15','B6_p15','B7_p15',\n",
    "          'B8_p15','B8A_p15','B11_p15','B12_p15','NDVI_p50','NDWI_p50','NDBI_p50','SAVI_p50',\n",
    "          'EVI_p50','GNDVI_p50']\n",
    "\n",
    "def ratio_multiplier(y):\n",
    "    from collections import Counter\n",
    "\n",
    "    multiplier = strategy_under2\n",
    "    target_stats = Counter(y)\n",
    "    for key, value in target_stats.items():\n",
    "        if key in multiplier:\n",
    "            target_stats[key] = int(value * multiplier[key])\n",
    "    return target_stats\n",
    "\n",
    "def finalise(X,y):\n",
    "    res = X.copy()\n",
    "    res['nama_valid'] = y\n",
    "    return res\n",
    "\n",
    "def create_dataset(name_file):\n",
    "    global df_sample\n",
    "    global X_res_tl_s\n",
    "    \n",
    "    gs_folder = \"gs://bps-gcp-bucket/MLST2023/preprocessing/\"\n",
    "    df_sample = pd.read_csv(gs_folder+name_file)\n",
    "    \n",
    "    y = df_sample.nama_valid\n",
    "    X = df_sample[['B1_p15', 'B2_p15', 'B3_p15',\n",
    "           'B4_p15', 'B5_p15', 'B6_p15', 'B7_p15', 'B8_p15', 'B8A_p15', 'B11_p15',\n",
    "           'B12_p15', 'NDVI_p50', 'NDWI_p50', 'NDBI_p50', 'SAVI_p50', 'EVI_p50',\n",
    "           'GNDVI_p50']]\n",
    "\n",
    "    n = df_sample.groupby(\"nama_valid\").nama_valid.count()\n",
    "    ntmp = y.value_counts().median()\n",
    "    nmean=int(0.8*ntmp)\n",
    "    \n",
    "    up_=n[n>int(1.3*nmean)]\n",
    "    under_=n[n<int(0.7*nmean)]\n",
    "    another_=n[(n<=int(1.3*nmean))&(n>=int(0.7*nmean))]\n",
    "    \n",
    "    strategy_upper = dict(zip(under_.index, [int(0.7*nmean)]*len(under_)))\n",
    "    strategy_under = dict(zip(up_.index, [int(1.3*nmean)]*len(up_)))\n",
    "    strategy_ = dict(zip(another_.index, another_))\n",
    "       \n",
    "    tl_ = TomekLinks('majority')\n",
    "    enn_ = EditedNearestNeighbours('majority')\n",
    "    rus_ = RandomUnderSampler(sampling_strategy=strategy_under)\n",
    "\n",
    "    X_tl, y_tl = tl_.fit_resample(X, y)\n",
    "    X_enn, y_enn = enn_.fit_resample(X, y)\n",
    "\n",
    "    X_res_tl, y_res_tl = rus_.fit_resample(X_tl, y_tl)\n",
    "    X_res_enn, y_res_enn = rus_.fit_resample(X_enn, y_enn)\n",
    "\n",
    "    smote_ = SMOTE(sampling_strategy=strategy_upper)\n",
    "    B_smote_ = BorderlineSMOTE(sampling_strategy=strategy_upper)\n",
    "\n",
    "    X_res_tl_s, y_res_tl_s = smote_.fit_resample(X_res_tl, y_res_tl)\n",
    "    X_res_enn_s, y_res_enn_s = smote_.fit_resample(X_res_enn, y_res_enn)\n",
    "\n",
    "    X_res_tl_bs, y_res_tl_bs = B_smote_.fit_resample(X_res_tl, y_res_tl)\n",
    "    X_res_enn_bs, y_res_enn_bs = B_smote_.fit_resample(X_res_enn, y_res_enn)\n",
    "  \n",
    "    finalise(X_res_tl_s, y_res_tl_s).to_csv(gs_folder+name_file[:-4]+\"_tl_smote.csv\", index=False)\n",
    "    finalise(X_res_tl_bs, y_res_tl_bs).to_csv(gs_folder+name_file[:-4]+\"_tl_border_smote.csv\", index=False)\n",
    "    finalise(X_res_enn_s, y_res_enn_s).to_csv(gs_folder+name_file[:-4]+\"_enn_smote.csv\", index=False)\n",
    "    finalise(X_res_enn_bs, y_res_enn_bs).to_csv(gs_folder+name_file[:-4]+\"_enn_border_smote.csv\", index=False)\n",
    "    \n",
    "    df_sample['ket'] = 'asli'\n",
    "    X_res_tl_s['ket'] = 'sintetik'\n",
    "    X_res_tl_s['nama_valid'] = y_res_tl_s"
   ]
  },
  {
   "cell_type": "markdown",
   "id": "11b6546a",
   "metadata": {},
   "source": [
    "#### [02] Running Under dan Over Sampling"
   ]
  },
  {
   "cell_type": "code",
   "execution_count": 68,
   "id": "4febebd4",
   "metadata": {
    "scrolled": true
   },
   "outputs": [
    {
     "name": "stderr",
     "output_type": "stream",
     "text": [
      "/home/jupyter-peta_admin/.local/lib/python3.8/site-packages/imblearn/utils/_validation.py:586: FutureWarning: Pass sampling_strategy=majority as keyword args. From version 0.9 passing these as positional arguments will result in an error\n",
      "  warnings.warn(\n",
      "/tmp/ipykernel_5149/3542957802.py:7: FutureWarning: The frame.append method is deprecated and will be removed from pandas in a future version. Use pandas.concat instead.\n",
      "  df_all = df_all.append(X_res_tl_s)\n",
      "/home/jupyter-peta_admin/.local/lib/python3.8/site-packages/imblearn/utils/_validation.py:586: FutureWarning: Pass sampling_strategy=majority as keyword args. From version 0.9 passing these as positional arguments will result in an error\n",
      "  warnings.warn(\n",
      "/tmp/ipykernel_5149/3542957802.py:10: FutureWarning: The frame.append method is deprecated and will be removed from pandas in a future version. Use pandas.concat instead.\n",
      "  df_all_no_outlier = df_all_no_outlier.append(X_res_tl_s)\n"
     ]
    }
   ],
   "source": [
    "name_file = [\"sample_\"+kdPIC+\".csv\",\n",
    "             \"sample_\"+kdPIC+\"_no_outlier.csv\"]\n",
    "for i in name_file: \n",
    "    create_dataset(i)\n",
    "    if(i == name_file[0]):\n",
    "        df_all = df_sample\n",
    "        df_all = df_all.append(X_res_tl_s)\n",
    "    else:\n",
    "        df_all_no_outlier = df_sample\n",
    "        df_all_no_outlier = df_all_no_outlier.append(X_res_tl_s)\n",
    "    "
   ]
  },
  {
   "cell_type": "markdown",
   "id": "91a67207",
   "metadata": {},
   "source": [
    "#### [03] Perbandingan Jumlah Landmark per Kategori"
   ]
  },
  {
   "cell_type": "markdown",
   "id": "62989d08",
   "metadata": {},
   "source": [
    "**Data dengan Outlier**"
   ]
  },
  {
   "cell_type": "code",
   "execution_count": 82,
   "id": "b85fbac8",
   "metadata": {},
   "outputs": [
    {
     "data": {
      "text/html": [
       "<div>\n",
       "<style scoped>\n",
       "    .dataframe tbody tr th:only-of-type {\n",
       "        vertical-align: middle;\n",
       "    }\n",
       "\n",
       "    .dataframe tbody tr th {\n",
       "        vertical-align: top;\n",
       "    }\n",
       "\n",
       "    .dataframe thead th {\n",
       "        text-align: right;\n",
       "    }\n",
       "</style>\n",
       "<table border=\"1\" class=\"dataframe\">\n",
       "  <thead>\n",
       "    <tr style=\"text-align: right;\">\n",
       "      <th>ket</th>\n",
       "      <th>asli</th>\n",
       "      <th>sintetik</th>\n",
       "    </tr>\n",
       "    <tr>\n",
       "      <th>nama_valid</th>\n",
       "      <th></th>\n",
       "      <th></th>\n",
       "    </tr>\n",
       "  </thead>\n",
       "  <tbody>\n",
       "    <tr>\n",
       "      <th>100101</th>\n",
       "      <td>38479</td>\n",
       "      <td>1652</td>\n",
       "    </tr>\n",
       "    <tr>\n",
       "      <th>100102</th>\n",
       "      <td>7157</td>\n",
       "      <td>1652</td>\n",
       "    </tr>\n",
       "    <tr>\n",
       "      <th>100107</th>\n",
       "      <td>3791</td>\n",
       "      <td>1652</td>\n",
       "    </tr>\n",
       "    <tr>\n",
       "      <th>100108</th>\n",
       "      <td>8690</td>\n",
       "      <td>1652</td>\n",
       "    </tr>\n",
       "    <tr>\n",
       "      <th>100201</th>\n",
       "      <td>1971</td>\n",
       "      <td>1652</td>\n",
       "    </tr>\n",
       "    <tr>\n",
       "      <th>100202</th>\n",
       "      <td>621</td>\n",
       "      <td>889</td>\n",
       "    </tr>\n",
       "    <tr>\n",
       "      <th>100203</th>\n",
       "      <td>1207</td>\n",
       "      <td>1207</td>\n",
       "    </tr>\n",
       "    <tr>\n",
       "      <th>100204</th>\n",
       "      <td>480</td>\n",
       "      <td>889</td>\n",
       "    </tr>\n",
       "    <tr>\n",
       "      <th>100205</th>\n",
       "      <td>17126</td>\n",
       "      <td>1652</td>\n",
       "    </tr>\n",
       "    <tr>\n",
       "      <th>100206</th>\n",
       "      <td>415</td>\n",
       "      <td>889</td>\n",
       "    </tr>\n",
       "    <tr>\n",
       "      <th>100301</th>\n",
       "      <td>195</td>\n",
       "      <td>889</td>\n",
       "    </tr>\n",
       "    <tr>\n",
       "      <th>100302</th>\n",
       "      <td>440</td>\n",
       "      <td>889</td>\n",
       "    </tr>\n",
       "  </tbody>\n",
       "</table>\n",
       "</div>"
      ],
      "text/plain": [
       "ket          asli  sintetik\n",
       "nama_valid                 \n",
       "100101      38479      1652\n",
       "100102       7157      1652\n",
       "100107       3791      1652\n",
       "100108       8690      1652\n",
       "100201       1971      1652\n",
       "100202        621       889\n",
       "100203       1207      1207\n",
       "100204        480       889\n",
       "100205      17126      1652\n",
       "100206        415       889\n",
       "100301        195       889\n",
       "100302        440       889"
      ]
     },
     "execution_count": 82,
     "metadata": {},
     "output_type": "execute_result"
    }
   ],
   "source": [
    "pd.pivot_table(df_all, values='B1_p15', index='nama_valid', columns='ket',\n",
    "               aggfunc='count')"
   ]
  },
  {
   "cell_type": "code",
   "execution_count": 88,
   "id": "b8c48390",
   "metadata": {},
   "outputs": [
    {
     "data": {
      "text/plain": [
       "[]"
      ]
     },
     "execution_count": 88,
     "metadata": {},
     "output_type": "execute_result"
    },
    {
     "data": {
      "image/png": "[encoded data removed]",
      "text/plain": [
       "<Figure size 864x576 with 1 Axes>"
      ]
     },
     "metadata": {
      "needs_background": "light"
     },
     "output_type": "display_data"
    }
   ],
   "source": [
    "plt.figure(figsize=(12, 8))\n",
    "sns.countplot(x='nama_valid',hue='ket',data=df_all)\n",
    "plt.title(\"Total Landmark by Outlier - Data with Outlier\")\n",
    "plt.xticks(rotation=45, ha='right')\n",
    "plt.savefig('ml_output/03_over_and_under_sampling/count_plot_oversampling_w_outlier.png')\n",
    "plt.plot()"
   ]
  },
  {
   "cell_type": "markdown",
   "id": "140e48cf",
   "metadata": {},
   "source": [
    "**Data tanpa Outlier**"
   ]
  },
  {
   "cell_type": "code",
   "execution_count": 83,
   "id": "bb7393e0",
   "metadata": {},
   "outputs": [
    {
     "data": {
      "text/html": [
       "<div>\n",
       "<style scoped>\n",
       "    .dataframe tbody tr th:only-of-type {\n",
       "        vertical-align: middle;\n",
       "    }\n",
       "\n",
       "    .dataframe tbody tr th {\n",
       "        vertical-align: top;\n",
       "    }\n",
       "\n",
       "    .dataframe thead th {\n",
       "        text-align: right;\n",
       "    }\n",
       "</style>\n",
       "<table border=\"1\" class=\"dataframe\">\n",
       "  <thead>\n",
       "    <tr style=\"text-align: right;\">\n",
       "      <th>ket</th>\n",
       "      <th>asli</th>\n",
       "      <th>sintetik</th>\n",
       "    </tr>\n",
       "    <tr>\n",
       "      <th>nama_valid</th>\n",
       "      <th></th>\n",
       "      <th></th>\n",
       "    </tr>\n",
       "  </thead>\n",
       "  <tbody>\n",
       "    <tr>\n",
       "      <th>100101</th>\n",
       "      <td>35302</td>\n",
       "      <td>1475</td>\n",
       "    </tr>\n",
       "    <tr>\n",
       "      <th>100102</th>\n",
       "      <td>6571</td>\n",
       "      <td>1475</td>\n",
       "    </tr>\n",
       "    <tr>\n",
       "      <th>100107</th>\n",
       "      <td>3365</td>\n",
       "      <td>1475</td>\n",
       "    </tr>\n",
       "    <tr>\n",
       "      <th>100108</th>\n",
       "      <td>7605</td>\n",
       "      <td>1475</td>\n",
       "    </tr>\n",
       "    <tr>\n",
       "      <th>100201</th>\n",
       "      <td>1773</td>\n",
       "      <td>1475</td>\n",
       "    </tr>\n",
       "    <tr>\n",
       "      <th>100202</th>\n",
       "      <td>528</td>\n",
       "      <td>794</td>\n",
       "    </tr>\n",
       "    <tr>\n",
       "      <th>100203</th>\n",
       "      <td>1066</td>\n",
       "      <td>1066</td>\n",
       "    </tr>\n",
       "    <tr>\n",
       "      <th>100204</th>\n",
       "      <td>406</td>\n",
       "      <td>794</td>\n",
       "    </tr>\n",
       "    <tr>\n",
       "      <th>100205</th>\n",
       "      <td>15255</td>\n",
       "      <td>1475</td>\n",
       "    </tr>\n",
       "    <tr>\n",
       "      <th>100206</th>\n",
       "      <td>323</td>\n",
       "      <td>794</td>\n",
       "    </tr>\n",
       "    <tr>\n",
       "      <th>100301</th>\n",
       "      <td>152</td>\n",
       "      <td>794</td>\n",
       "    </tr>\n",
       "    <tr>\n",
       "      <th>100302</th>\n",
       "      <td>361</td>\n",
       "      <td>794</td>\n",
       "    </tr>\n",
       "  </tbody>\n",
       "</table>\n",
       "</div>"
      ],
      "text/plain": [
       "ket          asli  sintetik\n",
       "nama_valid                 \n",
       "100101      35302      1475\n",
       "100102       6571      1475\n",
       "100107       3365      1475\n",
       "100108       7605      1475\n",
       "100201       1773      1475\n",
       "100202        528       794\n",
       "100203       1066      1066\n",
       "100204        406       794\n",
       "100205      15255      1475\n",
       "100206        323       794\n",
       "100301        152       794\n",
       "100302        361       794"
      ]
     },
     "execution_count": 83,
     "metadata": {},
     "output_type": "execute_result"
    }
   ],
   "source": [
    "pd.pivot_table(df_all_no_outlier, values='B1_p15', index='nama_valid', columns='ket',\n",
    "               aggfunc='count')"
   ]
  },
  {
   "cell_type": "code",
   "execution_count": 87,
   "id": "5b512c95",
   "metadata": {},
   "outputs": [
    {
     "data": {
      "text/plain": [
       "[]"
      ]
     },
     "execution_count": 87,
     "metadata": {},
     "output_type": "execute_result"
    },
    {
     "data": {
      "image/png": "[encoded data removed]",
      "text/plain": [
       "<Figure size 864x576 with 1 Axes>"
      ]
     },
     "metadata": {
      "needs_background": "light"
     },
     "output_type": "display_data"
    }
   ],
   "source": [
    "plt.figure(figsize=(12, 8))\n",
    "sns.countplot(x='nama_valid',hue='ket',data=df_all_no_outlier)\n",
    "plt.title(\"Total Landmark by Outlier - Data without Outlier\")\n",
    "plt.xticks(rotation=45, ha='right')\n",
    "plt.savefig('ml_output/03_over_and_under_sampling/count_plot_oversampling_wo_outlier.png')\n",
    "plt.plot()"
   ]
  }
 ],
 "metadata": {
  "kernelspec": {
   "display_name": "Python 3 (ipykernel)",
   "language": "python",
   "name": "python3"
  },
  "language_info": {
   "codemirror_mode": {
    "name": "ipython",
    "version": 3
   },
   "file_extension": ".py",
   "mimetype": "text/x-python",
   "name": "python",
   "nbconvert_exporter": "python",
   "pygments_lexer": "ipython3",
   "version": "3.8.12"
  }
 },
 "nbformat": 4,
 "nbformat_minor": 5
}
