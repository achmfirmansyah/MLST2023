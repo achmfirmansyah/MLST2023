{
 "cells": [
  {
   "cell_type": "markdown",
   "id": "467a2d58",
   "metadata": {},
   "source": [
    "#### [00] Importing packages\n",
    "\n",
    "import several packages that would be used for acquiring sample data."
   ]
  },
  {
   "cell_type": "code",
   "execution_count": 1,
   "id": "5d9504cf",
   "metadata": {},
   "outputs": [],
   "source": [
    "import pandas as pd \n",
    "import numpy as np\n",
    "\n",
    "import geopandas as gpd\n",
    "import rasterio \n",
    "from rasterstats import zonal_stats\n",
    "\n",
    "from multiprocessing import Pool,Process\n",
    "\n",
    "import gcsfs\n",
    "\n",
    "from glob import glob\n",
    "\n",
    "import pathlib\n",
    "\n",
    "import warnings\n",
    "warnings.filterwarnings(\"ignore\")\n",
    "\n",
    "from omegaconf import DictConfig,OmegaConf"
   ]
  },
  {
   "cell_type": "markdown",
   "id": "82e4e21c",
   "metadata": {},
   "source": [
    "#### Editing PIC => go to config/config.yaml"
   ]
  },
  {
   "cell_type": "code",
   "execution_count": 2,
   "id": "889e9148",
   "metadata": {},
   "outputs": [],
   "source": [
    "conf = OmegaConf.load('config/config.yaml')\n",
    "pic_=conf['config']['pic_']"
   ]
  },
  {
   "cell_type": "markdown",
   "id": "1994fe3a",
   "metadata": {},
   "source": [
    "#### [01] Read data"
   ]
  },
  {
   "cell_type": "code",
   "execution_count": 3,
   "id": "019b2049",
   "metadata": {
    "scrolled": true
   },
   "outputs": [
    {
     "data": {
      "text/html": [
       "<div>\n",
       "<style scoped>\n",
       "    .dataframe tbody tr th:only-of-type {\n",
       "        vertical-align: middle;\n",
       "    }\n",
       "\n",
       "    .dataframe tbody tr th {\n",
       "        vertical-align: top;\n",
       "    }\n",
       "\n",
       "    .dataframe thead th {\n",
       "        text-align: right;\n",
       "    }\n",
       "</style>\n",
       "<table border=\"1\" class=\"dataframe\">\n",
       "  <thead>\n",
       "    <tr style=\"text-align: right;\">\n",
       "      <th></th>\n",
       "      <th>ID_GRID</th>\n",
       "      <th>geometry</th>\n",
       "      <th>kdPIC</th>\n",
       "      <th>nama_valid</th>\n",
       "      <th>sub_grid</th>\n",
       "      <th>cen_x</th>\n",
       "      <th>cen_y</th>\n",
       "    </tr>\n",
       "  </thead>\n",
       "  <tbody>\n",
       "    <tr>\n",
       "      <th>0</th>\n",
       "      <td>ID-3043</td>\n",
       "      <td>POLYGON ((114.48113 -8.11080, 114.48131 -8.110...</td>\n",
       "      <td>F</td>\n",
       "      <td>100201.0</td>\n",
       "      <td>ID-3043</td>\n",
       "      <td>114.481219</td>\n",
       "      <td>-8.110705</td>\n",
       "    </tr>\n",
       "    <tr>\n",
       "      <th>1</th>\n",
       "      <td>ID-3043</td>\n",
       "      <td>POLYGON ((114.45973 -8.11225, 114.45991 -8.112...</td>\n",
       "      <td>F</td>\n",
       "      <td>100201.0</td>\n",
       "      <td>ID-3043</td>\n",
       "      <td>114.459815</td>\n",
       "      <td>-8.112159</td>\n",
       "    </tr>\n",
       "  </tbody>\n",
       "</table>\n",
       "</div>"
      ],
      "text/plain": [
       "   ID_GRID                                           geometry kdPIC  \\\n",
       "0  ID-3043  POLYGON ((114.48113 -8.11080, 114.48131 -8.110...     F   \n",
       "1  ID-3043  POLYGON ((114.45973 -8.11225, 114.45991 -8.112...     F   \n",
       "\n",
       "   nama_valid sub_grid       cen_x     cen_y  \n",
       "0    100201.0  ID-3043  114.481219 -8.110705  \n",
       "1    100201.0  ID-3043  114.459815 -8.112159  "
      ]
     },
     "execution_count": 3,
     "metadata": {},
     "output_type": "execute_result"
    }
   ],
   "source": [
    "gdf_ = gpd.read_file(\"gs://bps-gcp-bucket/MLST2023/sample/\"+pic_+\"_sample2022_edit.gpkg\").to_crs(\"EPSG:4326\")[[\n",
    "    'ID_GRID','geometry','kdPIC','nama_valid','sub_grid']]  ## ganti dengan file gpkg\n",
    "gdf_['cen_x'] =gdf_.geometry.centroid.x\n",
    "gdf_['cen_y'] =gdf_.geometry.centroid.y\n",
    "gdf_.head(2)"
   ]
  },
  {
   "cell_type": "code",
   "execution_count": 5,
   "id": "a4b22525",
   "metadata": {},
   "outputs": [],
   "source": [
    "group_gdf_=gdf_.groupby('sub_grid')\n",
    "y_=list(group_gdf_.groups.keys())\n",
    "# y_[0:]"
   ]
  },
  {
   "cell_type": "code",
   "execution_count": 7,
   "id": "a9d55596",
   "metadata": {},
   "outputs": [
    {
     "name": "stdout",
     "output_type": "stream",
     "text": [
      "Total file undone:  14\n",
      "['ID-3496', 'ID-3497_1', 'ID-3964', 'ID-3965', 'ID-3981', 'ID-4092', 'ID-4215', 'ID-4262', 'ID-4311', 'ID-4362', 'ID-4363', 'ID-4696', 'ID-4921', 'ID-5122']\n"
     ]
    }
   ],
   "source": [
    "list_file_done=glob('ml_output/01_acquisition_data/sample_calc/*.csv')\n",
    "list_file_done=[i.split('/')[3].replace('calc_','').replace('.csv','') for i in list_file_done]\n",
    "y_=[u for u in y_ if u not in list_file_done]\n",
    "print('Total file undone: ',len(y_))\n",
    "print(y_)"
   ]
  },
  {
   "cell_type": "markdown",
   "id": "5cef40a6",
   "metadata": {},
   "source": [
    "#### [02]  Develop user defined data"
   ]
  },
  {
   "cell_type": "markdown",
   "id": "2614c0c1",
   "metadata": {},
   "source": [
    "specify the \"kdPIC\" and the band that would be calculated"
   ]
  },
  {
   "cell_type": "code",
   "execution_count": 8,
   "id": "bfa287fe",
   "metadata": {},
   "outputs": [],
   "source": [
    "kode_pic_ = gdf_.kdPIC.unique()\n",
    "\n",
    "band_ = ['B1_p15','B2_p15','B3_p15','B4_p15',\n",
    "        'B5_p15','B6_p15','B7_p15','B8_p15',\n",
    "        'B8A_p15','B11_p15','B12_p15',\n",
    "        'NDVI_p50','NDWI_p50','NDBI_p50',\n",
    "        'SAVI_p50','EVI_p50','GNDVI_p50']"
   ]
  },
  {
   "cell_type": "markdown",
   "id": "f4abb0bb",
   "metadata": {},
   "source": [
    "created user defined syntax for defining the raster name and calculating the statistics from them"
   ]
  },
  {
   "cell_type": "code",
   "execution_count": 9,
   "id": "b8fe5730",
   "metadata": {},
   "outputs": [],
   "source": [
    "def get_name(grid, pic):\n",
    "    filename= 'duatahun_'+grid+'_QALPN1_PakKus_sentinel2_10m.tif'\n",
    "    filename_full = 'gs://bps-gcp-bucket/citra-sentinel2/'+pic+'/'+filename\n",
    "    return filename, filename_full\n",
    "\n",
    "\n",
    "def get_index(gdf_, filename_full):\n",
    "    res = []\n",
    "    for i in range(1,18):\n",
    "        tmp = pd.DataFrame(zonal_stats(gdf_.geometry,filename_full,\n",
    "                                       stats='mean', band=i,  all_touched=True)).rename(columns={\"mean\":band_[i-1]}) #[0]['mean']\n",
    "        if i==1:\n",
    "            res = tmp\n",
    "        else:\n",
    "            res = pd.concat([res,tmp], axis=1)\n",
    "    result_ = pd.concat([gdf_.reset_index(), res], axis=1)\n",
    "    return result_\n",
    "\n",
    "def split_dataframe(df, chunk_size = 2000): \n",
    "    chunks = list()\n",
    "    num_chunks = len(df) // chunk_size + 1\n",
    "    for i in range(num_chunks):\n",
    "        chunks.append(df[i*chunk_size:(i+1)*chunk_size])\n",
    "    return chunks\n",
    "\n",
    "def parallel_get_index(i):\n",
    "    temp=pd.DataFrame()\n",
    "    global gdf_\n",
    "    global group_gdf_\n",
    "    te_=gdf_.iloc[group_gdf_.groups[i]]\n",
    "    p=te_.kdPIC.unique()[0]\n",
    "    filename, filename_full = get_name(i, p)\n",
    "    te_s=split_dataframe(te_)\n",
    "    for j in te_s:\n",
    "        res = get_index(j, filename_full) \n",
    "        temp=res.append(temp)\n",
    "    temp[['ID_GRID','sub_grid','kdPIC','nama_valid','B1_p15','B2_p15','B3_p15','B4_p15','B5_p15','B6_p15','B7_p15',\n",
    "          'B8_p15','B8A_p15','B11_p15','B12_p15','NDVI_p50','NDWI_p50','NDBI_p50','SAVI_p50',\n",
    "          'EVI_p50','GNDVI_p50','cen_x','cen_y']].to_csv('ml_output/01_acquisition_data/sample_calc/calc_'+i+'.csv',sep=';')"
   ]
  },
  {
   "cell_type": "markdown",
   "id": "c46253d8",
   "metadata": {},
   "source": [
    "#### [03] Parallel processing for acquiring data"
   ]
  },
  {
   "cell_type": "code",
   "execution_count": 10,
   "id": "3d74198e",
   "metadata": {},
   "outputs": [],
   "source": [
    "if len(y_)>0:\n",
    "    with Pool(28) as p:\n",
    "        p.map(parallel_get_index,y_)"
   ]
  },
  {
   "cell_type": "markdown",
   "id": "5661f2aa",
   "metadata": {},
   "source": [
    "#### [04] Exporting data"
   ]
  },
  {
   "cell_type": "code",
   "execution_count": 11,
   "id": "3f1537c3",
   "metadata": {},
   "outputs": [],
   "source": [
    "list_data_=glob('ml_output/01_acquisition_data/sample_calc/*.csv')\n",
    "df_=pd.DataFrame()\n",
    "for i in list_data_:\n",
    "    temp_=pd.read_csv(i,sep=';')[['ID_GRID','sub_grid','kdPIC','nama_valid','B1_p15','B2_p15','B3_p15','B4_p15','B5_p15','B6_p15','B7_p15',\n",
    "          'B8_p15','B8A_p15','B11_p15','B12_p15','NDVI_p50','NDWI_p50','NDBI_p50','SAVI_p50',\n",
    "          'EVI_p50','GNDVI_p50','cen_x','cen_y']]\n",
    "    df_=temp_.append(df_)\n",
    "    df_=df_[['ID_GRID','sub_grid','kdPIC','nama_valid','B1_p15','B2_p15','B3_p15','B4_p15','B5_p15','B6_p15','B7_p15',\n",
    "          'B8_p15','B8A_p15','B11_p15','B12_p15','NDVI_p50','NDWI_p50','NDBI_p50','SAVI_p50',\n",
    "          'EVI_p50','GNDVI_p50','cen_x','cen_y']]\n",
    "df_.to_csv(\"gs://bps-gcp-bucket/MLST2023/sample/sample_\"+str(pic_) + \".csv\",index=False)"
   ]
  },
  {
   "cell_type": "code",
   "execution_count": 12,
   "id": "6a3c2186",
   "metadata": {},
   "outputs": [],
   "source": [
    "for i in list_data_:\n",
    "    file_to_rem = pathlib.Path(i)\n",
    "    file_to_rem.unlink()"
   ]
  }
 ],
 "metadata": {
  "kernelspec": {
   "display_name": "Python 3 (ipykernel)",
   "language": "python",
   "name": "python3"
  },
  "language_info": {
   "codemirror_mode": {
    "name": "ipython",
    "version": 3
   },
   "file_extension": ".py",
   "mimetype": "text/x-python",
   "name": "python",
   "nbconvert_exporter": "python",
   "pygments_lexer": "ipython3",
   "version": "3.8.12"
  }
 },
 "nbformat": 4,
 "nbformat_minor": 5
}
