{
 "cells": [
  {
   "cell_type": "markdown",
   "id": "ce9c3a9b",
   "metadata": {},
   "source": [
    "#### [00] Importing Data"
   ]
  },
  {
   "cell_type": "code",
   "execution_count": 1,
   "id": "caaf77fe",
   "metadata": {},
   "outputs": [],
   "source": [
    "import pandas as pd\n",
    "\n",
    "from imblearn.under_sampling import RandomUnderSampler\n",
    "from imblearn.under_sampling import TomekLinks \n",
    "from imblearn.under_sampling import EditedNearestNeighbours \n",
    "\n",
    "from imblearn.over_sampling import SMOTE\n",
    "from imblearn.over_sampling import BorderlineSMOTE "
   ]
  },
  {
   "cell_type": "markdown",
   "id": "2b1047c6",
   "metadata": {},
   "source": [
    "**!! Edit kdPIC parameter**\n",
    "\n",
    "specify the \"kdPIC\" and the band that would be calculated"
   ]
  },
  {
   "cell_type": "code",
   "execution_count": 2,
   "id": "ffb4aa91",
   "metadata": {},
   "outputs": [],
   "source": [
    "kdPIC = \"F\""
   ]
  },
  {
   "cell_type": "markdown",
   "id": "4ac5cc0c",
   "metadata": {},
   "source": [
    "#### [01] Under dan Over Sampling Function Definition"
   ]
  },
  {
   "cell_type": "code",
   "execution_count": 3,
   "id": "ee83e173",
   "metadata": {},
   "outputs": [],
   "source": [
    "def ratio_multiplier(y):\n",
    "    from collections import Counter\n",
    "\n",
    "    multiplier = strategy_under2\n",
    "    target_stats = Counter(y)\n",
    "    for key, value in target_stats.items():\n",
    "        if key in multiplier:\n",
    "            target_stats[key] = int(value * multiplier[key])\n",
    "    return target_stats\n",
    "\n",
    "def finalise(X,y):\n",
    "    res = X.copy()\n",
    "    res['nama_valid'] = y\n",
    "    return res\n",
    "\n",
    "def create_dataset(name_file):\n",
    "    \n",
    "    gs_folder = \"gs://bps-gcp-bucket/MLST2023/preprocessing/\"\n",
    "    df_sample = pd.read_csv(gs_folder+name_file)\n",
    "    \n",
    "    y = df_sample.nama_valid\n",
    "    X = df_sample[['B1_p15', 'B2_p15', 'B3_p15',\n",
    "           'B4_p15', 'B5_p15', 'B6_p15', 'B7_p15', 'B8_p15', 'B8A_p15', 'B11_p15',\n",
    "           'B12_p15', 'NDVI_p50', 'NDWI_p50', 'NDBI_p50', 'SAVI_p50', 'EVI_p50',\n",
    "           'GNDVI_p50']]\n",
    "\n",
    "    n = df_sample.groupby(\"nama_valid\").nama_valid.count()\n",
    "    ntmp = y.value_counts().median()\n",
    "    nmean=int(0.8*ntmp)\n",
    "    \n",
    "    up_=n[n>int(1.3*nmean)]\n",
    "    under_=n[n<int(0.7*nmean)]\n",
    "    another_=n[(n<int(1.3*nmean))&(n>int(0.7*nmean))]\n",
    "    \n",
    "    strategy_upper = dict(zip(under_.index, [int(0.7*nmean)]*len(under_)))\n",
    "    strategy_under = dict(zip(up_.index, [int(1.3*nmean)]*len(under_)))\n",
    "    strategy_ = dict(zip(another_.index, another_))\n",
    "\n",
    "\n",
    "    tl_ = TomekLinks('majority')\n",
    "    enn_ = EditedNearestNeighbours('majority')\n",
    "    rus_ = RandomUnderSampler(sampling_strategy=strategy_under)\n",
    "\n",
    "    X_tl, y_tl = tl_.fit_resample(X, y)\n",
    "    X_enn, y_enn = enn_.fit_resample(X, y)\n",
    "\n",
    "    X_res_tl, y_res_tl = rus_.fit_resample(X_tl, y_tl)\n",
    "    X_res_enn, y_res_enn = rus_.fit_resample(X_enn, y_enn)\n",
    "\n",
    "    smote_ = SMOTE(sampling_strategy=strategy_upper)\n",
    "    B_smote_ = BorderlineSMOTE(sampling_strategy=strategy_upper)\n",
    "\n",
    "    X_res_tl_s, y_res_tl_s = smote_.fit_resample(X_res_tl, y_res_tl)\n",
    "    X_res_enn_s, y_res_enn_s = smote_.fit_resample(X_res_enn, y_res_enn)\n",
    "\n",
    "    X_res_tl_bs, y_res_tl_bs = B_smote_.fit_resample(X_res_tl, y_res_tl)\n",
    "    X_res_enn_bs, y_res_enn_bs = B_smote_.fit_resample(X_res_enn, y_res_enn)\n",
    "  \n",
    "    finalise(X_res_tl_s, y_res_tl_s).to_csv(gs_folder+name_file[:-4]+\"_tl_smote.csv\", index=False)\n",
    "    finalise(X_res_tl_bs, y_res_tl_bs).to_csv(gs_folder+name_file[:-4]+\"_tl_border_smote.csv\", index=False)\n",
    "    finalise(X_res_enn_s, y_res_enn_s).to_csv(gs_folder+name_file[:-4]+\"_enn_smote.csv\", index=False)\n",
    "    finalise(X_res_enn_bs, y_res_enn_bs).to_csv(gs_folder+name_file[:-4]+\"_enn_border_smote.csv\", index=False)"
   ]
  },
  {
   "cell_type": "markdown",
   "id": "11b6546a",
   "metadata": {},
   "source": [
    "#### [02] Running Under dan Over Sampling"
   ]
  },
  {
   "cell_type": "code",
   "execution_count": 4,
   "id": "4febebd4",
   "metadata": {},
   "outputs": [
    {
     "name": "stderr",
     "output_type": "stream",
     "text": [
      "/home/jupyter-peta_admin/.local/lib/python3.8/site-packages/imblearn/utils/_validation.py:586: FutureWarning: Pass sampling_strategy=majority as keyword args. From version 0.9 passing these as positional arguments will result in an error\n",
      "  warnings.warn(\n",
      "/home/jupyter-peta_admin/.local/lib/python3.8/site-packages/imblearn/utils/_validation.py:586: FutureWarning: Pass sampling_strategy=majority as keyword args. From version 0.9 passing these as positional arguments will result in an error\n",
      "  warnings.warn(\n"
     ]
    }
   ],
   "source": [
    "name_file = [\"sample_\"+kdPIC+\".csv\", \n",
    "            \"sample_\"+kdPIC+\"_no_outlier.csv\"]\n",
    "for i in name_file: \n",
    "    create_dataset(i)"
   ]
  }
 ],
 "metadata": {
  "kernelspec": {
   "display_name": "Python 3 (ipykernel)",
   "language": "python",
   "name": "python3"
  },
  "language_info": {
   "codemirror_mode": {
    "name": "ipython",
    "version": 3
   },
   "file_extension": ".py",
   "mimetype": "text/x-python",
   "name": "python",
   "nbconvert_exporter": "python",
   "pygments_lexer": "ipython3",
   "version": "3.8.12"
  }
 },
 "nbformat": 4,
 "nbformat_minor": 5
}
