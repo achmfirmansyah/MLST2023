{
 "cells": [
  {
   "cell_type": "code",
   "execution_count": null,
   "id": "085fc945",
   "metadata": {
    "execution": {
     "iopub.execute_input": "2022-07-12T07:26:41.847988Z",
     "iopub.status.busy": "2022-07-12T07:26:41.847667Z",
     "iopub.status.idle": "2022-07-12T07:26:41.854587Z",
     "shell.execute_reply": "2022-07-12T07:26:41.854009Z"
    },
    "papermill": {
     "duration": 0.012564,
     "end_time": "2022-07-12T07:26:41.856346",
     "exception": false,
     "start_time": "2022-07-12T07:26:41.843782",
     "status": "completed"
    },
    "tags": [
     "parameters"
    ]
   },
   "outputs": [],
   "source": [
    "\n",
    "pic_='F'\n",
    "tracking_uri_='http://34.128.104.38:5000'"
   ]
  },
  {
   "cell_type": "code",
   "execution_count": null,
   "id": "884c94b9",
   "metadata": {
    "execution": {
     "iopub.execute_input": "2022-07-12T07:26:41.863169Z",
     "iopub.status.busy": "2022-07-12T07:26:41.862949Z",
     "iopub.status.idle": "2022-07-12T07:26:41.866066Z",
     "shell.execute_reply": "2022-07-12T07:26:41.865503Z"
    },
    "papermill": {
     "duration": 0.007842,
     "end_time": "2022-07-12T07:26:41.867422",
     "exception": false,
     "start_time": "2022-07-12T07:26:41.859580",
     "status": "completed"
    },
    "tags": [
     "injected-parameters"
    ]
   },
   "outputs": [],
   "source": [
    "# Parameters\n",
    "pic_ = \"F\"\n",
    "tracking_uri_ = \"http://34.128.104.38:5000\"\n"
   ]
  },
  {
   "cell_type": "code",
   "execution_count": null,
   "id": "a2dd4736",
   "metadata": {
    "execution": {
     "iopub.execute_input": "2022-07-12T07:26:41.872820Z",
     "iopub.status.busy": "2022-07-12T07:26:41.872437Z",
     "iopub.status.idle": "2022-07-12T07:26:44.074159Z",
     "shell.execute_reply": "2022-07-12T07:26:44.073429Z"
    },
    "papermill": {
     "duration": 2.206822,
     "end_time": "2022-07-12T07:26:44.076318",
     "exception": false,
     "start_time": "2022-07-12T07:26:41.869496",
     "status": "completed"
    },
    "tags": []
   },
   "outputs": [],
   "source": [
    "import pandas as pd\n",
    "import numpy as np\n",
    "\n",
    "\n",
    "from datetime import datetime\n",
    "\n",
    "from sklearn.metrics import accuracy_score, f1_score,cohen_kappa_score,roc_auc_score,log_loss\n",
    "from sklearn.model_selection import train_test_split\n",
    "from sklearn.model_selection import StratifiedKFold\n",
    "\n",
    "import pickle5 as pickle\n",
    "from google.cloud import storage\n",
    "\n",
    "import os\n",
    "import matplotlib.pyplot as plt\n",
    "import seaborn as sns\n",
    "\n",
    "import optuna\n",
    "from optuna.integration.mlflow import MLflowCallback\n",
    "import mlflow\n",
    "from sklearn.ensemble import RandomForestClassifier\n",
    "#optuna.logging.set_verbosity(optuna.logging.WARNING)\n",
    "\n"
   ]
  },
  {
   "cell_type": "code",
   "execution_count": null,
   "id": "4e66b5f3",
   "metadata": {
    "execution": {
     "iopub.execute_input": "2022-07-12T07:26:44.083839Z",
     "iopub.status.busy": "2022-07-12T07:26:44.083560Z",
     "iopub.status.idle": "2022-07-12T07:26:44.087310Z",
     "shell.execute_reply": "2022-07-12T07:26:44.086603Z"
    },
    "papermill": {
     "duration": 0.009069,
     "end_time": "2022-07-12T07:26:44.088984",
     "exception": false,
     "start_time": "2022-07-12T07:26:44.079915",
     "status": "completed"
    },
    "tags": []
   },
   "outputs": [],
   "source": [
    "with open('model/feature_selection/fs.pickle', 'rb') as handle:\n",
    "    fs_=pickle.load(handle)"
   ]
  },
  {
   "cell_type": "code",
   "execution_count": null,
   "id": "7b06a858",
   "metadata": {
    "execution": {
     "iopub.execute_input": "2022-07-12T07:26:44.094376Z",
     "iopub.status.busy": "2022-07-12T07:26:44.093945Z",
     "iopub.status.idle": "2022-07-12T07:26:44.098608Z",
     "shell.execute_reply": "2022-07-12T07:26:44.097986Z"
    },
    "papermill": {
     "duration": 0.009285,
     "end_time": "2022-07-12T07:26:44.100344",
     "exception": false,
     "start_time": "2022-07-12T07:26:44.091059",
     "status": "completed"
    },
    "tags": []
   },
   "outputs": [],
   "source": [
    "rf_params=fs_['randomforest-wo_artificial']"
   ]
  },
  {
   "cell_type": "code",
   "execution_count": null,
   "id": "0a517962",
   "metadata": {
    "execution": {
     "iopub.execute_input": "2022-07-12T07:26:44.105089Z",
     "iopub.status.busy": "2022-07-12T07:26:44.104875Z",
     "iopub.status.idle": "2022-07-12T07:26:44.113941Z",
     "shell.execute_reply": "2022-07-12T07:26:44.113302Z"
    },
    "papermill": {
     "duration": 0.013219,
     "end_time": "2022-07-12T07:26:44.115453",
     "exception": false,
     "start_time": "2022-07-12T07:26:44.102234",
     "status": "completed"
    },
    "tags": []
   },
   "outputs": [],
   "source": [
    "rf_params"
   ]
  },
  {
   "cell_type": "code",
   "execution_count": null,
   "id": "c8944425",
   "metadata": {
    "execution": {
     "iopub.execute_input": "2022-07-12T07:26:44.120579Z",
     "iopub.status.busy": "2022-07-12T07:26:44.120350Z",
     "iopub.status.idle": "2022-07-12T07:26:54.335710Z",
     "shell.execute_reply": "2022-07-12T07:26:54.304946Z"
    },
    "papermill": {
     "duration": 10.225268,
     "end_time": "2022-07-12T07:26:54.342657",
     "exception": false,
     "start_time": "2022-07-12T07:26:44.117389",
     "status": "completed"
    },
    "tags": []
   },
   "outputs": [],
   "source": [
    "feature_used=rf_params['params.feature_name'].replace('[','').replace(']','').replace('\\'','').replace(' ','').split(',')\n",
    "feature_used.append('nama_valid')\n",
    "if lgbm_params['params.condition']=='w_outlier_':\n",
    "    data_sample=pd.read_csv(\"gs://bps-gcp-bucket/MLST2023/preprocessing/sample_\"+str(pic_) +\".csv\",sep=',')[feature_used]\n",
    "else:\n",
    "    data_sample=pd.read_csv(\"gs://bps-gcp-bucket/MLST2023/preprocessing/sample_\"+str(pic_) +\"_no_outlier.csv\",sep=',')[feature_used]"
   ]
  },
  {
   "cell_type": "code",
   "execution_count": null,
   "id": "f0d43348",
   "metadata": {
    "execution": {
     "iopub.execute_input": "2022-07-12T07:26:54.353506Z",
     "iopub.status.busy": "2022-07-12T07:26:54.352684Z",
     "iopub.status.idle": "2022-07-12T07:26:55.007426Z",
     "shell.execute_reply": "2022-07-12T07:26:55.006447Z"
    },
    "papermill": {
     "duration": 0.663608,
     "end_time": "2022-07-12T07:26:55.009978",
     "exception": false,
     "start_time": "2022-07-12T07:26:54.346370",
     "status": "completed"
    },
    "tags": []
   },
   "outputs": [],
   "source": [
    "columns_data=data_sample.columns.to_list()\n",
    "columns_data.remove('nama_valid')\n",
    "data_sample=data_sample\n",
    "X=data_sample[columns_data]\n",
    "y=data_sample[['nama_valid']]\n",
    "    \n",
    "train_x, valid_x, train_y, valid_y = train_test_split(X, y, test_size=0.2,stratify=y)"
   ]
  },
  {
   "cell_type": "code",
   "execution_count": null,
   "id": "5a2cd5ff",
   "metadata": {
    "execution": {
     "iopub.execute_input": "2022-07-12T07:26:55.018670Z",
     "iopub.status.busy": "2022-07-12T07:26:55.018325Z",
     "iopub.status.idle": "2022-07-12T07:26:55.029581Z",
     "shell.execute_reply": "2022-07-12T07:26:55.028551Z"
    },
    "papermill": {
     "duration": 0.017705,
     "end_time": "2022-07-12T07:26:55.031375",
     "exception": false,
     "start_time": "2022-07-12T07:26:55.013670",
     "status": "completed"
    },
    "tags": []
   },
   "outputs": [],
   "source": [
    "mlflc = MLflowCallback(tracking_uri=tracking_uri_,nest_trials=True,\n",
    "                      metric_name=['f1_micro','log_loss','roc_auc_score','cohen_kappa'])\n",
    "@mlflc.track_in_mlflow()\n",
    "def lgbm_obj(trial):\n",
    "    params = {\n",
    "           \"n_estimators\":trial.suggest_categorical(\"iterations\", [100,200,500,1000]),\n",
    "           \"random_seed\":1234,\n",
    "           'max_depth': trial.suggest_int('max_depth', 3, 12),\n",
    "           'min_samples_split': trial.suggest_int('min_samples_split', 1, 150),\n",
    "           'min_samples_leaf': trial.suggest_int('min_samples_leaf', 1, 60),\n",
    "           \"criterion\":trial.suggest_categorical('criterion',['gini', 'entropy', 'log_loss']),\n",
    "           \"max_leaf_nodes\":trial.suggest_int('max_leaf_nodes',3,12),\n",
    "        \"class_weight\":trial.suggest_categorical(\"class_weight\":[\"balanced\", \"balanced_subsample\",None]),\n",
    "        \"bootstrap\":trial.suggest_categorical(\"bootstrap\",[True, False])\n",
    "        }\n",
    "    \n",
    "    rf_= RandomForestClassifier(**param)\n",
    "    sk_fold=StratifiedKFold(n_splits=5,shuffle=False)\n",
    "    f1_micro=[]\n",
    "    log_loss_=[]\n",
    "    roc_auc_score_=[]\n",
    "    cohen_kappa_score_=[]\n",
    "    for train_index, test_index in sk_fold.split(train_x, train_y):\n",
    "        rf_.fit(train_x.iloc[train_index,],train_y.iloc[train_index,])\n",
    "        preds = rf_.predict(valid_x)\n",
    "        preds_proba_=lgb_.predict_proba(valid_x)\n",
    "        pred_labels = np.rint(preds)\n",
    "        f1_micro.append(f1_score(valid_y, pred_labels,average='micro'))\n",
    "        log_loss_.append(log_loss(valid_y,preds_proba_))\n",
    "        roc_auc_score_.append(roc_auc_score(valid_y, preds_proba_, average=\"weighted\", multi_class=\"ovr\"))\n",
    "        cohen_kappa_score_.append(cohen_kappa_score(valid_y, pred_labels))\n",
    "        \n",
    "    mlflow.log_param('algorithm',\"randomforest\")        \n",
    "    mlflow.log_param('strategy','no artificial')    \n",
    "    mlflow.lightgbm.log_model(rf_, \"rf_model\")\n",
    "    \n",
    "    return np.mean(f1_micro), np.mean(log_loss_), np.mean(roc_auc_score_),np.mean(cohen_kappa_score_)"
   ]
  },
  {
   "cell_type": "code",
   "execution_count": null,
   "id": "87986899",
   "metadata": {
    "execution": {
     "iopub.execute_input": "2022-07-12T07:26:55.039799Z",
     "iopub.status.busy": "2022-07-12T07:26:55.039004Z"
    },
    "papermill": {
     "duration": null,
     "end_time": null,
     "exception": false,
     "start_time": "2022-07-12T07:26:55.034006",
     "status": "running"
    },
    "tags": []
   },
   "outputs": [],
   "source": [
    "from mlflow.tracking import MlflowClient\n",
    "client = MlflowClient()\n",
    "\n",
    "if __name__ == '__main__':\n",
    "    study = optuna.create_study(study_name='Hyper Parameter Tuning',load_if_exists=True, \n",
    "                                storage='sqlite:///tuning_randomforest_no_artificial.db',\n",
    "                                directions=['maximize','minimize','maximize','maximize'])\n",
    "    study.optimize(catb_obj, n_trials=50, callbacks=[mlflc],n_jobs=1)\n"
   ]
  }
 ],
 "metadata": {
  "celltoolbar": "Tags",
  "kernelspec": {
   "display_name": "Python 3 (ipykernel)",
   "language": "python",
   "name": "python3"
  },
  "language_info": {
   "codemirror_mode": {
    "name": "ipython",
    "version": 3
   },
   "file_extension": ".py",
   "mimetype": "text/x-python",
   "name": "python",
   "nbconvert_exporter": "python",
   "pygments_lexer": "ipython3",
   "version": "3.8.12"
  },
  "papermill": {
   "default_parameters": {},
   "duration": null,
   "end_time": null,
   "environment_variables": {},
   "exception": null,
   "input_path": "05_b_LightGBM-Optuna-MLFlow.ipynb",
   "output_path": "05_b_LightGBM-Optuna-MLFlow.ipynb",
   "parameters": {
    "pic_": "F",
    "tracking_uri_": "http://34.128.104.38:5000"
   },
   "start_time": "2022-07-12T07:26:40.828771",
   "version": "2.3.4"
  }
 },
 "nbformat": 4,
 "nbformat_minor": 5
}
