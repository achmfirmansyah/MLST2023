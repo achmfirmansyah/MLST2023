{
 "cells": [
  {
   "cell_type": "code",
   "execution_count": 1,
   "id": "bd15ba79",
   "metadata": {
    "execution": {
     "iopub.execute_input": "2022-07-15T02:15:31.535920Z",
     "iopub.status.busy": "2022-07-15T02:15:31.535193Z",
     "iopub.status.idle": "2022-07-15T02:15:31.543885Z",
     "shell.execute_reply": "2022-07-15T02:15:31.543213Z"
    },
    "papermill": {
     "duration": 0.014681,
     "end_time": "2022-07-15T02:15:31.545520",
     "exception": false,
     "start_time": "2022-07-15T02:15:31.530839",
     "status": "completed"
    },
    "tags": [
     "parameters"
    ]
   },
   "outputs": [],
   "source": [
    "pic_='F'\n",
    "tracking_uri_=\"http://34.128.104.38:5000\""
   ]
  },
  {
   "cell_type": "code",
   "execution_count": 2,
   "id": "8668da70",
   "metadata": {
    "execution": {
     "iopub.execute_input": "2022-07-15T02:15:31.554594Z",
     "iopub.status.busy": "2022-07-15T02:15:31.554178Z",
     "iopub.status.idle": "2022-07-15T02:15:31.557564Z",
     "shell.execute_reply": "2022-07-15T02:15:31.556863Z"
    },
    "papermill": {
     "duration": 0.009032,
     "end_time": "2022-07-15T02:15:31.559176",
     "exception": false,
     "start_time": "2022-07-15T02:15:31.550144",
     "status": "completed"
    },
    "tags": [
     "injected-parameters"
    ]
   },
   "outputs": [],
   "source": [
    "# Parameters\n",
    "pic_ = \"F\"\n",
    "tracking_uri_ = \"http://34.128.104.38:5000\"\n"
   ]
  },
  {
   "cell_type": "code",
   "execution_count": 3,
   "id": "6f0f9d0d",
   "metadata": {
    "execution": {
     "iopub.execute_input": "2022-07-15T02:15:31.565741Z",
     "iopub.status.busy": "2022-07-15T02:15:31.565048Z",
     "iopub.status.idle": "2022-07-15T02:15:33.083708Z",
     "shell.execute_reply": "2022-07-15T02:15:33.083003Z"
    },
    "papermill": {
     "duration": 1.524058,
     "end_time": "2022-07-15T02:15:33.085789",
     "exception": false,
     "start_time": "2022-07-15T02:15:31.561731",
     "status": "completed"
    },
    "tags": []
   },
   "outputs": [],
   "source": [
    "import pandas as pd \n",
    "import numpy as np\n",
    "import os\n",
    "import scipy\n",
    "from datetime import datetime\n",
    "\n",
    "import warnings\n",
    "warnings.filterwarnings(\"ignore\")\n",
    "\n",
    "import lightgbm as lgb\n",
    "from sklearn.feature_selection import RFE\n",
    "from sklearn.model_selection import train_test_split\n",
    "from sklearn.metrics import accuracy_score, f1_score,log_loss\n",
    "import os\n",
    "\n",
    "from google.cloud import storage\n",
    "client = storage.Client()\n",
    "os.environ['GOOGLE_APPLICATION_CREDENTIALS'] = 'gcp_store.json'\n",
    "client = storage.Client()\n",
    "\n",
    "from multiprocessing import Pool as pool_x\n",
    "\n",
    "import mlflow\n",
    "from mlflow.tracking import MlflowClient"
   ]
  },
  {
   "cell_type": "code",
   "execution_count": 4,
   "id": "7fc2abe4",
   "metadata": {
    "execution": {
     "iopub.execute_input": "2022-07-15T02:15:33.094712Z",
     "iopub.status.busy": "2022-07-15T02:15:33.094235Z",
     "iopub.status.idle": "2022-07-15T02:15:33.104125Z",
     "shell.execute_reply": "2022-07-15T02:15:33.103486Z"
    },
    "papermill": {
     "duration": 0.016223,
     "end_time": "2022-07-15T02:15:33.105815",
     "exception": false,
     "start_time": "2022-07-15T02:15:33.089592",
     "status": "completed"
    },
    "tags": []
   },
   "outputs": [],
   "source": [
    "def parallel_FE_lgbm(i):\n",
    "    global pic_,status_, train_x, valid_x, train_y, valid_y, columns_data, strategy_\n",
    "    \n",
    "    experiment_name = \"Feature Selection\"\n",
    "    ## check if the experiment already exists\n",
    "    if not mlflow.get_experiment_by_name(experiment_name):\n",
    "        mlflow.create_experiment(name=experiment_name) \n",
    "    experiment = mlflow.get_experiment_by_name(experiment_name)\n",
    "    ### check finished experiment\n",
    "    client = MlflowClient()\n",
    "    exp_r = client.get_experiment_by_name(\"Feature Selection\")\n",
    "    client_run=mlflow.search_runs([exp_r.experiment_id], order_by=[\"metrics.f1_micro DESC\"])\n",
    "    if ((client_run.shape[0]>0)&(\"params.condition\" in client_run.columns)&\n",
    "        (\"params.algorithm\" in client_run.columns)&(\"params.strategy\" in client_run.columns)):\n",
    "        client_run=client_run.loc[(client_run[\"params.condition\"]==status_)&\n",
    "                                  (client_run[\"params.algorithm\"]=='lightgbm')&\n",
    "                                  (client_run[\"params.strategy\"]==strategy_)]\n",
    "        if str(i) in client_run['params.num_feature'].to_list():\n",
    "            print('Experiment with number of feature:',i, ' already done. It will be skipped.')\n",
    "            return ''\n",
    "    mlflow.set_tracking_uri(tracking_uri_)\n",
    "    \n",
    "    with mlflow.start_run(experiment_id = experiment.experiment_id,\n",
    "                          run_name=status_+'-'+datetime.now().strftime(\"%d/%m/%Y %H:%M:%S\")):\n",
    "        model = lgb.LGBMClassifier(random_state=1234,verbose=-1, n_estimators=50)\n",
    "        model.fit(train_x, train_y,\n",
    "                     eval_set=[(valid_x,valid_y)])\n",
    "        selector = RFE(model, n_features_to_select=i, step=1)\n",
    "        selector.fit(train_x,train_y)\n",
    "        \n",
    "        \n",
    "        col_data=[columns_data[j] for j in list(np.where(selector.support_)[0])]    \n",
    "            \n",
    "        pred_labels=selector.predict(valid_x).tolist()\n",
    "        preds_proba_=selector.predict_proba(valid_x)\n",
    "        \n",
    "        \n",
    "        f1_micro=f1_score(valid_y, pred_labels,average='micro')\n",
    "        log_loss_=log_loss(valid_y,preds_proba_)\n",
    "        \n",
    "        mlflow.log_param(\"num_feature\", i)\n",
    "        mlflow.log_param('feature_name',col_data)\n",
    "        mlflow.log_param('condition',status_)\n",
    "        mlflow.log_param('algorithm',\"lightgbm\")        \n",
    "        mlflow.log_param('strategy',strategy_)\n",
    "\n",
    "        mlflow.log_metric(\"f1_micro\", f1_micro)\n",
    "        mlflow.log_metric(\"log_loss\", log_loss_)\n",
    "        \n",
    "    return ''"
   ]
  },
  {
   "cell_type": "code",
   "execution_count": 5,
   "id": "4aea0c4e",
   "metadata": {
    "execution": {
     "iopub.execute_input": "2022-07-15T02:15:33.114148Z",
     "iopub.status.busy": "2022-07-15T02:15:33.113691Z",
     "iopub.status.idle": "2022-07-15T02:15:33.117275Z",
     "shell.execute_reply": "2022-07-15T02:15:33.116549Z"
    },
    "papermill": {
     "duration": 0.009553,
     "end_time": "2022-07-15T02:15:33.119127",
     "exception": false,
     "start_time": "2022-07-15T02:15:33.109574",
     "status": "completed"
    },
    "tags": []
   },
   "outputs": [],
   "source": [
    "def run_FE_lgbm():\n",
    "    y1=range(5,18)\n",
    "    for i1 in y1:\n",
    "        parallel_FE_lgbm(i1)\n",
    "    #with pool_x(10) as p:\n",
    "    #    p.map(parallel_FE_lgbm,y1)"
   ]
  },
  {
   "cell_type": "markdown",
   "id": "51dc5654",
   "metadata": {
    "papermill": {
     "duration": 0.002622,
     "end_time": "2022-07-15T02:15:33.124716",
     "exception": false,
     "start_time": "2022-07-15T02:15:33.122094",
     "status": "completed"
    },
    "tags": []
   },
   "source": [
    "### Without Artificial Data"
   ]
  },
  {
   "cell_type": "code",
   "execution_count": 6,
   "id": "aacf516d",
   "metadata": {
    "execution": {
     "iopub.execute_input": "2022-07-15T02:15:33.132697Z",
     "iopub.status.busy": "2022-07-15T02:15:33.132458Z",
     "iopub.status.idle": "2022-07-15T02:15:48.667075Z",
     "shell.execute_reply": "2022-07-15T02:15:48.666350Z"
    },
    "papermill": {
     "duration": 15.540927,
     "end_time": "2022-07-15T02:15:48.668698",
     "exception": false,
     "start_time": "2022-07-15T02:15:33.127771",
     "status": "completed"
    },
    "tags": []
   },
   "outputs": [
    {
     "name": "stdout",
     "output_type": "stream",
     "text": [
      "RUN DATA WITHOUT ARTIFICIAL DATA\n",
      "\n",
      "\n",
      "===========RUN Data w Outlier===========\n"
     ]
    },
    {
     "name": "stdout",
     "output_type": "stream",
     "text": [
      "Experiment with number of feature: 5  already done. It will be skipped.\n"
     ]
    },
    {
     "name": "stdout",
     "output_type": "stream",
     "text": [
      "Experiment with number of feature: 6  already done. It will be skipped.\n"
     ]
    },
    {
     "name": "stdout",
     "output_type": "stream",
     "text": [
      "Experiment with number of feature: 7  already done. It will be skipped.\n"
     ]
    },
    {
     "name": "stdout",
     "output_type": "stream",
     "text": [
      "Experiment with number of feature: 8  already done. It will be skipped.\n"
     ]
    },
    {
     "name": "stdout",
     "output_type": "stream",
     "text": [
      "Experiment with number of feature: 9  already done. It will be skipped.\n"
     ]
    },
    {
     "name": "stdout",
     "output_type": "stream",
     "text": [
      "Experiment with number of feature: 10  already done. It will be skipped.\n"
     ]
    },
    {
     "name": "stdout",
     "output_type": "stream",
     "text": [
      "Experiment with number of feature: 11  already done. It will be skipped.\n"
     ]
    },
    {
     "name": "stdout",
     "output_type": "stream",
     "text": [
      "Experiment with number of feature: 12  already done. It will be skipped.\n"
     ]
    },
    {
     "name": "stdout",
     "output_type": "stream",
     "text": [
      "Experiment with number of feature: 13  already done. It will be skipped.\n"
     ]
    },
    {
     "name": "stdout",
     "output_type": "stream",
     "text": [
      "Experiment with number of feature: 14  already done. It will be skipped.\n"
     ]
    },
    {
     "name": "stdout",
     "output_type": "stream",
     "text": [
      "Experiment with number of feature: 15  already done. It will be skipped.\n"
     ]
    },
    {
     "name": "stdout",
     "output_type": "stream",
     "text": [
      "Experiment with number of feature: 16  already done. It will be skipped.\n"
     ]
    },
    {
     "name": "stdout",
     "output_type": "stream",
     "text": [
      "Experiment with number of feature: 17  already done. It will be skipped.\n",
      "===========FINISH=======================\n",
      "===========RUN Data w/o Outlier===========\n"
     ]
    },
    {
     "name": "stdout",
     "output_type": "stream",
     "text": [
      "Experiment with number of feature: 5  already done. It will be skipped.\n"
     ]
    },
    {
     "name": "stdout",
     "output_type": "stream",
     "text": [
      "Experiment with number of feature: 6  already done. It will be skipped.\n"
     ]
    },
    {
     "name": "stdout",
     "output_type": "stream",
     "text": [
      "Experiment with number of feature: 7  already done. It will be skipped.\n"
     ]
    },
    {
     "name": "stdout",
     "output_type": "stream",
     "text": [
      "Experiment with number of feature: 8  already done. It will be skipped.\n"
     ]
    },
    {
     "name": "stdout",
     "output_type": "stream",
     "text": [
      "Experiment with number of feature: 9  already done. It will be skipped.\n"
     ]
    },
    {
     "name": "stdout",
     "output_type": "stream",
     "text": [
      "Experiment with number of feature: 10  already done. It will be skipped.\n"
     ]
    },
    {
     "name": "stdout",
     "output_type": "stream",
     "text": [
      "Experiment with number of feature: 11  already done. It will be skipped.\n"
     ]
    },
    {
     "name": "stdout",
     "output_type": "stream",
     "text": [
      "Experiment with number of feature: 12  already done. It will be skipped.\n"
     ]
    },
    {
     "name": "stdout",
     "output_type": "stream",
     "text": [
      "Experiment with number of feature: 13  already done. It will be skipped.\n"
     ]
    },
    {
     "name": "stdout",
     "output_type": "stream",
     "text": [
      "Experiment with number of feature: 14  already done. It will be skipped.\n"
     ]
    },
    {
     "name": "stdout",
     "output_type": "stream",
     "text": [
      "Experiment with number of feature: 15  already done. It will be skipped.\n"
     ]
    },
    {
     "name": "stdout",
     "output_type": "stream",
     "text": [
      "Experiment with number of feature: 16  already done. It will be skipped.\n"
     ]
    },
    {
     "name": "stdout",
     "output_type": "stream",
     "text": [
      "Experiment with number of feature: 17  already done. It will be skipped.\n",
      "===========FINISH=======================\n",
      "\n",
      "\n",
      "FINISH\n"
     ]
    }
   ],
   "source": [
    "print('RUN DATA WITHOUT ARTIFICIAL DATA\\n\\n')\n",
    "print('===========RUN Data w Outlier===========')\n",
    "strategy_='no artificial'\n",
    "data_sample=pd.read_csv(\"gs://bps-gcp-bucket/MLST2023/preprocessing/sample_\"+str(pic_) +\".csv\",sep=',')\n",
    "data_sample['nama_valid']=data_sample.nama_valid.apply(lambda y: str(y)[:6])\n",
    "data_sample=data_sample.sort_values('nama_valid')\n",
    "status_='w_outlier_'\n",
    "columns_data=['B1_p15', 'B2_p15', 'B3_p15',\n",
    "       'B4_p15', 'B5_p15', 'B6_p15', 'B7_p15', 'B8_p15', 'B8A_p15', 'B11_p15',\n",
    "       'B12_p15', 'NDVI_p50', 'NDWI_p50', 'NDBI_p50', 'SAVI_p50', 'EVI_p50',\n",
    "       'GNDVI_p50','nama_valid']\n",
    "X=data_sample[columns_data].drop(['nama_valid'],axis=1)\n",
    "y=data_sample['nama_valid']\n",
    "train_x, valid_x, train_y, valid_y = train_test_split(X, y, test_size=0.2,stratify=y)\n",
    "run_FE_lgbm()\n",
    "print('===========FINISH=======================')\n",
    "print('===========RUN Data w/o Outlier===========')\n",
    "data_sample=pd.read_csv(\"gs://bps-gcp-bucket/MLST2023/preprocessing/sample_\"+str(pic_) +\"_no_outlier.csv\",sep=',')\n",
    "data_sample['nama_valid']=data_sample.nama_valid.apply(lambda y: str(y)[:6])\n",
    "data_sample=data_sample.sort_values('nama_valid')\n",
    "status_='wo_outlier_'\n",
    "columns_data=['B1_p15', 'B2_p15', 'B3_p15',\n",
    "       'B4_p15', 'B5_p15', 'B6_p15', 'B7_p15', 'B8_p15', 'B8A_p15', 'B11_p15',\n",
    "       'B12_p15', 'NDVI_p50', 'NDWI_p50', 'NDBI_p50', 'SAVI_p50', 'EVI_p50',\n",
    "       'GNDVI_p50','nama_valid']\n",
    "X=data_sample[columns_data].drop(['nama_valid'],axis=1)\n",
    "y=data_sample['nama_valid']\n",
    "train_x, valid_x, train_y, valid_y = train_test_split(X, y, test_size=0.2,stratify=y)\n",
    "run_FE_lgbm()\n",
    "print('===========FINISH=======================')\n",
    "print('\\n\\nFINISH')"
   ]
  },
  {
   "cell_type": "markdown",
   "id": "168fcd85",
   "metadata": {
    "papermill": {
     "duration": 0.003923,
     "end_time": "2022-07-15T02:15:48.677809",
     "exception": false,
     "start_time": "2022-07-15T02:15:48.673886",
     "status": "completed"
    },
    "tags": []
   },
   "source": [
    "### ENN-BORDER SMOTE"
   ]
  },
  {
   "cell_type": "code",
   "execution_count": 7,
   "id": "7f6ccddd",
   "metadata": {
    "execution": {
     "iopub.execute_input": "2022-07-15T02:15:48.687864Z",
     "iopub.status.busy": "2022-07-15T02:15:48.686974Z",
     "iopub.status.idle": "2022-07-15T02:16:02.319208Z",
     "shell.execute_reply": "2022-07-15T02:16:02.318422Z"
    },
    "papermill": {
     "duration": 13.639345,
     "end_time": "2022-07-15T02:16:02.321091",
     "exception": false,
     "start_time": "2022-07-15T02:15:48.681746",
     "status": "completed"
    },
    "tags": []
   },
   "outputs": [
    {
     "name": "stdout",
     "output_type": "stream",
     "text": [
      "RUN DATA WITHOUT ENN-BORDER SMOTE\n",
      "\n",
      "\n",
      "===========RUN Data w Outlier===========\n"
     ]
    },
    {
     "name": "stdout",
     "output_type": "stream",
     "text": [
      "Experiment with number of feature: 5  already done. It will be skipped.\n"
     ]
    },
    {
     "name": "stdout",
     "output_type": "stream",
     "text": [
      "Experiment with number of feature: 6  already done. It will be skipped.\n"
     ]
    },
    {
     "name": "stdout",
     "output_type": "stream",
     "text": [
      "Experiment with number of feature: 7  already done. It will be skipped.\n"
     ]
    },
    {
     "name": "stdout",
     "output_type": "stream",
     "text": [
      "Experiment with number of feature: 8  already done. It will be skipped.\n"
     ]
    },
    {
     "name": "stdout",
     "output_type": "stream",
     "text": [
      "Experiment with number of feature: 9  already done. It will be skipped.\n"
     ]
    },
    {
     "name": "stdout",
     "output_type": "stream",
     "text": [
      "Experiment with number of feature: 10  already done. It will be skipped.\n"
     ]
    },
    {
     "name": "stdout",
     "output_type": "stream",
     "text": [
      "Experiment with number of feature: 11  already done. It will be skipped.\n"
     ]
    },
    {
     "name": "stdout",
     "output_type": "stream",
     "text": [
      "Experiment with number of feature: 12  already done. It will be skipped.\n"
     ]
    },
    {
     "name": "stdout",
     "output_type": "stream",
     "text": [
      "Experiment with number of feature: 13  already done. It will be skipped.\n"
     ]
    },
    {
     "name": "stdout",
     "output_type": "stream",
     "text": [
      "Experiment with number of feature: 14  already done. It will be skipped.\n"
     ]
    },
    {
     "name": "stdout",
     "output_type": "stream",
     "text": [
      "Experiment with number of feature: 15  already done. It will be skipped.\n"
     ]
    },
    {
     "name": "stdout",
     "output_type": "stream",
     "text": [
      "Experiment with number of feature: 16  already done. It will be skipped.\n"
     ]
    },
    {
     "name": "stdout",
     "output_type": "stream",
     "text": [
      "Experiment with number of feature: 17  already done. It will be skipped.\n",
      "===========FINISH=======================\n",
      "===========RUN Data w/o Outlier===========\n"
     ]
    },
    {
     "name": "stdout",
     "output_type": "stream",
     "text": [
      "Experiment with number of feature: 5  already done. It will be skipped.\n"
     ]
    },
    {
     "name": "stdout",
     "output_type": "stream",
     "text": [
      "Experiment with number of feature: 6  already done. It will be skipped.\n"
     ]
    },
    {
     "name": "stdout",
     "output_type": "stream",
     "text": [
      "Experiment with number of feature: 7  already done. It will be skipped.\n"
     ]
    },
    {
     "name": "stdout",
     "output_type": "stream",
     "text": [
      "Experiment with number of feature: 8  already done. It will be skipped.\n"
     ]
    },
    {
     "name": "stdout",
     "output_type": "stream",
     "text": [
      "Experiment with number of feature: 9  already done. It will be skipped.\n"
     ]
    },
    {
     "name": "stdout",
     "output_type": "stream",
     "text": [
      "Experiment with number of feature: 10  already done. It will be skipped.\n"
     ]
    },
    {
     "name": "stdout",
     "output_type": "stream",
     "text": [
      "Experiment with number of feature: 11  already done. It will be skipped.\n"
     ]
    },
    {
     "name": "stdout",
     "output_type": "stream",
     "text": [
      "Experiment with number of feature: 12  already done. It will be skipped.\n"
     ]
    },
    {
     "name": "stdout",
     "output_type": "stream",
     "text": [
      "Experiment with number of feature: 13  already done. It will be skipped.\n"
     ]
    },
    {
     "name": "stdout",
     "output_type": "stream",
     "text": [
      "Experiment with number of feature: 14  already done. It will be skipped.\n"
     ]
    },
    {
     "name": "stdout",
     "output_type": "stream",
     "text": [
      "Experiment with number of feature: 15  already done. It will be skipped.\n"
     ]
    },
    {
     "name": "stdout",
     "output_type": "stream",
     "text": [
      "Experiment with number of feature: 16  already done. It will be skipped.\n"
     ]
    },
    {
     "name": "stdout",
     "output_type": "stream",
     "text": [
      "Experiment with number of feature: 17  already done. It will be skipped.\n",
      "===========FINISH=======================\n",
      "\n",
      "\n",
      "FINISH\n"
     ]
    }
   ],
   "source": [
    "print('RUN DATA WITHOUT ENN-BORDER SMOTE\\n\\n')\n",
    "print('===========RUN Data w Outlier===========')\n",
    "strategy_='enn_border_smote'\n",
    "data_sample=pd.read_csv(\"gs://bps-gcp-bucket/MLST2023/preprocessing/sample_\"+str(pic_) +\"_enn_border_smote.csv\",sep=',')\n",
    "data_sample['nama_valid']=data_sample.nama_valid.apply(lambda y: str(y)[:6])\n",
    "data_sample=data_sample.sort_values('nama_valid')\n",
    "status_='w_outlier_'\n",
    "columns_data=['B1_p15', 'B2_p15', 'B3_p15',\n",
    "       'B4_p15', 'B5_p15', 'B6_p15', 'B7_p15', 'B8_p15', 'B8A_p15', 'B11_p15',\n",
    "       'B12_p15', 'NDVI_p50', 'NDWI_p50', 'NDBI_p50', 'SAVI_p50', 'EVI_p50',\n",
    "       'GNDVI_p50','nama_valid']\n",
    "X=data_sample[columns_data].drop(['nama_valid'],axis=1)\n",
    "y=data_sample['nama_valid']\n",
    "train_x, valid_x, train_y, valid_y = train_test_split(X, y, test_size=0.2,stratify=y)\n",
    "run_FE_lgbm()\n",
    "print('===========FINISH=======================')\n",
    "print('===========RUN Data w/o Outlier===========')\n",
    "data_sample=pd.read_csv(\"gs://bps-gcp-bucket/MLST2023/preprocessing/sample_\"+str(pic_) +\"_no_outlier_enn_border_smote.csv\",sep=',')\n",
    "data_sample['nama_valid']=data_sample.nama_valid.apply(lambda y: str(y)[:6])\n",
    "data_sample=data_sample.sort_values('nama_valid')\n",
    "status_='wo_outlier_'\n",
    "columns_data=['B1_p15', 'B2_p15', 'B3_p15',\n",
    "       'B4_p15', 'B5_p15', 'B6_p15', 'B7_p15', 'B8_p15', 'B8A_p15', 'B11_p15',\n",
    "       'B12_p15', 'NDVI_p50', 'NDWI_p50', 'NDBI_p50', 'SAVI_p50', 'EVI_p50',\n",
    "       'GNDVI_p50','nama_valid']\n",
    "X=data_sample[columns_data].drop(['nama_valid'],axis=1)\n",
    "y=data_sample['nama_valid']\n",
    "train_x, valid_x, train_y, valid_y = train_test_split(X, y, test_size=0.2,stratify=y)\n",
    "run_FE_lgbm()\n",
    "print('===========FINISH=======================')\n",
    "print('\\n\\nFINISH')"
   ]
  },
  {
   "cell_type": "markdown",
   "id": "0f43b5ee",
   "metadata": {
    "papermill": {
     "duration": 0.004986,
     "end_time": "2022-07-15T02:16:02.332272",
     "exception": false,
     "start_time": "2022-07-15T02:16:02.327286",
     "status": "completed"
    },
    "tags": []
   },
   "source": [
    "### ENN-SMOTE"
   ]
  },
  {
   "cell_type": "code",
   "execution_count": 8,
   "id": "43b25f25",
   "metadata": {
    "execution": {
     "iopub.execute_input": "2022-07-15T02:16:02.342949Z",
     "iopub.status.busy": "2022-07-15T02:16:02.342440Z",
     "iopub.status.idle": "2022-07-15T02:16:17.003854Z",
     "shell.execute_reply": "2022-07-15T02:16:17.003114Z"
    },
    "papermill": {
     "duration": 14.668778,
     "end_time": "2022-07-15T02:16:17.005591",
     "exception": false,
     "start_time": "2022-07-15T02:16:02.336813",
     "status": "completed"
    },
    "tags": []
   },
   "outputs": [
    {
     "name": "stdout",
     "output_type": "stream",
     "text": [
      "RUN DATA WITHOUT ENN-SMOTE\n",
      "\n",
      "\n",
      "===========RUN Data w Outlier===========\n"
     ]
    },
    {
     "name": "stdout",
     "output_type": "stream",
     "text": [
      "Experiment with number of feature: 5  already done. It will be skipped.\n"
     ]
    },
    {
     "name": "stdout",
     "output_type": "stream",
     "text": [
      "Experiment with number of feature: 6  already done. It will be skipped.\n"
     ]
    },
    {
     "name": "stdout",
     "output_type": "stream",
     "text": [
      "Experiment with number of feature: 7  already done. It will be skipped.\n"
     ]
    },
    {
     "name": "stdout",
     "output_type": "stream",
     "text": [
      "Experiment with number of feature: 8  already done. It will be skipped.\n"
     ]
    },
    {
     "name": "stdout",
     "output_type": "stream",
     "text": [
      "Experiment with number of feature: 9  already done. It will be skipped.\n"
     ]
    },
    {
     "name": "stdout",
     "output_type": "stream",
     "text": [
      "Experiment with number of feature: 10  already done. It will be skipped.\n"
     ]
    },
    {
     "name": "stdout",
     "output_type": "stream",
     "text": [
      "Experiment with number of feature: 11  already done. It will be skipped.\n"
     ]
    },
    {
     "name": "stdout",
     "output_type": "stream",
     "text": [
      "Experiment with number of feature: 12  already done. It will be skipped.\n"
     ]
    },
    {
     "name": "stdout",
     "output_type": "stream",
     "text": [
      "Experiment with number of feature: 13  already done. It will be skipped.\n"
     ]
    },
    {
     "name": "stdout",
     "output_type": "stream",
     "text": [
      "Experiment with number of feature: 14  already done. It will be skipped.\n"
     ]
    },
    {
     "name": "stdout",
     "output_type": "stream",
     "text": [
      "Experiment with number of feature: 15  already done. It will be skipped.\n"
     ]
    },
    {
     "name": "stdout",
     "output_type": "stream",
     "text": [
      "Experiment with number of feature: 16  already done. It will be skipped.\n"
     ]
    },
    {
     "name": "stdout",
     "output_type": "stream",
     "text": [
      "Experiment with number of feature: 17  already done. It will be skipped.\n",
      "===========FINISH=======================\n",
      "===========RUN Data w/o Outlier===========\n"
     ]
    },
    {
     "name": "stdout",
     "output_type": "stream",
     "text": [
      "Experiment with number of feature: 5  already done. It will be skipped.\n"
     ]
    },
    {
     "name": "stdout",
     "output_type": "stream",
     "text": [
      "Experiment with number of feature: 6  already done. It will be skipped.\n"
     ]
    },
    {
     "name": "stdout",
     "output_type": "stream",
     "text": [
      "Experiment with number of feature: 7  already done. It will be skipped.\n"
     ]
    },
    {
     "name": "stdout",
     "output_type": "stream",
     "text": [
      "Experiment with number of feature: 8  already done. It will be skipped.\n"
     ]
    },
    {
     "name": "stdout",
     "output_type": "stream",
     "text": [
      "Experiment with number of feature: 9  already done. It will be skipped.\n"
     ]
    },
    {
     "name": "stdout",
     "output_type": "stream",
     "text": [
      "Experiment with number of feature: 10  already done. It will be skipped.\n"
     ]
    },
    {
     "name": "stdout",
     "output_type": "stream",
     "text": [
      "Experiment with number of feature: 11  already done. It will be skipped.\n"
     ]
    },
    {
     "name": "stdout",
     "output_type": "stream",
     "text": [
      "Experiment with number of feature: 12  already done. It will be skipped.\n"
     ]
    },
    {
     "name": "stdout",
     "output_type": "stream",
     "text": [
      "Experiment with number of feature: 13  already done. It will be skipped.\n"
     ]
    },
    {
     "name": "stdout",
     "output_type": "stream",
     "text": [
      "Experiment with number of feature: 14  already done. It will be skipped.\n"
     ]
    },
    {
     "name": "stdout",
     "output_type": "stream",
     "text": [
      "Experiment with number of feature: 15  already done. It will be skipped.\n"
     ]
    },
    {
     "name": "stdout",
     "output_type": "stream",
     "text": [
      "Experiment with number of feature: 16  already done. It will be skipped.\n"
     ]
    },
    {
     "name": "stdout",
     "output_type": "stream",
     "text": [
      "Experiment with number of feature: 17  already done. It will be skipped.\n",
      "===========FINISH=======================\n",
      "\n",
      "\n",
      "FINISH\n"
     ]
    }
   ],
   "source": [
    "print('RUN DATA WITHOUT ENN-SMOTE\\n\\n')\n",
    "print('===========RUN Data w Outlier===========')\n",
    "strategy_='enn_smote'\n",
    "data_sample=pd.read_csv(\"gs://bps-gcp-bucket/MLST2023/preprocessing/sample_\"+str(pic_) +\"_enn_smote.csv\",sep=',')\n",
    "data_sample['nama_valid']=data_sample.nama_valid.apply(lambda y: str(y)[:6])\n",
    "data_sample=data_sample.sort_values('nama_valid')\n",
    "status_='w_outlier_'\n",
    "columns_data=['B1_p15', 'B2_p15', 'B3_p15',\n",
    "       'B4_p15', 'B5_p15', 'B6_p15', 'B7_p15', 'B8_p15', 'B8A_p15', 'B11_p15',\n",
    "       'B12_p15', 'NDVI_p50', 'NDWI_p50', 'NDBI_p50', 'SAVI_p50', 'EVI_p50',\n",
    "       'GNDVI_p50','nama_valid']\n",
    "X=data_sample[columns_data].drop(['nama_valid'],axis=1)\n",
    "y=data_sample['nama_valid']\n",
    "train_x, valid_x, train_y, valid_y = train_test_split(X, y, test_size=0.2,stratify=y)\n",
    "run_FE_lgbm()\n",
    "print('===========FINISH=======================')\n",
    "print('===========RUN Data w/o Outlier===========')\n",
    "data_sample=pd.read_csv(\"gs://bps-gcp-bucket/MLST2023/preprocessing/sample_\"+str(pic_) +\"_no_outlier_enn_smote.csv\",sep=',')\n",
    "data_sample['nama_valid']=data_sample.nama_valid.apply(lambda y: str(y)[:6])\n",
    "data_sample=data_sample.sort_values('nama_valid')\n",
    "status_='wo_outlier_'\n",
    "columns_data=['B1_p15', 'B2_p15', 'B3_p15',\n",
    "       'B4_p15', 'B5_p15', 'B6_p15', 'B7_p15', 'B8_p15', 'B8A_p15', 'B11_p15',\n",
    "       'B12_p15', 'NDVI_p50', 'NDWI_p50', 'NDBI_p50', 'SAVI_p50', 'EVI_p50',\n",
    "       'GNDVI_p50','nama_valid']\n",
    "X=data_sample[columns_data].drop(['nama_valid'],axis=1)\n",
    "y=data_sample['nama_valid']\n",
    "train_x, valid_x, train_y, valid_y = train_test_split(X, y, test_size=0.2,stratify=y)\n",
    "run_FE_lgbm()\n",
    "print('===========FINISH=======================')\n",
    "print('\\n\\nFINISH')"
   ]
  },
  {
   "cell_type": "markdown",
   "id": "ecd80efd",
   "metadata": {
    "papermill": {
     "duration": 0.005763,
     "end_time": "2022-07-15T02:16:17.018248",
     "exception": false,
     "start_time": "2022-07-15T02:16:17.012485",
     "status": "completed"
    },
    "tags": []
   },
   "source": [
    "### TL-BORDER SMOTE"
   ]
  },
  {
   "cell_type": "code",
   "execution_count": 9,
   "id": "cd4a9b75",
   "metadata": {
    "execution": {
     "iopub.execute_input": "2022-07-15T02:16:17.031678Z",
     "iopub.status.busy": "2022-07-15T02:16:17.030986Z",
     "iopub.status.idle": "2022-07-15T02:16:30.743425Z",
     "shell.execute_reply": "2022-07-15T02:16:30.742680Z"
    },
    "papermill": {
     "duration": 13.721059,
     "end_time": "2022-07-15T02:16:30.745019",
     "exception": false,
     "start_time": "2022-07-15T02:16:17.023960",
     "status": "completed"
    },
    "tags": []
   },
   "outputs": [
    {
     "name": "stdout",
     "output_type": "stream",
     "text": [
      "RUN DATA WITHOUT TL-BORDER SMOTE\n",
      "\n",
      "\n",
      "===========RUN Data w Outlier===========\n"
     ]
    },
    {
     "name": "stdout",
     "output_type": "stream",
     "text": [
      "Experiment with number of feature: 5  already done. It will be skipped.\n"
     ]
    },
    {
     "name": "stdout",
     "output_type": "stream",
     "text": [
      "Experiment with number of feature: 6  already done. It will be skipped.\n"
     ]
    },
    {
     "name": "stdout",
     "output_type": "stream",
     "text": [
      "Experiment with number of feature: 7  already done. It will be skipped.\n"
     ]
    },
    {
     "name": "stdout",
     "output_type": "stream",
     "text": [
      "Experiment with number of feature: 8  already done. It will be skipped.\n"
     ]
    },
    {
     "name": "stdout",
     "output_type": "stream",
     "text": [
      "Experiment with number of feature: 9  already done. It will be skipped.\n"
     ]
    },
    {
     "name": "stdout",
     "output_type": "stream",
     "text": [
      "Experiment with number of feature: 10  already done. It will be skipped.\n"
     ]
    },
    {
     "name": "stdout",
     "output_type": "stream",
     "text": [
      "Experiment with number of feature: 11  already done. It will be skipped.\n"
     ]
    },
    {
     "name": "stdout",
     "output_type": "stream",
     "text": [
      "Experiment with number of feature: 12  already done. It will be skipped.\n"
     ]
    },
    {
     "name": "stdout",
     "output_type": "stream",
     "text": [
      "Experiment with number of feature: 13  already done. It will be skipped.\n"
     ]
    },
    {
     "name": "stdout",
     "output_type": "stream",
     "text": [
      "Experiment with number of feature: 14  already done. It will be skipped.\n"
     ]
    },
    {
     "name": "stdout",
     "output_type": "stream",
     "text": [
      "Experiment with number of feature: 15  already done. It will be skipped.\n"
     ]
    },
    {
     "name": "stdout",
     "output_type": "stream",
     "text": [
      "Experiment with number of feature: 16  already done. It will be skipped.\n"
     ]
    },
    {
     "name": "stdout",
     "output_type": "stream",
     "text": [
      "Experiment with number of feature: 17  already done. It will be skipped.\n",
      "===========FINISH=======================\n",
      "===========RUN Data w/o Outlier===========\n"
     ]
    },
    {
     "name": "stdout",
     "output_type": "stream",
     "text": [
      "Experiment with number of feature: 5  already done. It will be skipped.\n"
     ]
    },
    {
     "name": "stdout",
     "output_type": "stream",
     "text": [
      "Experiment with number of feature: 6  already done. It will be skipped.\n"
     ]
    },
    {
     "name": "stdout",
     "output_type": "stream",
     "text": [
      "Experiment with number of feature: 7  already done. It will be skipped.\n"
     ]
    },
    {
     "name": "stdout",
     "output_type": "stream",
     "text": [
      "Experiment with number of feature: 8  already done. It will be skipped.\n"
     ]
    },
    {
     "name": "stdout",
     "output_type": "stream",
     "text": [
      "Experiment with number of feature: 9  already done. It will be skipped.\n"
     ]
    },
    {
     "name": "stdout",
     "output_type": "stream",
     "text": [
      "Experiment with number of feature: 10  already done. It will be skipped.\n"
     ]
    },
    {
     "name": "stdout",
     "output_type": "stream",
     "text": [
      "Experiment with number of feature: 11  already done. It will be skipped.\n"
     ]
    },
    {
     "name": "stdout",
     "output_type": "stream",
     "text": [
      "Experiment with number of feature: 12  already done. It will be skipped.\n"
     ]
    },
    {
     "name": "stdout",
     "output_type": "stream",
     "text": [
      "Experiment with number of feature: 13  already done. It will be skipped.\n"
     ]
    },
    {
     "name": "stdout",
     "output_type": "stream",
     "text": [
      "Experiment with number of feature: 14  already done. It will be skipped.\n"
     ]
    },
    {
     "name": "stdout",
     "output_type": "stream",
     "text": [
      "Experiment with number of feature: 15  already done. It will be skipped.\n"
     ]
    },
    {
     "name": "stdout",
     "output_type": "stream",
     "text": [
      "Experiment with number of feature: 16  already done. It will be skipped.\n"
     ]
    },
    {
     "name": "stdout",
     "output_type": "stream",
     "text": [
      "Experiment with number of feature: 17  already done. It will be skipped.\n",
      "===========FINISH=======================\n",
      "\n",
      "\n",
      "FINISH\n"
     ]
    }
   ],
   "source": [
    "print('RUN DATA WITHOUT TL-BORDER SMOTE\\n\\n')\n",
    "print('===========RUN Data w Outlier===========')\n",
    "strategy_='tl_border_smote'\n",
    "data_sample=pd.read_csv(\"gs://bps-gcp-bucket/MLST2023/preprocessing/sample_\"+str(pic_) +\"_tl_border_smote.csv\",sep=',')\n",
    "data_sample['nama_valid']=data_sample.nama_valid.apply(lambda y: str(y)[:6])\n",
    "data_sample=data_sample.sort_values('nama_valid')\n",
    "status_='w_outlier_'\n",
    "columns_data=['B1_p15', 'B2_p15', 'B3_p15',\n",
    "       'B4_p15', 'B5_p15', 'B6_p15', 'B7_p15', 'B8_p15', 'B8A_p15', 'B11_p15',\n",
    "       'B12_p15', 'NDVI_p50', 'NDWI_p50', 'NDBI_p50', 'SAVI_p50', 'EVI_p50',\n",
    "       'GNDVI_p50','nama_valid']\n",
    "X=data_sample[columns_data].drop(['nama_valid'],axis=1)\n",
    "y=data_sample['nama_valid']\n",
    "train_x, valid_x, train_y, valid_y = train_test_split(X, y, test_size=0.2,stratify=y)\n",
    "run_FE_lgbm()\n",
    "print('===========FINISH=======================')\n",
    "print('===========RUN Data w/o Outlier===========')\n",
    "data_sample=pd.read_csv(\"gs://bps-gcp-bucket/MLST2023/preprocessing/sample_\"+str(pic_) +\"_no_outlier_tl_border_smote.csv\",sep=',')\n",
    "data_sample['nama_valid']=data_sample.nama_valid.apply(lambda y: str(y)[:6])\n",
    "data_sample=data_sample.sort_values('nama_valid')\n",
    "status_='wo_outlier_'\n",
    "columns_data=['B1_p15', 'B2_p15', 'B3_p15',\n",
    "       'B4_p15', 'B5_p15', 'B6_p15', 'B7_p15', 'B8_p15', 'B8A_p15', 'B11_p15',\n",
    "       'B12_p15', 'NDVI_p50', 'NDWI_p50', 'NDBI_p50', 'SAVI_p50', 'EVI_p50',\n",
    "       'GNDVI_p50','nama_valid']\n",
    "X=data_sample[columns_data].drop(['nama_valid'],axis=1)\n",
    "y=data_sample['nama_valid']\n",
    "train_x, valid_x, train_y, valid_y = train_test_split(X, y, test_size=0.2,stratify=y)\n",
    "run_FE_lgbm()\n",
    "print('===========FINISH=======================')\n",
    "print('\\n\\nFINISH')"
   ]
  },
  {
   "cell_type": "markdown",
   "id": "866d662b",
   "metadata": {
    "papermill": {
     "duration": 0.006859,
     "end_time": "2022-07-15T02:16:30.759510",
     "exception": false,
     "start_time": "2022-07-15T02:16:30.752651",
     "status": "completed"
    },
    "tags": []
   },
   "source": [
    "### TL-SMOTE"
   ]
  },
  {
   "cell_type": "code",
   "execution_count": 10,
   "id": "6a0c42db",
   "metadata": {
    "execution": {
     "iopub.execute_input": "2022-07-15T02:16:30.773726Z",
     "iopub.status.busy": "2022-07-15T02:16:30.773140Z",
     "iopub.status.idle": "2022-07-15T02:16:44.828137Z",
     "shell.execute_reply": "2022-07-15T02:16:44.827342Z"
    },
    "papermill": {
     "duration": 14.064069,
     "end_time": "2022-07-15T02:16:44.829961",
     "exception": false,
     "start_time": "2022-07-15T02:16:30.765892",
     "status": "completed"
    },
    "tags": []
   },
   "outputs": [
    {
     "name": "stdout",
     "output_type": "stream",
     "text": [
      "RUN DATA WITHOUT TL-SMOTE\n",
      "\n",
      "\n",
      "===========RUN Data w Outlier===========\n"
     ]
    },
    {
     "name": "stdout",
     "output_type": "stream",
     "text": [
      "Experiment with number of feature: 5  already done. It will be skipped.\n"
     ]
    },
    {
     "name": "stdout",
     "output_type": "stream",
     "text": [
      "Experiment with number of feature: 6  already done. It will be skipped.\n"
     ]
    },
    {
     "name": "stdout",
     "output_type": "stream",
     "text": [
      "Experiment with number of feature: 7  already done. It will be skipped.\n"
     ]
    },
    {
     "name": "stdout",
     "output_type": "stream",
     "text": [
      "Experiment with number of feature: 8  already done. It will be skipped.\n"
     ]
    },
    {
     "name": "stdout",
     "output_type": "stream",
     "text": [
      "Experiment with number of feature: 9  already done. It will be skipped.\n"
     ]
    },
    {
     "name": "stdout",
     "output_type": "stream",
     "text": [
      "Experiment with number of feature: 10  already done. It will be skipped.\n"
     ]
    },
    {
     "name": "stdout",
     "output_type": "stream",
     "text": [
      "Experiment with number of feature: 11  already done. It will be skipped.\n"
     ]
    },
    {
     "name": "stdout",
     "output_type": "stream",
     "text": [
      "Experiment with number of feature: 12  already done. It will be skipped.\n"
     ]
    },
    {
     "name": "stdout",
     "output_type": "stream",
     "text": [
      "Experiment with number of feature: 13  already done. It will be skipped.\n"
     ]
    },
    {
     "name": "stdout",
     "output_type": "stream",
     "text": [
      "Experiment with number of feature: 14  already done. It will be skipped.\n"
     ]
    },
    {
     "name": "stdout",
     "output_type": "stream",
     "text": [
      "Experiment with number of feature: 15  already done. It will be skipped.\n"
     ]
    },
    {
     "name": "stdout",
     "output_type": "stream",
     "text": [
      "Experiment with number of feature: 16  already done. It will be skipped.\n"
     ]
    },
    {
     "name": "stdout",
     "output_type": "stream",
     "text": [
      "Experiment with number of feature: 17  already done. It will be skipped.\n",
      "===========FINISH=======================\n",
      "===========RUN Data w/o Outlier===========\n"
     ]
    },
    {
     "name": "stdout",
     "output_type": "stream",
     "text": [
      "Experiment with number of feature: 5  already done. It will be skipped.\n"
     ]
    },
    {
     "name": "stdout",
     "output_type": "stream",
     "text": [
      "Experiment with number of feature: 6  already done. It will be skipped.\n"
     ]
    },
    {
     "name": "stdout",
     "output_type": "stream",
     "text": [
      "Experiment with number of feature: 7  already done. It will be skipped.\n"
     ]
    },
    {
     "name": "stdout",
     "output_type": "stream",
     "text": [
      "Experiment with number of feature: 8  already done. It will be skipped.\n"
     ]
    },
    {
     "name": "stdout",
     "output_type": "stream",
     "text": [
      "Experiment with number of feature: 9  already done. It will be skipped.\n"
     ]
    },
    {
     "name": "stdout",
     "output_type": "stream",
     "text": [
      "Experiment with number of feature: 10  already done. It will be skipped.\n"
     ]
    },
    {
     "name": "stdout",
     "output_type": "stream",
     "text": [
      "Experiment with number of feature: 11  already done. It will be skipped.\n"
     ]
    },
    {
     "name": "stdout",
     "output_type": "stream",
     "text": [
      "Experiment with number of feature: 12  already done. It will be skipped.\n"
     ]
    },
    {
     "name": "stdout",
     "output_type": "stream",
     "text": [
      "Experiment with number of feature: 13  already done. It will be skipped.\n"
     ]
    },
    {
     "name": "stdout",
     "output_type": "stream",
     "text": [
      "Experiment with number of feature: 14  already done. It will be skipped.\n"
     ]
    },
    {
     "name": "stdout",
     "output_type": "stream",
     "text": [
      "Experiment with number of feature: 15  already done. It will be skipped.\n"
     ]
    },
    {
     "name": "stdout",
     "output_type": "stream",
     "text": [
      "Experiment with number of feature: 16  already done. It will be skipped.\n"
     ]
    },
    {
     "name": "stdout",
     "output_type": "stream",
     "text": [
      "Experiment with number of feature: 17  already done. It will be skipped.\n",
      "===========FINISH=======================\n",
      "\n",
      "\n",
      "FINISH\n"
     ]
    }
   ],
   "source": [
    "print('RUN DATA WITHOUT TL-SMOTE\\n\\n')\n",
    "print('===========RUN Data w Outlier===========')\n",
    "strategy_='tl_smote'\n",
    "data_sample=pd.read_csv(\"gs://bps-gcp-bucket/MLST2023/preprocessing/sample_\"+str(pic_) +\"_tl_smote.csv\",sep=',')\n",
    "data_sample['nama_valid']=data_sample.nama_valid.apply(lambda y: str(y)[:6])\n",
    "data_sample=data_sample.sort_values('nama_valid')\n",
    "status_='w_outlier_'\n",
    "columns_data=['B1_p15', 'B2_p15', 'B3_p15',\n",
    "       'B4_p15', 'B5_p15', 'B6_p15', 'B7_p15', 'B8_p15', 'B8A_p15', 'B11_p15',\n",
    "       'B12_p15', 'NDVI_p50', 'NDWI_p50', 'NDBI_p50', 'SAVI_p50', 'EVI_p50',\n",
    "       'GNDVI_p50','nama_valid']\n",
    "X=data_sample[columns_data].drop(['nama_valid'],axis=1)\n",
    "y=data_sample['nama_valid']\n",
    "train_x, valid_x, train_y, valid_y = train_test_split(X, y, test_size=0.2,stratify=y)\n",
    "run_FE_lgbm()\n",
    "print('===========FINISH=======================')\n",
    "print('===========RUN Data w/o Outlier===========')\n",
    "data_sample=pd.read_csv(\"gs://bps-gcp-bucket/MLST2023/preprocessing/sample_\"+str(pic_) +\"_no_outlier_tl_smote.csv\",sep=',')\n",
    "data_sample['nama_valid']=data_sample.nama_valid.apply(lambda y: str(y)[:6])\n",
    "data_sample=data_sample.sort_values('nama_valid')\n",
    "status_='wo_outlier_'\n",
    "columns_data=['B1_p15', 'B2_p15', 'B3_p15',\n",
    "       'B4_p15', 'B5_p15', 'B6_p15', 'B7_p15', 'B8_p15', 'B8A_p15', 'B11_p15',\n",
    "       'B12_p15', 'NDVI_p50', 'NDWI_p50', 'NDBI_p50', 'SAVI_p50', 'EVI_p50',\n",
    "       'GNDVI_p50','nama_valid']\n",
    "X=data_sample[columns_data].drop(['nama_valid'],axis=1)\n",
    "y=data_sample['nama_valid']\n",
    "train_x, valid_x, train_y, valid_y = train_test_split(X, y, test_size=0.2,stratify=y)\n",
    "run_FE_lgbm()\n",
    "print('===========FINISH=======================')\n",
    "print('\\n\\nFINISH')"
   ]
  }
 ],
 "metadata": {
  "celltoolbar": "Tags",
  "kernelspec": {
   "display_name": "Python 3 (ipykernel)",
   "language": "python",
   "name": "python3"
  },
  "language_info": {
   "codemirror_mode": {
    "name": "ipython",
    "version": 3
   },
   "file_extension": ".py",
   "mimetype": "text/x-python",
   "name": "python",
   "nbconvert_exporter": "python",
   "pygments_lexer": "ipython3",
   "version": "3.8.12"
  },
  "papermill": {
   "default_parameters": {},
   "duration": 74.92146,
   "end_time": "2022-07-15T02:16:45.358205",
   "environment_variables": {},
   "exception": null,
   "input_path": "04_b_LGBM-FeatureSelection.ipynb",
   "output_path": "04_b_LGBM-FeatureSelection.ipynb",
   "parameters": {
    "pic_": "F",
    "tracking_uri_": "http://34.128.104.38:5000"
   },
   "start_time": "2022-07-15T02:15:30.436745",
   "version": "2.3.4"
  }
 },
 "nbformat": 4,
 "nbformat_minor": 5
}