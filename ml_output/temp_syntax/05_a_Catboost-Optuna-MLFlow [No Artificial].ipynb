{
 "cells": [
  {
   "cell_type": "code",
   "execution_count": null,
   "id": "515a3750",
   "metadata": {
    "execution": {
     "iopub.execute_input": "2022-07-12T01:15:47.371109Z",
     "iopub.status.busy": "2022-07-12T01:15:47.370852Z",
     "iopub.status.idle": "2022-07-12T01:15:47.377647Z",
     "shell.execute_reply": "2022-07-12T01:15:47.377101Z"
    },
    "papermill": {
     "duration": 0.011919,
     "end_time": "2022-07-12T01:15:47.379366",
     "exception": false,
     "start_time": "2022-07-12T01:15:47.367447",
     "status": "completed"
    },
    "tags": [
     "parameters"
    ]
   },
   "outputs": [],
   "source": [
    "\n",
    "pic_='F'\n",
    "tracking_uri_='http://34.128.104.38:5000'"
   ]
  },
  {
   "cell_type": "code",
   "execution_count": null,
   "id": "7d5a8462",
   "metadata": {
    "execution": {
     "iopub.execute_input": "2022-07-12T01:15:47.386043Z",
     "iopub.status.busy": "2022-07-12T01:15:47.385592Z",
     "iopub.status.idle": "2022-07-12T01:15:47.389238Z",
     "shell.execute_reply": "2022-07-12T01:15:47.388496Z"
    },
    "papermill": {
     "duration": 0.008179,
     "end_time": "2022-07-12T01:15:47.390713",
     "exception": false,
     "start_time": "2022-07-12T01:15:47.382534",
     "status": "completed"
    },
    "tags": [
     "injected-parameters"
    ]
   },
   "outputs": [],
   "source": [
    "# Parameters\n",
    "pic_ = \"F\"\n",
    "tracking_uri_ = \"http://34.128.104.38:5000\"\n"
   ]
  },
  {
   "cell_type": "code",
   "execution_count": null,
   "id": "a2dd4736",
   "metadata": {
    "execution": {
     "iopub.execute_input": "2022-07-12T01:15:47.395459Z",
     "iopub.status.busy": "2022-07-12T01:15:47.395213Z",
     "iopub.status.idle": "2022-07-12T01:15:49.390158Z",
     "shell.execute_reply": "2022-07-12T01:15:49.389507Z"
    },
    "papermill": {
     "duration": 1.99977,
     "end_time": "2022-07-12T01:15:49.392213",
     "exception": false,
     "start_time": "2022-07-12T01:15:47.392443",
     "status": "completed"
    },
    "tags": []
   },
   "outputs": [],
   "source": [
    "import pandas as pd\n",
    "import numpy as np\n",
    "from catboost import Pool, CatBoostClassifier\n",
    "\n",
    "from datetime import datetime\n",
    "\n",
    "from sklearn.metrics import accuracy_score, f1_score,cohen_kappa_score,roc_auc_score,log_loss\n",
    "from sklearn.model_selection import train_test_split\n",
    "from sklearn.model_selection import StratifiedKFold\n",
    "\n",
    "import pickle5 as pickle\n",
    "from google.cloud import storage\n",
    "\n",
    "import os\n",
    "import matplotlib.pyplot as plt\n",
    "import seaborn as sns\n",
    "\n",
    "import optuna\n",
    "from optuna.integration.mlflow import MLflowCallback\n",
    "import mlflow\n",
    "\n",
    "#optuna.logging.set_verbosity(optuna.logging.WARNING)\n",
    "\n"
   ]
  },
  {
   "cell_type": "code",
   "execution_count": null,
   "id": "4e66b5f3",
   "metadata": {
    "execution": {
     "iopub.execute_input": "2022-07-12T01:15:49.399307Z",
     "iopub.status.busy": "2022-07-12T01:15:49.398581Z",
     "iopub.status.idle": "2022-07-12T01:15:49.402629Z",
     "shell.execute_reply": "2022-07-12T01:15:49.402028Z"
    },
    "papermill": {
     "duration": 0.008558,
     "end_time": "2022-07-12T01:15:49.404031",
     "exception": false,
     "start_time": "2022-07-12T01:15:49.395473",
     "status": "completed"
    },
    "tags": []
   },
   "outputs": [],
   "source": [
    "with open('model/feature_selection/fs.pickle', 'rb') as handle:\n",
    "    fs_=pickle.load(handle)"
   ]
  },
  {
   "cell_type": "code",
   "execution_count": null,
   "id": "7b06a858",
   "metadata": {
    "execution": {
     "iopub.execute_input": "2022-07-12T01:15:49.408944Z",
     "iopub.status.busy": "2022-07-12T01:15:49.408715Z",
     "iopub.status.idle": "2022-07-12T01:15:49.411765Z",
     "shell.execute_reply": "2022-07-12T01:15:49.411139Z"
    },
    "papermill": {
     "duration": 0.007218,
     "end_time": "2022-07-12T01:15:49.413186",
     "exception": false,
     "start_time": "2022-07-12T01:15:49.405968",
     "status": "completed"
    },
    "tags": []
   },
   "outputs": [],
   "source": [
    "catboost_params=fs_['catboost-wo_artificial']"
   ]
  },
  {
   "cell_type": "code",
   "execution_count": null,
   "id": "299de600",
   "metadata": {},
   "outputs": [],
   "source": [
    "catboost_params"
   ]
  },
  {
   "cell_type": "code",
   "execution_count": null,
   "id": "0a517962",
   "metadata": {
    "execution": {
     "iopub.execute_input": "2022-07-12T01:15:49.417972Z",
     "iopub.status.busy": "2022-07-12T01:15:49.417755Z",
     "iopub.status.idle": "2022-07-12T01:15:49.426399Z",
     "shell.execute_reply": "2022-07-12T01:15:49.425847Z"
    },
    "papermill": {
     "duration": 0.012945,
     "end_time": "2022-07-12T01:15:49.427998",
     "exception": false,
     "start_time": "2022-07-12T01:15:49.415053",
     "status": "completed"
    },
    "tags": []
   },
   "outputs": [],
   "source": [
    "feature_used=catboost_params['params.feature_name'].replace('[','').replace(']','').replace('\\'','').replace(' ','').split(',')\n",
    "feature_used.append('nama_valid')\n",
    "if catboost_params['params.condition']=='w_outlier_':\n",
    "    data_sample=pd.read_csv(\"gs://bps-gcp-bucket/MLST2023/preprocessing/sample_\"+\n",
    "                             str(pic_) +\".csv\",sep=',')[feature_used]\n",
    "else:\n",
    "    data_sample=pd.read_csv(\"gs://bps-gcp-bucket/MLST2023/preprocessing/sample_\"+\n",
    "                             str(pic_) +\"_no_outlier.csv\",sep=',')[feature_used]"
   ]
  },
  {
   "cell_type": "code",
   "execution_count": null,
   "id": "f0d43348",
   "metadata": {
    "execution": {
     "iopub.execute_input": "2022-07-12T01:16:00.019323Z",
     "iopub.status.busy": "2022-07-12T01:16:00.018488Z",
     "iopub.status.idle": "2022-07-12T01:16:00.675311Z",
     "shell.execute_reply": "2022-07-12T01:16:00.673555Z"
    },
    "papermill": {
     "duration": 0.667771,
     "end_time": "2022-07-12T01:16:00.677610",
     "exception": false,
     "start_time": "2022-07-12T01:16:00.009839",
     "status": "completed"
    },
    "tags": []
   },
   "outputs": [],
   "source": [
    "columns_data=data_sample.columns.to_list()\n",
    "columns_data.remove('nama_valid')\n",
    "data_sample=data_sample\n",
    "X=data_sample[columns_data]\n",
    "y=data_sample[['nama_valid']]\n",
    "    \n",
    "train_x, valid_x, train_y, valid_y = train_test_split(X, y, test_size=0.2,stratify=y)"
   ]
  },
  {
   "cell_type": "code",
   "execution_count": null,
   "id": "5a2cd5ff",
   "metadata": {
    "execution": {
     "iopub.execute_input": "2022-07-12T01:16:00.686016Z",
     "iopub.status.busy": "2022-07-12T01:16:00.685737Z",
     "iopub.status.idle": "2022-07-12T01:16:00.702054Z",
     "shell.execute_reply": "2022-07-12T01:16:00.701207Z"
    },
    "papermill": {
     "duration": 0.022515,
     "end_time": "2022-07-12T01:16:00.704034",
     "exception": false,
     "start_time": "2022-07-12T01:16:00.681519",
     "status": "completed"
    },
    "tags": []
   },
   "outputs": [],
   "source": [
    "mlflc = MLflowCallback(tracking_uri=tracking_uri_,nest_trials=True,\n",
    "                      metric_name=['f1_micro','log_loss','roc_auc_score','cohen_kappa'])\n",
    "@mlflc.track_in_mlflow()\n",
    "def catb_obj(trial):\n",
    "    param = {\n",
    "        \"objective\": \"MultiClass\",\n",
    "        \"used_ram_limit\": \"25gb\",\n",
    "        \"iterations\":trial.suggest_categorical(\"iterations\", [100,200,500,1000]),\n",
    "        \"random_seed\":1234,\n",
    "        \"learning_rate\":trial.suggest_float(\"learning_rate\",0.0001,0.1),\n",
    "        \"depth\": trial.suggest_int(\"depth\", 6, 16),\n",
    "        \"colsample_bylevel\": trial.suggest_float(\"colsample_bylevel\", 0.01, 0.1),\n",
    "        \"boosting_type\": trial.suggest_categorical(\"boosting_type\", [\"Plain\"]),\n",
    "        \n",
    "        'min_data_in_leaf': trial.suggest_int('min_data_in_leaf', 1, 300),\n",
    "        'l2_leaf_reg': trial.suggest_float('l2_leaf_reg', 0.000001, 1.0, log = True),\n",
    "        \n",
    "        \"auto_class_weights\":trial.suggest_categorical(\"auto_class_weights\",[\"Balanced\",\"SqrtBalanced\"]),\n",
    "        \"bootstrap_type\": trial.suggest_categorical(\n",
    "            \"bootstrap_type\", [\"Bayesian\", \"Bernoulli\", \"MVS\"]\n",
    "        )\n",
    "    }\n",
    "\n",
    "    if param[\"bootstrap_type\"] == \"Bayesian\":\n",
    "        param[\"bagging_temperature\"] = trial.suggest_float(\"bagging_temperature\", 0, 10)\n",
    "    elif param[\"bootstrap_type\"] == \"Bernoulli\":\n",
    "        param[\"subsample\"] = trial.suggest_float(\"subsample\", 0.1, 1)\n",
    "\n",
    "    cat_= CatBoostClassifier(**param)\n",
    "    sk_fold=StratifiedKFold(n_splits=5,shuffle=False)\n",
    "    f1_micro=[]\n",
    "    log_loss_=[]\n",
    "    roc_auc_score_=[]\n",
    "    cohen_kappa_score_=[]\n",
    "    for train_index, test_index in sk_fold.split(train_x, train_y):\n",
    "        pool_train=Pool(train_x.iloc[train_index,],train_y.iloc[train_index,])\n",
    "        pool_valid=Pool(valid_x,valid_y)\n",
    "        \n",
    "        cat_.fit(pool_train, eval_set=pool_valid, verbose=0, early_stopping_rounds=1000)\n",
    "        preds = cat_.predict(pool_valid)\n",
    "        preds_proba_=cat_.predict_proba(pool_valid)\n",
    "        pred_labels = np.rint(preds)\n",
    "        f1_micro.append(f1_score(valid_y, pred_labels,average='micro'))\n",
    "        log_loss_.append(log_loss(valid_y,preds_proba_))\n",
    "        roc_auc_score_.append(roc_auc_score(valid_y, preds_proba_, average=\"weighted\", multi_class=\"ovr\"))\n",
    "        cohen_kappa_score_.append(cohen_kappa_score(valid_y, pred_labels))\n",
    "    \n",
    "    mlflow.log_param('algorithm',\"catboost\")        \n",
    "    mlflow.log_param('strategy','no artificial')    \n",
    "    mlflow.catboost.log_model(cat_, \"catboost_model\")\n",
    "    return np.mean(f1_micro), np.mean(log_loss_), np.mean(roc_auc_score_),np.mean(cohen_kappa_score_)"
   ]
  },
  {
   "cell_type": "code",
   "execution_count": null,
   "id": "87986899",
   "metadata": {
    "execution": {
     "iopub.execute_input": "2022-07-12T01:16:00.711956Z",
     "iopub.status.busy": "2022-07-12T01:16:00.711103Z",
     "iopub.status.idle": "2022-07-12T02:17:07.199059Z",
     "shell.execute_reply": "2022-07-12T02:17:07.198014Z"
    },
    "papermill": {
     "duration": 3666.496585,
     "end_time": "2022-07-12T02:17:07.203215",
     "exception": false,
     "start_time": "2022-07-12T01:16:00.706630",
     "status": "completed"
    },
    "tags": []
   },
   "outputs": [],
   "source": [
    "from mlflow.tracking import MlflowClient\n",
    "client = MlflowClient()\n",
    "if __name__ == '__main__':\n",
    "    study = optuna.create_study(study_name='Hyper Parameter Tuning',load_if_exists=True, \n",
    "                                storage='sqlite:///tuning_catboost_no_artificial.db',\n",
    "                                directions=['maximize','minimize','maximize','maximize'])\n",
    "    study.optimize(catb_obj, n_trials=50, callbacks=[mlflc],n_jobs=1)\n"
   ]
  }
 ],
 "metadata": {
  "celltoolbar": "Tags",
  "kernelspec": {
   "display_name": "Python 3 (ipykernel)",
   "language": "python",
   "name": "python3"
  },
  "language_info": {
   "codemirror_mode": {
    "name": "ipython",
    "version": 3
   },
   "file_extension": ".py",
   "mimetype": "text/x-python",
   "name": "python",
   "nbconvert_exporter": "python",
   "pygments_lexer": "ipython3",
   "version": "3.8.12"
  },
  "papermill": {
   "default_parameters": {},
   "duration": 3683.374266,
   "end_time": "2022-07-12T02:17:09.945873",
   "environment_variables": {},
   "exception": null,
   "input_path": "05_a_Catboost-Optuna-MLFlow.ipynb",
   "output_path": "05_a_Catboost-Optuna-MLFlow.ipynb",
   "parameters": {
    "pic_": "F",
    "tracking_uri_": "http://34.128.104.38:5000"
   },
   "start_time": "2022-07-12T01:15:46.571607",
   "version": "2.3.4"
  }
 },
 "nbformat": 4,
 "nbformat_minor": 5
}
