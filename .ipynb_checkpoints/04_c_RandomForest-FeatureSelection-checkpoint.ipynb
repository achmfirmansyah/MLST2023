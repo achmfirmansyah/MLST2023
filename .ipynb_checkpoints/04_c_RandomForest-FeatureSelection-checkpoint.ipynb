{
 "cells": [
  {
   "cell_type": "code",
   "execution_count": 1,
   "id": "bd15ba79",
   "metadata": {
    "execution": {
     "iopub.execute_input": "2022-07-14T02:36:08.097425Z",
     "iopub.status.busy": "2022-07-14T02:36:08.097068Z",
     "iopub.status.idle": "2022-07-14T02:36:08.103617Z",
     "shell.execute_reply": "2022-07-14T02:36:08.103147Z"
    },
    "papermill": {
     "duration": 0.011631,
     "end_time": "2022-07-14T02:36:08.105061",
     "exception": false,
     "start_time": "2022-07-14T02:36:08.093430",
     "status": "completed"
    },
    "tags": [
     "parameters"
    ]
   },
   "outputs": [],
   "source": [
    "pic_='F'\n",
    "tracking_uri_=\"http://34.128.104.38:5000\""
   ]
  },
  {
   "cell_type": "code",
   "execution_count": 2,
   "id": "5168b721",
   "metadata": {
    "execution": {
     "iopub.execute_input": "2022-07-14T02:36:08.112925Z",
     "iopub.status.busy": "2022-07-14T02:36:08.112332Z",
     "iopub.status.idle": "2022-07-14T02:36:08.115948Z",
     "shell.execute_reply": "2022-07-14T02:36:08.115373Z"
    },
    "papermill": {
     "duration": 0.008388,
     "end_time": "2022-07-14T02:36:08.117412",
     "exception": false,
     "start_time": "2022-07-14T02:36:08.109024",
     "status": "completed"
    },
    "tags": [
     "injected-parameters"
    ]
   },
   "outputs": [],
   "source": [
    "# Parameters\n",
    "pic_ = \"F\"\n",
    "tracking_uri_ = \"http://34.128.104.38:5000\"\n"
   ]
  },
  {
   "cell_type": "code",
   "execution_count": 3,
   "id": "a9ed1efd",
   "metadata": {
    "execution": {
     "iopub.execute_input": "2022-07-14T02:36:08.123172Z",
     "iopub.status.busy": "2022-07-14T02:36:08.122725Z",
     "iopub.status.idle": "2022-07-14T02:36:09.117103Z",
     "shell.execute_reply": "2022-07-14T02:36:09.116549Z"
    },
    "papermill": {
     "duration": 0.999351,
     "end_time": "2022-07-14T02:36:09.119112",
     "exception": false,
     "start_time": "2022-07-14T02:36:08.119761",
     "status": "completed"
    },
    "tags": []
   },
   "outputs": [],
   "source": [
    "import pandas as pd \n",
    "import numpy as np\n",
    "import os\n",
    "import scipy\n",
    "from datetime import datetime\n",
    "import warnings\n",
    "warnings.filterwarnings(\"ignore\")\n",
    "\n",
    "\n",
    "from sklearn.feature_selection import RFE\n",
    "from sklearn.model_selection import train_test_split\n",
    "from sklearn.metrics import accuracy_score, f1_score,log_loss\n",
    "\n",
    "from sklearn.ensemble import RandomForestClassifier\n",
    "\n",
    "import pickle5 as pickle\n",
    "import os\n",
    "\n",
    "from google.cloud import storage\n",
    "client = storage.Client()\n",
    "os.environ['GOOGLE_APPLICATION_CREDENTIALS'] = 'gcp_store.json'\n",
    "\n",
    "from multiprocessing import Pool as pool_x\n",
    "\n",
    "from itertools import repeat\n",
    "import mlflow\n",
    "from mlflow.tracking import MlflowClient\n"
   ]
  },
  {
   "cell_type": "code",
   "execution_count": 4,
   "id": "efed08da",
   "metadata": {
    "execution": {
     "iopub.execute_input": "2022-07-14T02:36:09.126462Z",
     "iopub.status.busy": "2022-07-14T02:36:09.125975Z",
     "iopub.status.idle": "2022-07-14T02:36:09.135902Z",
     "shell.execute_reply": "2022-07-14T02:36:09.135349Z"
    },
    "papermill": {
     "duration": 0.014763,
     "end_time": "2022-07-14T02:36:09.137377",
     "exception": false,
     "start_time": "2022-07-14T02:36:09.122614",
     "status": "completed"
    },
    "tags": []
   },
   "outputs": [],
   "source": [
    "def parallel_FE_rforest(i):\n",
    "    global pic_,status_, train_x, valid_x, train_y, valid_y, columns_data, strategy_\n",
    "    \n",
    "    experiment_name = \"Feature Selection\"\n",
    "    ## check if the experiment already exists\n",
    "    if not mlflow.get_experiment_by_name(experiment_name):\n",
    "        mlflow.create_experiment(name=experiment_name) \n",
    "    experiment = mlflow.get_experiment_by_name(experiment_name)\n",
    "    ### check finished experiment\n",
    "    client = MlflowClient()\n",
    "    exp_r = client.get_experiment_by_name(\"Feature Selection\")\n",
    "    client_run=mlflow.search_runs([exp_r.experiment_id], order_by=[\"metrics.f1_micro DESC\"])\n",
    "    if ((client_run.shape[0]>0)&(\"params.condition\" in client_run.columns)&\n",
    "        (\"params.algorithm\" in client_run.columns)&(\"params.strategy\" in client_run.columns)):\n",
    "        client_run=client_run.loc[(client_run[\"params.condition\"]==status_)&\n",
    "                                  (client_run[\"params.algorithm\"]=='randomforest')&\n",
    "                                  (client_run[\"params.strategy\"]==strategy_)]\n",
    "        if str(i) in client_run['params.num_feature'].to_list():\n",
    "            print('Experiment with number of feature:',i, ' already done. It will be skipped.')\n",
    "            return ''\n",
    "    mlflow.set_tracking_uri(tracking_uri_)\n",
    "    \n",
    "    with mlflow.start_run(experiment_id = experiment.experiment_id,\n",
    "                          run_name=status_+'-'+datetime.now().strftime(\"%d/%m/%Y %H:%M:%S\")):\n",
    "        model=RandomForestClassifier(n_estimators=20,random_state=1234)\n",
    "        selector = RFE(model, n_features_to_select=i, step=1)\n",
    "        selector.fit(train_x, train_y)\n",
    "        \n",
    "        pred_labels=selector.predict(valid_x).tolist()\n",
    "        preds_proba_=selector.predict_proba(valid_x)\n",
    "        \n",
    "        \n",
    "        f1_micro=f1_score(valid_y, pred_labels,average='micro')\n",
    "        log_loss_=log_loss(valid_y,preds_proba_)\n",
    "        col_data=[columns_data[j] for j in list(np.where(selector.support_)[0])]    \n",
    "        \n",
    "        mlflow.log_param(\"num_feature\", i)\n",
    "        mlflow.log_param('feature_name',col_data)\n",
    "        mlflow.log_param('condition',status_)\n",
    "        mlflow.log_param('algorithm',\"randomforest\")        \n",
    "        mlflow.log_param('strategy',strategy_)\n",
    "\n",
    "        mlflow.log_metric(\"f1_micro\", f1_micro)\n",
    "        mlflow.log_metric(\"log_loss\", log_loss_)\n",
    "        \n",
    "    return ''"
   ]
  },
  {
   "cell_type": "code",
   "execution_count": 5,
   "id": "4aea0c4e",
   "metadata": {
    "execution": {
     "iopub.execute_input": "2022-07-14T02:36:09.143028Z",
     "iopub.status.busy": "2022-07-14T02:36:09.142671Z",
     "iopub.status.idle": "2022-07-14T02:36:09.146737Z",
     "shell.execute_reply": "2022-07-14T02:36:09.146198Z"
    },
    "papermill": {
     "duration": 0.008758,
     "end_time": "2022-07-14T02:36:09.148347",
     "exception": false,
     "start_time": "2022-07-14T02:36:09.139589",
     "status": "completed"
    },
    "tags": []
   },
   "outputs": [],
   "source": [
    "def run_FE_rforest():\n",
    "    y1=range(5,18)\n",
    "    with pool_x(28) as p:\n",
    "        p.map(parallel_FE_rforest,y1)\n",
    "    #for i1 in y1:\n",
    "    #    parallel_FE_rforest(i1)"
   ]
  },
  {
   "cell_type": "markdown",
   "id": "a6ec2ead",
   "metadata": {
    "papermill": {
     "duration": 0.002141,
     "end_time": "2022-07-14T02:36:09.152777",
     "exception": false,
     "start_time": "2022-07-14T02:36:09.150636",
     "status": "completed"
    },
    "tags": []
   },
   "source": [
    "### Without Artificial Data"
   ]
  },
  {
   "cell_type": "code",
   "execution_count": 6,
   "id": "10228344",
   "metadata": {
    "execution": {
     "iopub.execute_input": "2022-07-14T02:36:09.158102Z",
     "iopub.status.busy": "2022-07-14T02:36:09.157739Z",
     "iopub.status.idle": "2022-07-14T02:38:50.329834Z",
     "shell.execute_reply": "2022-07-14T02:38:50.327287Z"
    },
    "papermill": {
     "duration": 161.17717,
     "end_time": "2022-07-14T02:38:50.332072",
     "exception": false,
     "start_time": "2022-07-14T02:36:09.154902",
     "status": "completed"
    },
    "tags": []
   },
   "outputs": [
    {
     "name": "stdout",
     "output_type": "stream",
     "text": [
      "RUN DATA WITHOUT ARTIFICIAL DATA\n",
      "\n",
      "\n",
      "===========RUN Data w Outlier===========\n",
      "===========FINISH=======================\n",
      "===========RUN Data w/o Outlier===========\n",
      "===========FINISH=======================\n",
      "\n",
      "\n",
      "FINISH\n"
     ]
    }
   ],
   "source": [
    "print('RUN DATA WITHOUT ARTIFICIAL DATA\\n\\n')\n",
    "print('===========RUN Data w Outlier===========')\n",
    "strategy_='no artificial'\n",
    "data_sample=pd.read_csv(\"gs://bps-gcp-bucket/MLST2023/preprocessing/sample_\"+str(pic_) +\".csv\",sep=',')\n",
    "data_sample['nama_valid']=data_sample.nama_valid.apply(lambda y: str(y)[:6])\n",
    "data_sample=data_sample.sort_values('nama_valid')\n",
    "status_='w_outlier_'\n",
    "columns_data=['B1_p15', 'B2_p15', 'B3_p15',\n",
    "       'B4_p15', 'B5_p15', 'B6_p15', 'B7_p15', 'B8_p15', 'B8A_p15', 'B11_p15',\n",
    "       'B12_p15', 'NDVI_p50', 'NDWI_p50', 'NDBI_p50', 'SAVI_p50', 'EVI_p50',\n",
    "       'GNDVI_p50','nama_valid']\n",
    "X=data_sample[columns_data].drop(['nama_valid'],axis=1)\n",
    "y=data_sample['nama_valid']\n",
    "train_x, valid_x, train_y, valid_y = train_test_split(X, y, test_size=0.2,stratify=y)\n",
    "run_FE_rforest()\n",
    "print('===========FINISH=======================')\n",
    "print('===========RUN Data w/o Outlier===========')\n",
    "data_sample=pd.read_csv(\"gs://bps-gcp-bucket/MLST2023/preprocessing/sample_\"+str(pic_) +\"_no_outlier.csv\",sep=',')\n",
    "data_sample['nama_valid']=data_sample.nama_valid.apply(lambda y: str(y)[:6])\n",
    "data_sample=data_sample.sort_values('nama_valid')\n",
    "status_='wo_outlier_'\n",
    "columns_data=['B1_p15', 'B2_p15', 'B3_p15',\n",
    "       'B4_p15', 'B5_p15', 'B6_p15', 'B7_p15', 'B8_p15', 'B8A_p15', 'B11_p15',\n",
    "       'B12_p15', 'NDVI_p50', 'NDWI_p50', 'NDBI_p50', 'SAVI_p50', 'EVI_p50',\n",
    "       'GNDVI_p50','nama_valid']\n",
    "X=data_sample[columns_data].drop(['nama_valid'],axis=1)\n",
    "y=data_sample['nama_valid']\n",
    "train_x, valid_x, train_y, valid_y = train_test_split(X, y, test_size=0.2,stratify=y)\n",
    "run_FE_rforest()\n",
    "print('===========FINISH=======================')\n",
    "print('\\n\\nFINISH')"
   ]
  },
  {
   "cell_type": "markdown",
   "id": "c3d40830",
   "metadata": {
    "papermill": {
     "duration": 0.002669,
     "end_time": "2022-07-14T02:38:50.338314",
     "exception": false,
     "start_time": "2022-07-14T02:38:50.335645",
     "status": "completed"
    },
    "tags": []
   },
   "source": [
    "### ENN-BORDER SMOTE"
   ]
  },
  {
   "cell_type": "code",
   "execution_count": 7,
   "id": "a7c0d059",
   "metadata": {
    "execution": {
     "iopub.execute_input": "2022-07-14T02:38:50.345200Z",
     "iopub.status.busy": "2022-07-14T02:38:50.344933Z",
     "iopub.status.idle": "2022-07-14T02:39:39.131822Z",
     "shell.execute_reply": "2022-07-14T02:39:39.131122Z"
    },
    "papermill": {
     "duration": 48.794437,
     "end_time": "2022-07-14T02:39:39.135420",
     "exception": false,
     "start_time": "2022-07-14T02:38:50.340983",
     "status": "completed"
    },
    "tags": []
   },
   "outputs": [
    {
     "name": "stdout",
     "output_type": "stream",
     "text": [
      "RUN DATA WITHOUT ENN-BORDER SMOTE\n",
      "\n",
      "\n",
      "===========RUN Data w Outlier===========\n",
      "===========FINISH=======================\n",
      "===========RUN Data w/o Outlier===========\n",
      "===========FINISH=======================\n",
      "\n",
      "\n",
      "FINISH\n"
     ]
    }
   ],
   "source": [
    "print('RUN DATA WITHOUT ENN-BORDER SMOTE\\n\\n')\n",
    "print('===========RUN Data w Outlier===========')\n",
    "strategy_='enn_border_smote'\n",
    "data_sample=pd.read_csv(\"gs://bps-gcp-bucket/MLST2023/preprocessing/sample_\"+str(pic_) +\"_enn_border_smote.csv\",sep=',')\n",
    "data_sample['nama_valid']=data_sample.nama_valid.apply(lambda y: str(y)[:6])\n",
    "data_sample=data_sample.sort_values('nama_valid')\n",
    "status_='w_outlier_'\n",
    "columns_data=['B1_p15', 'B2_p15', 'B3_p15',\n",
    "       'B4_p15', 'B5_p15', 'B6_p15', 'B7_p15', 'B8_p15', 'B8A_p15', 'B11_p15',\n",
    "       'B12_p15', 'NDVI_p50', 'NDWI_p50', 'NDBI_p50', 'SAVI_p50', 'EVI_p50',\n",
    "       'GNDVI_p50','nama_valid']\n",
    "X=data_sample[columns_data].drop(['nama_valid'],axis=1)\n",
    "y=data_sample['nama_valid']\n",
    "train_x, valid_x, train_y, valid_y = train_test_split(X, y, test_size=0.2,stratify=y)\n",
    "run_FE_rforest()\n",
    "print('===========FINISH=======================')\n",
    "print('===========RUN Data w/o Outlier===========')\n",
    "data_sample=pd.read_csv(\"gs://bps-gcp-bucket/MLST2023/preprocessing/sample_\"+str(pic_) +\"_no_outlier_enn_border_smote.csv\",sep=',')\n",
    "data_sample['nama_valid']=data_sample.nama_valid.apply(lambda y: str(y)[:6])\n",
    "data_sample=data_sample.sort_values('nama_valid')\n",
    "status_='wo_outlier_'\n",
    "columns_data=['B1_p15', 'B2_p15', 'B3_p15',\n",
    "       'B4_p15', 'B5_p15', 'B6_p15', 'B7_p15', 'B8_p15', 'B8A_p15', 'B11_p15',\n",
    "       'B12_p15', 'NDVI_p50', 'NDWI_p50', 'NDBI_p50', 'SAVI_p50', 'EVI_p50',\n",
    "       'GNDVI_p50','nama_valid']\n",
    "X=data_sample[columns_data].drop(['nama_valid'],axis=1)\n",
    "y=data_sample['nama_valid']\n",
    "train_x, valid_x, train_y, valid_y = train_test_split(X, y, test_size=0.2,stratify=y)\n",
    "run_FE_rforest()\n",
    "print('===========FINISH=======================')\n",
    "print('\\n\\nFINISH')"
   ]
  },
  {
   "cell_type": "markdown",
   "id": "ef424d7f",
   "metadata": {
    "papermill": {
     "duration": 0.002669,
     "end_time": "2022-07-14T02:39:39.141751",
     "exception": false,
     "start_time": "2022-07-14T02:39:39.139082",
     "status": "completed"
    },
    "tags": []
   },
   "source": [
    "### ENN-SMOTE"
   ]
  },
  {
   "cell_type": "code",
   "execution_count": 8,
   "id": "3a59e023",
   "metadata": {
    "execution": {
     "iopub.execute_input": "2022-07-14T02:39:39.149025Z",
     "iopub.status.busy": "2022-07-14T02:39:39.148512Z",
     "iopub.status.idle": "2022-07-14T02:40:27.788598Z",
     "shell.execute_reply": "2022-07-14T02:40:27.787684Z"
    },
    "papermill": {
     "duration": 48.647823,
     "end_time": "2022-07-14T02:40:27.792227",
     "exception": false,
     "start_time": "2022-07-14T02:39:39.144404",
     "status": "completed"
    },
    "tags": []
   },
   "outputs": [
    {
     "name": "stdout",
     "output_type": "stream",
     "text": [
      "RUN DATA WITHOUT ENN-SMOTE\n",
      "\n",
      "\n",
      "===========RUN Data w Outlier===========\n",
      "===========FINISH=======================\n",
      "===========RUN Data w/o Outlier===========\n",
      "===========FINISH=======================\n",
      "\n",
      "\n",
      "FINISH\n"
     ]
    }
   ],
   "source": [
    "print('RUN DATA WITHOUT ENN-SMOTE\\n\\n')\n",
    "print('===========RUN Data w Outlier===========')\n",
    "strategy_='enn_smote'\n",
    "data_sample=pd.read_csv(\"gs://bps-gcp-bucket/MLST2023/preprocessing/sample_\"+str(pic_) +\"_enn_smote.csv\",sep=',')\n",
    "data_sample['nama_valid']=data_sample.nama_valid.apply(lambda y: str(y)[:6])\n",
    "data_sample=data_sample.sort_values('nama_valid')\n",
    "status_='w_outlier_'\n",
    "columns_data=['B1_p15', 'B2_p15', 'B3_p15',\n",
    "       'B4_p15', 'B5_p15', 'B6_p15', 'B7_p15', 'B8_p15', 'B8A_p15', 'B11_p15',\n",
    "       'B12_p15', 'NDVI_p50', 'NDWI_p50', 'NDBI_p50', 'SAVI_p50', 'EVI_p50',\n",
    "       'GNDVI_p50','nama_valid']\n",
    "X=data_sample[columns_data].drop(['nama_valid'],axis=1)\n",
    "y=data_sample['nama_valid']\n",
    "train_x, valid_x, train_y, valid_y = train_test_split(X, y, test_size=0.2,stratify=y)\n",
    "run_FE_rforest()\n",
    "print('===========FINISH=======================')\n",
    "print('===========RUN Data w/o Outlier===========')\n",
    "data_sample=pd.read_csv(\"gs://bps-gcp-bucket/MLST2023/preprocessing/sample_\"+str(pic_) +\"_no_outlier_enn_smote.csv\",sep=',')\n",
    "data_sample['nama_valid']=data_sample.nama_valid.apply(lambda y: str(y)[:6])\n",
    "data_sample=data_sample.sort_values('nama_valid')\n",
    "status_='wo_outlier_'\n",
    "columns_data=['B1_p15', 'B2_p15', 'B3_p15',\n",
    "       'B4_p15', 'B5_p15', 'B6_p15', 'B7_p15', 'B8_p15', 'B8A_p15', 'B11_p15',\n",
    "       'B12_p15', 'NDVI_p50', 'NDWI_p50', 'NDBI_p50', 'SAVI_p50', 'EVI_p50',\n",
    "       'GNDVI_p50','nama_valid']\n",
    "X=data_sample[columns_data].drop(['nama_valid'],axis=1)\n",
    "y=data_sample['nama_valid']\n",
    "train_x, valid_x, train_y, valid_y = train_test_split(X, y, test_size=0.2,stratify=y)\n",
    "run_FE_rforest()\n",
    "print('===========FINISH=======================')\n",
    "print('\\n\\nFINISH')"
   ]
  },
  {
   "cell_type": "markdown",
   "id": "fc7b8011",
   "metadata": {
    "papermill": {
     "duration": 0.003007,
     "end_time": "2022-07-14T02:40:27.799324",
     "exception": false,
     "start_time": "2022-07-14T02:40:27.796317",
     "status": "completed"
    },
    "tags": []
   },
   "source": [
    "### TL-BORDER SMOTE"
   ]
  },
  {
   "cell_type": "code",
   "execution_count": 9,
   "id": "7d73dabc",
   "metadata": {
    "execution": {
     "iopub.execute_input": "2022-07-14T02:40:27.806988Z",
     "iopub.status.busy": "2022-07-14T02:40:27.806738Z",
     "iopub.status.idle": "2022-07-14T02:41:17.074863Z",
     "shell.execute_reply": "2022-07-14T02:41:17.073953Z"
    },
    "papermill": {
     "duration": 49.275742,
     "end_time": "2022-07-14T02:41:17.078018",
     "exception": false,
     "start_time": "2022-07-14T02:40:27.802276",
     "status": "completed"
    },
    "tags": []
   },
   "outputs": [
    {
     "name": "stdout",
     "output_type": "stream",
     "text": [
      "RUN DATA WITHOUT TL-BORDER SMOTE\n",
      "\n",
      "\n",
      "===========RUN Data w Outlier===========\n",
      "===========FINISH=======================\n",
      "===========RUN Data w/o Outlier===========\n",
      "===========FINISH=======================\n",
      "\n",
      "\n",
      "FINISH\n"
     ]
    }
   ],
   "source": [
    "print('RUN DATA WITHOUT TL-BORDER SMOTE\\n\\n')\n",
    "print('===========RUN Data w Outlier===========')\n",
    "strategy_='tl_border_smote'\n",
    "data_sample=pd.read_csv(\"gs://bps-gcp-bucket/MLST2023/preprocessing/sample_\"+str(pic_) +\"_tl_border_smote.csv\",sep=',')\n",
    "data_sample['nama_valid']=data_sample.nama_valid.apply(lambda y: str(y)[:6])\n",
    "data_sample=data_sample.sort_values('nama_valid')\n",
    "status_='w_outlier_'\n",
    "columns_data=['B1_p15', 'B2_p15', 'B3_p15',\n",
    "       'B4_p15', 'B5_p15', 'B6_p15', 'B7_p15', 'B8_p15', 'B8A_p15', 'B11_p15',\n",
    "       'B12_p15', 'NDVI_p50', 'NDWI_p50', 'NDBI_p50', 'SAVI_p50', 'EVI_p50',\n",
    "       'GNDVI_p50','nama_valid']\n",
    "X=data_sample[columns_data].drop(['nama_valid'],axis=1)\n",
    "y=data_sample['nama_valid']\n",
    "train_x, valid_x, train_y, valid_y = train_test_split(X, y, test_size=0.2,stratify=y)\n",
    "run_FE_rforest()\n",
    "print('===========FINISH=======================')\n",
    "print('===========RUN Data w/o Outlier===========')\n",
    "data_sample=pd.read_csv(\"gs://bps-gcp-bucket/MLST2023/preprocessing/sample_\"+str(pic_) +\"_no_outlier_tl_border_smote.csv\",sep=',')\n",
    "data_sample['nama_valid']=data_sample.nama_valid.apply(lambda y: str(y)[:6])\n",
    "data_sample=data_sample.sort_values('nama_valid')\n",
    "status_='wo_outlier_'\n",
    "columns_data=['B1_p15', 'B2_p15', 'B3_p15',\n",
    "       'B4_p15', 'B5_p15', 'B6_p15', 'B7_p15', 'B8_p15', 'B8A_p15', 'B11_p15',\n",
    "       'B12_p15', 'NDVI_p50', 'NDWI_p50', 'NDBI_p50', 'SAVI_p50', 'EVI_p50',\n",
    "       'GNDVI_p50','nama_valid']\n",
    "X=data_sample[columns_data].drop(['nama_valid'],axis=1)\n",
    "y=data_sample['nama_valid']\n",
    "train_x, valid_x, train_y, valid_y = train_test_split(X, y, test_size=0.2,stratify=y)\n",
    "run_FE_rforest()\n",
    "print('===========FINISH=======================')\n",
    "print('\\n\\nFINISH')"
   ]
  },
  {
   "cell_type": "markdown",
   "id": "2ef00011",
   "metadata": {
    "papermill": {
     "duration": 0.002831,
     "end_time": "2022-07-14T02:41:17.084886",
     "exception": false,
     "start_time": "2022-07-14T02:41:17.082055",
     "status": "completed"
    },
    "tags": []
   },
   "source": [
    "### TL-SMOTE"
   ]
  },
  {
   "cell_type": "code",
   "execution_count": 10,
   "id": "7cfe184f",
   "metadata": {
    "execution": {
     "iopub.execute_input": "2022-07-14T02:41:17.092793Z",
     "iopub.status.busy": "2022-07-14T02:41:17.092215Z",
     "iopub.status.idle": "2022-07-14T02:42:06.105040Z",
     "shell.execute_reply": "2022-07-14T02:42:06.104264Z"
    },
    "papermill": {
     "duration": 49.021282,
     "end_time": "2022-07-14T02:42:06.109193",
     "exception": false,
     "start_time": "2022-07-14T02:41:17.087911",
     "status": "completed"
    },
    "tags": []
   },
   "outputs": [
    {
     "name": "stdout",
     "output_type": "stream",
     "text": [
      "RUN DATA WITHOUT TL-SMOTE\n",
      "\n",
      "\n",
      "===========RUN Data w Outlier===========\n",
      "===========FINISH=======================\n",
      "===========RUN Data w/o Outlier===========\n",
      "===========FINISH=======================\n",
      "\n",
      "\n",
      "FINISH\n"
     ]
    }
   ],
   "source": [
    "print('RUN DATA WITHOUT TL-SMOTE\\n\\n')\n",
    "print('===========RUN Data w Outlier===========')\n",
    "strategy_='tl_smote'\n",
    "data_sample=pd.read_csv(\"gs://bps-gcp-bucket/MLST2023/preprocessing/sample_\"+str(pic_) +\"_tl_smote.csv\",sep=',')\n",
    "data_sample['nama_valid']=data_sample.nama_valid.apply(lambda y: str(y)[:6])\n",
    "data_sample=data_sample.sort_values('nama_valid')\n",
    "status_='w_outlier_'\n",
    "columns_data=['B1_p15', 'B2_p15', 'B3_p15',\n",
    "       'B4_p15', 'B5_p15', 'B6_p15', 'B7_p15', 'B8_p15', 'B8A_p15', 'B11_p15',\n",
    "       'B12_p15', 'NDVI_p50', 'NDWI_p50', 'NDBI_p50', 'SAVI_p50', 'EVI_p50',\n",
    "       'GNDVI_p50','nama_valid']\n",
    "X=data_sample[columns_data].drop(['nama_valid'],axis=1)\n",
    "y=data_sample['nama_valid']\n",
    "train_x, valid_x, train_y, valid_y = train_test_split(X, y, test_size=0.2,stratify=y)\n",
    "run_FE_rforest()\n",
    "print('===========FINISH=======================')\n",
    "print('===========RUN Data w/o Outlier===========')\n",
    "data_sample=pd.read_csv(\"gs://bps-gcp-bucket/MLST2023/preprocessing/sample_\"+str(pic_) +\"_no_outlier_tl_smote.csv\",sep=',')\n",
    "data_sample['nama_valid']=data_sample.nama_valid.apply(lambda y: str(y)[:6])\n",
    "data_sample=data_sample.sort_values('nama_valid')\n",
    "status_='wo_outlier_'\n",
    "columns_data=['B1_p15', 'B2_p15', 'B3_p15',\n",
    "       'B4_p15', 'B5_p15', 'B6_p15', 'B7_p15', 'B8_p15', 'B8A_p15', 'B11_p15',\n",
    "       'B12_p15', 'NDVI_p50', 'NDWI_p50', 'NDBI_p50', 'SAVI_p50', 'EVI_p50',\n",
    "       'GNDVI_p50','nama_valid']\n",
    "X=data_sample[columns_data].drop(['nama_valid'],axis=1)\n",
    "y=data_sample['nama_valid']\n",
    "train_x, valid_x, train_y, valid_y = train_test_split(X, y, test_size=0.2,stratify=y)\n",
    "run_FE_rforest()\n",
    "print('===========FINISH=======================')\n",
    "print('\\n\\nFINISH')"
   ]
  }
 ],
 "metadata": {
  "celltoolbar": "Tags",
  "kernelspec": {
   "display_name": "Python 3 (ipykernel)",
   "language": "python",
   "name": "python3"
  },
  "language_info": {
   "codemirror_mode": {
    "name": "ipython",
    "version": 3
   },
   "file_extension": ".py",
   "mimetype": "text/x-python",
   "name": "python",
   "nbconvert_exporter": "python",
   "pygments_lexer": "ipython3",
   "version": "3.8.12"
  },
  "papermill": {
   "default_parameters": {},
   "duration": 359.227361,
   "end_time": "2022-07-14T02:42:06.533745",
   "environment_variables": {},
   "exception": null,
   "input_path": "04_c_RandomForest-FeatureSelection.ipynb",
   "output_path": "04_c_RandomForest-FeatureSelection.ipynb",
   "parameters": {
    "pic_": "F",
    "tracking_uri_": "http://34.128.104.38:5000"
   },
   "start_time": "2022-07-14T02:36:07.306384",
   "version": "2.3.4"
  }
 },
 "nbformat": 4,
 "nbformat_minor": 5
}
