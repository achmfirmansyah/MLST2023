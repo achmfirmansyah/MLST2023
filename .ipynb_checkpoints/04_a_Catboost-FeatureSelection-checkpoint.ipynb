{
 "cells": [
  {
   "cell_type": "code",
   "execution_count": 1,
   "id": "bd15ba79",
   "metadata": {
    "execution": {
     "iopub.execute_input": "2022-07-15T02:15:13.841582Z",
     "iopub.status.busy": "2022-07-15T02:15:13.841028Z",
     "iopub.status.idle": "2022-07-15T02:15:13.851099Z",
     "shell.execute_reply": "2022-07-15T02:15:13.850465Z"
    },
    "papermill": {
     "duration": 0.017381,
     "end_time": "2022-07-15T02:15:13.852734",
     "exception": false,
     "start_time": "2022-07-15T02:15:13.835353",
     "status": "completed"
    },
    "tags": [
     "parameters"
    ]
   },
   "outputs": [],
   "source": [
    "pic_='F'\n",
    "tracking_uri_=\"http://34.128.104.38:5000\""
   ]
  },
  {
   "cell_type": "code",
   "execution_count": 2,
   "id": "a4073a4e",
   "metadata": {
    "execution": {
     "iopub.execute_input": "2022-07-15T02:15:13.862306Z",
     "iopub.status.busy": "2022-07-15T02:15:13.861601Z",
     "iopub.status.idle": "2022-07-15T02:15:13.864903Z",
     "shell.execute_reply": "2022-07-15T02:15:13.864308Z"
    },
    "papermill": {
     "duration": 0.008869,
     "end_time": "2022-07-15T02:15:13.866586",
     "exception": false,
     "start_time": "2022-07-15T02:15:13.857717",
     "status": "completed"
    },
    "tags": [
     "injected-parameters"
    ]
   },
   "outputs": [],
   "source": [
    "# Parameters\n",
    "pic_ = \"F\"\n",
    "tracking_uri_ = \"http://34.128.104.38:5000\"\n"
   ]
  },
  {
   "cell_type": "code",
   "execution_count": 3,
   "id": "a9ed1efd",
   "metadata": {
    "execution": {
     "iopub.execute_input": "2022-07-15T02:15:13.873319Z",
     "iopub.status.busy": "2022-07-15T02:15:13.873076Z",
     "iopub.status.idle": "2022-07-15T02:15:15.117556Z",
     "shell.execute_reply": "2022-07-15T02:15:15.116883Z"
    },
    "papermill": {
     "duration": 1.250254,
     "end_time": "2022-07-15T02:15:15.119590",
     "exception": false,
     "start_time": "2022-07-15T02:15:13.869336",
     "status": "completed"
    },
    "tags": []
   },
   "outputs": [],
   "source": [
    "import pandas as pd \n",
    "import numpy as np\n",
    "import os\n",
    "import scipy\n",
    "from datetime import datetime\n",
    "import warnings\n",
    "warnings.filterwarnings(\"ignore\")\n",
    "\n",
    "\n",
    "from sklearn.model_selection import train_test_split\n",
    "from catboost import Pool, EShapCalcType, EFeaturesSelectionAlgorithm,CatBoostClassifier\n",
    "from sklearn.metrics import accuracy_score, f1_score,cohen_kappa_score,roc_auc_score,log_loss\n",
    "import os\n",
    "\n",
    "from google.cloud import storage\n",
    "client = storage.Client()\n",
    "os.environ['GOOGLE_APPLICATION_CREDENTIALS'] = 'config/gcp_store.json'\n",
    "client = storage.Client()\n",
    "\n",
    "from multiprocessing import Pool as pool_x\n",
    "\n",
    "from itertools import repeat\n",
    "import mlflow\n",
    "from mlflow.tracking import MlflowClient\n"
   ]
  },
  {
   "cell_type": "code",
   "execution_count": null,
   "id": "efed08da",
   "metadata": {
    "execution": {
     "iopub.execute_input": "2022-07-15T02:15:15.127777Z",
     "iopub.status.busy": "2022-07-15T02:15:15.127263Z",
     "iopub.status.idle": "2022-07-15T02:15:15.138154Z",
     "shell.execute_reply": "2022-07-15T02:15:15.137536Z"
    },
    "papermill": {
     "duration": 0.016204,
     "end_time": "2022-07-15T02:15:15.139601",
     "exception": false,
     "start_time": "2022-07-15T02:15:15.123397",
     "status": "completed"
    },
    "tags": []
   },
   "outputs": [],
   "source": [
    "def parallel_FE_catboost(i):\n",
    "    global pic_,status_, train_x, valid_x, train_y, valid_y, columns_data, strategy_\n",
    "    train_pool=Pool(data=train_x,label=train_y)\n",
    "    valid_pool=Pool(data=valid_x,label=valid_y)\n",
    "    \n",
    "    experiment_name = \"Feature Selection\"\n",
    "    ## check if the experiment already exists\n",
    "    if not mlflow.get_experiment_by_name(experiment_name):\n",
    "        mlflow.create_experiment(name=experiment_name) \n",
    "    experiment = mlflow.get_experiment_by_name(experiment_name)\n",
    "    ### check finished experiment\n",
    "    client = MlflowClient()\n",
    "    exp_r = client.get_experiment_by_name(\"Feature Selection\")\n",
    "    client_run=mlflow.search_runs([exp_r.experiment_id], order_by=[\"metrics.f1_micro DESC\"])\n",
    "    if ((client_run.shape[0]>0)&(\"params.condition\" in client_run.columns)&\n",
    "        (\"params.algorithm\" in client_run.columns)&(\"params.strategy\" in client_run.columns)):\n",
    "        client_run=client_run.loc[(client_run[\"params.condition\"]==status_)&\n",
    "                                  (client_run[\"params.algorithm\"]=='catboost')&\n",
    "                                  (client_run[\"params.strategy\"]==strategy_)]\n",
    "        if str(i) in client_run['params.num_feature'].to_list():\n",
    "            print('Experiment with number of feature:',i, ' already done. It will be skipped.')\n",
    "            return ''\n",
    "    mlflow.set_tracking_uri(tracking_uri_)\n",
    "    with mlflow.start_run(experiment_id = experiment.experiment_id,\n",
    "                          run_name=status_+'-'+datetime.now().strftime(\"%d/%m/%Y %H:%M:%S\")):\n",
    "        model=CatBoostClassifier(iterations=100, random_seed=1234)\n",
    "        summary = model.select_features(\n",
    "                train_pool,\n",
    "                eval_set=valid_pool,\n",
    "                features_for_select=columns_data,\n",
    "                num_features_to_select=i,\n",
    "                steps=1,\n",
    "                algorithm=EFeaturesSelectionAlgorithm.RecursiveByShapValues,\n",
    "                shap_calc_type=EShapCalcType.Regular,\n",
    "                train_final_model=True,\n",
    "                logging_level='Silent',\n",
    "            )\n",
    "        pred_labels=model.predict(valid_pool).tolist()\n",
    "        preds_proba_=model.predict_proba(valid_pool)\n",
    "        \n",
    "        \n",
    "        f1_micro=f1_score(valid_y, pred_labels,average='micro')\n",
    "        log_loss_=log_loss(valid_y,preds_proba_)\n",
    "        \n",
    "        mlflow.log_param(\"num_feature\", i)\n",
    "        mlflow.log_param('feature_name',summary['selected_features_names'])\n",
    "        mlflow.log_param('condition',status_)\n",
    "        mlflow.log_param('algorithm',\"catboost\")        \n",
    "        mlflow.log_param('strategy',strategy_)\n",
    "\n",
    "        mlflow.log_metric(\"f1_micro\", f1_micro)\n",
    "        mlflow.log_metric(\"log_loss\", log_loss_)\n",
    "        \n",
    "    return ''"
   ]
  },
  {
   "cell_type": "code",
   "execution_count": null,
   "id": "4aea0c4e",
   "metadata": {
    "execution": {
     "iopub.execute_input": "2022-07-15T02:15:15.146870Z",
     "iopub.status.busy": "2022-07-15T02:15:15.146186Z",
     "iopub.status.idle": "2022-07-15T02:15:15.150106Z",
     "shell.execute_reply": "2022-07-15T02:15:15.149455Z"
    },
    "papermill": {
     "duration": 0.009447,
     "end_time": "2022-07-15T02:15:15.151774",
     "exception": false,
     "start_time": "2022-07-15T02:15:15.142327",
     "status": "completed"
    },
    "tags": []
   },
   "outputs": [],
   "source": [
    "def run_FE_catboost():\n",
    "    y1=range(5,6)\n",
    "    with pool_x(28) as p:\n",
    "        p.map(parallel_FE_catboost,y1)\n",
    "    "
   ]
  },
  {
   "cell_type": "markdown",
   "id": "68f53ed2",
   "metadata": {
    "papermill": {
     "duration": 0.002592,
     "end_time": "2022-07-15T02:15:15.156912",
     "exception": false,
     "start_time": "2022-07-15T02:15:15.154320",
     "status": "completed"
    },
    "tags": []
   },
   "source": [
    "### Without Artificial Data"
   ]
  },
  {
   "cell_type": "code",
   "execution_count": null,
   "id": "10228344",
   "metadata": {
    "execution": {
     "iopub.execute_input": "2022-07-15T02:15:15.163560Z",
     "iopub.status.busy": "2022-07-15T02:15:15.162815Z",
     "iopub.status.idle": "2022-07-15T02:15:18.726534Z",
     "shell.execute_reply": "2022-07-15T02:15:18.725501Z"
    },
    "papermill": {
     "duration": 3.568866,
     "end_time": "2022-07-15T02:15:18.728230",
     "exception": false,
     "start_time": "2022-07-15T02:15:15.159364",
     "status": "completed"
    },
    "tags": []
   },
   "outputs": [],
   "source": [
    "print('RUN DATA WITHOUT ARTIFICIAL DATA\\n\\n')\n",
    "print('===========RUN Data w Outlier===========')\n",
    "data_sample=pd.read_csv(\"gs://bps-gcp-bucket/MLST2023/preprocessing/sample_\"+str(pic_) +\".csv\",sep=',')\n",
    "data_sample['nama_valid']=data_sample.nama_valid.apply(lambda y: str(y)[:6])\n",
    "data_sample=data_sample.sort_values('nama_valid')\n",
    "status_='w_outlier_'\n",
    "columns_data=['B1_p15', 'B2_p15', 'B3_p15',\n",
    "       'B4_p15', 'B5_p15', 'B6_p15', 'B7_p15', 'B8_p15', 'B8A_p15', 'B11_p15',\n",
    "       'B12_p15', 'NDVI_p50', 'NDWI_p50', 'NDBI_p50', 'SAVI_p50', 'EVI_p50',\n",
    "       'GNDVI_p50']\n",
    "X=data_sample[columns_data]\n",
    "y=data_sample['nama_valid']\n",
    "train_x, valid_x, train_y, valid_y = train_test_split(X, y, test_size=0.2,stratify=y)\n",
    "strategy_='no artificial'\n",
    "run_FE_catboost()\n",
    "print('===========FINISH=======================')\n",
    "print('===========RUN Data w/o Outlier===========')\n",
    "data_sample=pd.read_csv(\"gs://bps-gcp-bucket/MLST2023/preprocessing/sample_\"+str(pic_) +\"_no_outlier.csv\",sep=',')\n",
    "data_sample['nama_valid']=data_sample.nama_valid.apply(lambda y: str(y)[:6])\n",
    "data_sample=data_sample.sort_values('nama_valid')\n",
    "status_='wo_outlier_'\n",
    "columns_data=['B1_p15', 'B2_p15', 'B3_p15',\n",
    "       'B4_p15', 'B5_p15', 'B6_p15', 'B7_p15', 'B8_p15', 'B8A_p15', 'B11_p15',\n",
    "       'B12_p15', 'NDVI_p50', 'NDWI_p50', 'NDBI_p50', 'SAVI_p50', 'EVI_p50',\n",
    "       'GNDVI_p50']\n",
    "X=data_sample[columns_data]\n",
    "y=data_sample['nama_valid']\n",
    "train_x, valid_x, train_y, valid_y = train_test_split(X, y, test_size=0.2,stratify=y)\n",
    "strategy_='no artificial'\n",
    "run_FE_catboost()\n",
    "print('===========FINISH=======================')\n",
    "print('\\n\\nFINISH')"
   ]
  },
  {
   "cell_type": "markdown",
   "id": "5747497d",
   "metadata": {
    "papermill": {
     "duration": 0.008975,
     "end_time": "2022-07-15T02:15:18.747187",
     "exception": false,
     "start_time": "2022-07-15T02:15:18.738212",
     "status": "completed"
    },
    "tags": []
   },
   "source": [
    "### ENN-BORDER SMOTE"
   ]
  },
  {
   "cell_type": "code",
   "execution_count": null,
   "id": "5c1af90b",
   "metadata": {
    "execution": {
     "iopub.execute_input": "2022-07-15T02:15:18.767350Z",
     "iopub.status.busy": "2022-07-15T02:15:18.766734Z",
     "iopub.status.idle": "2022-07-15T02:15:21.113903Z",
     "shell.execute_reply": "2022-07-15T02:15:21.112726Z"
    },
    "papermill": {
     "duration": 2.360122,
     "end_time": "2022-07-15T02:15:21.116077",
     "exception": false,
     "start_time": "2022-07-15T02:15:18.755955",
     "status": "completed"
    },
    "tags": []
   },
   "outputs": [],
   "source": [
    "print('RUN DATA WITH ENN-BORDER SMOTE\\n\\n')\n",
    "print('===========RUN Data w Outlier===========')\n",
    "data_sample=pd.read_csv(\"gs://bps-gcp-bucket/MLST2023/preprocessing/sample_\"+str(pic_) +\"_enn_border_smote.csv\",sep=',')\n",
    "data_sample['nama_valid']=data_sample.nama_valid.apply(lambda y: str(y)[:6])\n",
    "data_sample=data_sample.sort_values('nama_valid')\n",
    "status_='w_outlier_'\n",
    "columns_data=['B1_p15', 'B2_p15', 'B3_p15',\n",
    "       'B4_p15', 'B5_p15', 'B6_p15', 'B7_p15', 'B8_p15', 'B8A_p15', 'B11_p15',\n",
    "       'B12_p15', 'NDVI_p50', 'NDWI_p50', 'NDBI_p50', 'SAVI_p50', 'EVI_p50',\n",
    "       'GNDVI_p50']\n",
    "X=data_sample[columns_data]\n",
    "y=data_sample['nama_valid']\n",
    "train_x, valid_x, train_y, valid_y = train_test_split(X, y, test_size=0.2,stratify=y)\n",
    "strategy_='enn_border_smote'\n",
    "run_FE_catboost()\n",
    "print('===========FINISH=======================')\n",
    "print('===========RUN Data w/o Outlier===========')\n",
    "data_sample=pd.read_csv(\"gs://bps-gcp-bucket/MLST2023/preprocessing/sample_\"+str(pic_) +\"_no_outlier_enn_border_smote.csv\",sep=',')\n",
    "data_sample['nama_valid']=data_sample.nama_valid.apply(lambda y: str(y)[:6])\n",
    "data_sample=data_sample.sort_values('nama_valid')\n",
    "status_='wo_outlier_'\n",
    "columns_data=['B1_p15', 'B2_p15', 'B3_p15',\n",
    "       'B4_p15', 'B5_p15', 'B6_p15', 'B7_p15', 'B8_p15', 'B8A_p15', 'B11_p15',\n",
    "       'B12_p15', 'NDVI_p50', 'NDWI_p50', 'NDBI_p50', 'SAVI_p50', 'EVI_p50',\n",
    "       'GNDVI_p50']\n",
    "X=data_sample[columns_data]\n",
    "y=data_sample['nama_valid']\n",
    "train_x, valid_x, train_y, valid_y = train_test_split(X, y, test_size=0.2,stratify=y)\n",
    "strategy_='enn_border_smote'\n",
    "run_FE_catboost()\n",
    "print('===========FINISH=======================')\n",
    "print('\\n\\nFINISH')"
   ]
  },
  {
   "cell_type": "markdown",
   "id": "4f9a49ff",
   "metadata": {
    "papermill": {
     "duration": 0.016486,
     "end_time": "2022-07-15T02:15:21.161808",
     "exception": false,
     "start_time": "2022-07-15T02:15:21.145322",
     "status": "completed"
    },
    "tags": []
   },
   "source": [
    "### ENN-SMOTE"
   ]
  },
  {
   "cell_type": "code",
   "execution_count": null,
   "id": "96e98097",
   "metadata": {
    "execution": {
     "iopub.execute_input": "2022-07-15T02:15:21.191091Z",
     "iopub.status.busy": "2022-07-15T02:15:21.190283Z",
     "iopub.status.idle": "2022-07-15T02:15:24.437741Z",
     "shell.execute_reply": "2022-07-15T02:15:24.436294Z"
    },
    "papermill": {
     "duration": 3.264139,
     "end_time": "2022-07-15T02:15:24.439572",
     "exception": false,
     "start_time": "2022-07-15T02:15:21.175433",
     "status": "completed"
    },
    "tags": []
   },
   "outputs": [],
   "source": [
    "print('RUN DATA WITH ENN-SMOTE\\n\\n')\n",
    "print('===========RUN Data w Outlier===========')\n",
    "data_sample=pd.read_csv(\"gs://bps-gcp-bucket/MLST2023/preprocessing/sample_\"+str(pic_) +\"_enn_smote.csv\",sep=',')\n",
    "data_sample['nama_valid']=data_sample.nama_valid.apply(lambda y: str(y)[:6])\n",
    "data_sample=data_sample.sort_values('nama_valid')\n",
    "status_='w_outlier_'\n",
    "columns_data=['B1_p15', 'B2_p15', 'B3_p15',\n",
    "       'B4_p15', 'B5_p15', 'B6_p15', 'B7_p15', 'B8_p15', 'B8A_p15', 'B11_p15',\n",
    "       'B12_p15', 'NDVI_p50', 'NDWI_p50', 'NDBI_p50', 'SAVI_p50', 'EVI_p50',\n",
    "       'GNDVI_p50']\n",
    "X=data_sample[columns_data]\n",
    "y=data_sample['nama_valid']\n",
    "train_x, valid_x, train_y, valid_y = train_test_split(X, y, test_size=0.2,stratify=y)\n",
    "strategy_='enn_smote'\n",
    "run_FE_catboost()\n",
    "print('===========FINISH=======================')\n",
    "print('===========RUN Data w/o Outlier===========')\n",
    "data_sample=pd.read_csv(\"gs://bps-gcp-bucket/MLST2023/preprocessing/sample_\"+str(pic_) +\"_no_outlier_enn_smote.csv\",sep=',')\n",
    "data_sample['nama_valid']=data_sample.nama_valid.apply(lambda y: str(y)[:6])\n",
    "data_sample=data_sample.sort_values('nama_valid')\n",
    "status_='wo_outlier_'\n",
    "columns_data=['B1_p15', 'B2_p15', 'B3_p15',\n",
    "       'B4_p15', 'B5_p15', 'B6_p15', 'B7_p15', 'B8_p15', 'B8A_p15', 'B11_p15',\n",
    "       'B12_p15', 'NDVI_p50', 'NDWI_p50', 'NDBI_p50', 'SAVI_p50', 'EVI_p50',\n",
    "       'GNDVI_p50']\n",
    "X=data_sample[columns_data]\n",
    "y=data_sample['nama_valid']\n",
    "train_x, valid_x, train_y, valid_y = train_test_split(X, y, test_size=0.2,stratify=y)\n",
    "strategy_='enn_smote'\n",
    "run_FE_catboost()\n",
    "print('===========FINISH=======================')\n",
    "print('\\n\\nFINISH')"
   ]
  },
  {
   "cell_type": "markdown",
   "id": "e0e03873",
   "metadata": {
    "papermill": {
     "duration": 0.019117,
     "end_time": "2022-07-15T02:15:24.480490",
     "exception": false,
     "start_time": "2022-07-15T02:15:24.461373",
     "status": "completed"
    },
    "tags": []
   },
   "source": [
    "### TL-SMOTE"
   ]
  },
  {
   "cell_type": "code",
   "execution_count": null,
   "id": "b2e33beb",
   "metadata": {
    "execution": {
     "iopub.execute_input": "2022-07-15T02:15:24.526032Z",
     "iopub.status.busy": "2022-07-15T02:15:24.525094Z",
     "iopub.status.idle": "2022-07-15T02:15:27.094167Z",
     "shell.execute_reply": "2022-07-15T02:15:27.093177Z"
    },
    "papermill": {
     "duration": 2.596776,
     "end_time": "2022-07-15T02:15:27.096091",
     "exception": false,
     "start_time": "2022-07-15T02:15:24.499315",
     "status": "completed"
    },
    "tags": []
   },
   "outputs": [],
   "source": [
    "print('RUN DATA WITH TL-SMOTE\\n\\n')\n",
    "print('===========RUN Data w Outlier===========')\n",
    "data_sample=pd.read_csv(\"gs://bps-gcp-bucket/MLST2023/preprocessing/sample_\"+str(pic_) +\"_tl_smote.csv\",sep=',')\n",
    "data_sample['nama_valid']=data_sample.nama_valid.apply(lambda y: str(y)[:6])\n",
    "data_sample=data_sample.sort_values('nama_valid')\n",
    "status_='w_outlier_'\n",
    "columns_data=['B1_p15', 'B2_p15', 'B3_p15',\n",
    "       'B4_p15', 'B5_p15', 'B6_p15', 'B7_p15', 'B8_p15', 'B8A_p15', 'B11_p15',\n",
    "       'B12_p15', 'NDVI_p50', 'NDWI_p50', 'NDBI_p50', 'SAVI_p50', 'EVI_p50',\n",
    "       'GNDVI_p50']\n",
    "X=data_sample[columns_data]\n",
    "y=data_sample['nama_valid']\n",
    "train_x, valid_x, train_y, valid_y = train_test_split(X, y, test_size=0.2,stratify=y)\n",
    "strategy_='tl_smote'\n",
    "run_FE_catboost()\n",
    "print('===========FINISH=======================')\n",
    "print('===========RUN Data w/o Outlier===========')\n",
    "data_sample=pd.read_csv(\"gs://bps-gcp-bucket/MLST2023/preprocessing/sample_\"+str(pic_) +\"_no_outlier_tl_smote.csv\",sep=',')\n",
    "data_sample['nama_valid']=data_sample.nama_valid.apply(lambda y: str(y)[:6])\n",
    "data_sample=data_sample.sort_values('nama_valid')\n",
    "status_='wo_outlier_'\n",
    "columns_data=['B1_p15', 'B2_p15', 'B3_p15',\n",
    "       'B4_p15', 'B5_p15', 'B6_p15', 'B7_p15', 'B8_p15', 'B8A_p15', 'B11_p15',\n",
    "       'B12_p15', 'NDVI_p50', 'NDWI_p50', 'NDBI_p50', 'SAVI_p50', 'EVI_p50',\n",
    "       'GNDVI_p50']\n",
    "X=data_sample[columns_data]\n",
    "y=data_sample['nama_valid']\n",
    "train_x, valid_x, train_y, valid_y = train_test_split(X, y, test_size=0.2,stratify=y)\n",
    "strategy_='tl_smote'\n",
    "run_FE_catboost()\n",
    "print('===========FINISH=======================')\n",
    "print('\\n\\nFINISH')"
   ]
  },
  {
   "cell_type": "markdown",
   "id": "99ea8c83",
   "metadata": {
    "papermill": {
     "duration": 0.026548,
     "end_time": "2022-07-15T02:15:27.151270",
     "exception": false,
     "start_time": "2022-07-15T02:15:27.124722",
     "status": "completed"
    },
    "tags": []
   },
   "source": [
    "### TL-BORDER SMOTE"
   ]
  },
  {
   "cell_type": "code",
   "execution_count": null,
   "id": "ed27860f",
   "metadata": {
    "execution": {
     "iopub.execute_input": "2022-07-15T02:15:27.257749Z",
     "iopub.status.busy": "2022-07-15T02:15:27.257379Z",
     "iopub.status.idle": "2022-07-15T02:15:29.723817Z",
     "shell.execute_reply": "2022-07-15T02:15:29.722983Z"
    },
    "papermill": {
     "duration": 2.549816,
     "end_time": "2022-07-15T02:15:29.725521",
     "exception": false,
     "start_time": "2022-07-15T02:15:27.175705",
     "status": "completed"
    },
    "tags": []
   },
   "outputs": [],
   "source": [
    "print('RUN DATA WITH TL-SMOTE\\n\\n')\n",
    "print('===========RUN Data w Outlier===========')\n",
    "data_sample=pd.read_csv(\"gs://bps-gcp-bucket/MLST2023/preprocessing/sample_\"+str(pic_) +\"_tl_border_smote.csv\",sep=',')\n",
    "data_sample['nama_valid']=data_sample.nama_valid.apply(lambda y: str(y)[:6])\n",
    "data_sample=data_sample.sort_values('nama_valid')\n",
    "status_='w_outlier_'\n",
    "columns_data=['B1_p15', 'B2_p15', 'B3_p15',\n",
    "       'B4_p15', 'B5_p15', 'B6_p15', 'B7_p15', 'B8_p15', 'B8A_p15', 'B11_p15',\n",
    "       'B12_p15', 'NDVI_p50', 'NDWI_p50', 'NDBI_p50', 'SAVI_p50', 'EVI_p50',\n",
    "       'GNDVI_p50']\n",
    "X=data_sample[columns_data]\n",
    "y=data_sample['nama_valid']\n",
    "train_x, valid_x, train_y, valid_y = train_test_split(X, y, test_size=0.2,stratify=y)\n",
    "strategy_='tl_border_smote'\n",
    "run_FE_catboost()\n",
    "print('===========FINISH=======================')\n",
    "print('===========RUN Data w/o Outlier===========')\n",
    "data_sample=pd.read_csv(\"gs://bps-gcp-bucket/MLST2023/preprocessing/sample_\"+str(pic_) +\"_no_outlier_tl_border_smote.csv\",sep=',')\n",
    "data_sample['nama_valid']=data_sample.nama_valid.apply(lambda y: str(y)[:6])\n",
    "data_sample=data_sample.sort_values('nama_valid')\n",
    "status_='wo_outlier_'\n",
    "columns_data=['B1_p15', 'B2_p15', 'B3_p15',\n",
    "       'B4_p15', 'B5_p15', 'B6_p15', 'B7_p15', 'B8_p15', 'B8A_p15', 'B11_p15',\n",
    "       'B12_p15', 'NDVI_p50', 'NDWI_p50', 'NDBI_p50', 'SAVI_p50', 'EVI_p50',\n",
    "       'GNDVI_p50']\n",
    "X=data_sample[columns_data]\n",
    "y=data_sample['nama_valid']\n",
    "train_x, valid_x, train_y, valid_y = train_test_split(X, y, test_size=0.2,stratify=y)\n",
    "strategy_='tl_border_smote'\n",
    "run_FE_catboost()\n",
    "print('===========FINISH=======================')\n",
    "print('\\n\\nFINISH')"
   ]
  }
 ],
 "metadata": {
  "celltoolbar": "Tags",
  "kernelspec": {
   "display_name": "Python 3 (ipykernel)",
   "language": "python",
   "name": "python3"
  },
  "language_info": {
   "codemirror_mode": {
    "name": "ipython",
    "version": 3
   },
   "file_extension": ".py",
   "mimetype": "text/x-python",
   "name": "python",
   "nbconvert_exporter": "python",
   "pygments_lexer": "ipython3",
   "version": "3.8.12"
  },
  "papermill": {
   "default_parameters": {},
   "duration": 17.830385,
   "end_time": "2022-07-15T02:15:30.278838",
   "environment_variables": {},
   "exception": null,
   "input_path": "04_a_Catboost-FeatureSelection.ipynb",
   "output_path": "04_a_Catboost-FeatureSelection.ipynb",
   "parameters": {
    "pic_": "F",
    "tracking_uri_": "http://34.128.104.38:5000"
   },
   "start_time": "2022-07-15T02:15:12.448453",
   "version": "2.3.4"
  }
 },
 "nbformat": 4,
 "nbformat_minor": 5
}
