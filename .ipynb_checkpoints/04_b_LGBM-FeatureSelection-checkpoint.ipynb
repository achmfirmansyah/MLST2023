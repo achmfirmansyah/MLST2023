{
 "cells": [
  {
   "cell_type": "code",
   "execution_count": 1,
   "id": "bd15ba79",
   "metadata": {
    "execution": {
     "iopub.execute_input": "2022-07-14T01:59:52.334569Z",
     "iopub.status.busy": "2022-07-14T01:59:52.333887Z",
     "iopub.status.idle": "2022-07-14T01:59:52.341635Z",
     "shell.execute_reply": "2022-07-14T01:59:52.341107Z"
    },
    "papermill": {
     "duration": 0.013316,
     "end_time": "2022-07-14T01:59:52.343318",
     "exception": false,
     "start_time": "2022-07-14T01:59:52.330002",
     "status": "completed"
    },
    "tags": [
     "parameters"
    ]
   },
   "outputs": [],
   "source": [
    "pic_='F'\n",
    "tracking_uri_=\"http://34.128.104.38:5000\""
   ]
  },
  {
   "cell_type": "code",
   "execution_count": 2,
   "id": "aa301d41",
   "metadata": {
    "execution": {
     "iopub.execute_input": "2022-07-14T01:59:52.351018Z",
     "iopub.status.busy": "2022-07-14T01:59:52.350804Z",
     "iopub.status.idle": "2022-07-14T01:59:52.353464Z",
     "shell.execute_reply": "2022-07-14T01:59:52.352902Z"
    },
    "papermill": {
     "duration": 0.0078,
     "end_time": "2022-07-14T01:59:52.354881",
     "exception": false,
     "start_time": "2022-07-14T01:59:52.347081",
     "status": "completed"
    },
    "tags": [
     "injected-parameters"
    ]
   },
   "outputs": [],
   "source": [
    "# Parameters\n",
    "pic_ = \"F\"\n",
    "tracking_uri_ = \"http://34.128.104.38:5000\"\n"
   ]
  },
  {
   "cell_type": "code",
   "execution_count": 3,
   "id": "6f0f9d0d",
   "metadata": {
    "execution": {
     "iopub.execute_input": "2022-07-14T01:59:52.360835Z",
     "iopub.status.busy": "2022-07-14T01:59:52.360478Z",
     "iopub.status.idle": "2022-07-14T01:59:53.744840Z",
     "shell.execute_reply": "2022-07-14T01:59:53.744136Z"
    },
    "papermill": {
     "duration": 1.389846,
     "end_time": "2022-07-14T01:59:53.746906",
     "exception": false,
     "start_time": "2022-07-14T01:59:52.357060",
     "status": "completed"
    },
    "tags": []
   },
   "outputs": [],
   "source": [
    "import pandas as pd \n",
    "import numpy as np\n",
    "import os\n",
    "import scipy\n",
    "from datetime import datetime\n",
    "\n",
    "import warnings\n",
    "warnings.filterwarnings(\"ignore\")\n",
    "\n",
    "import lightgbm as lgb\n",
    "from sklearn.feature_selection import RFE\n",
    "from sklearn.model_selection import train_test_split\n",
    "from sklearn.metrics import accuracy_score, f1_score,log_loss\n",
    "import os\n",
    "\n",
    "from google.cloud import storage\n",
    "client = storage.Client()\n",
    "os.environ['GOOGLE_APPLICATION_CREDENTIALS'] = 'gcp_store.json'\n",
    "client = storage.Client()\n",
    "\n",
    "from multiprocessing import Pool as pool_x\n",
    "\n",
    "import mlflow\n",
    "from mlflow.tracking import MlflowClient"
   ]
  },
  {
   "cell_type": "code",
   "execution_count": 4,
   "id": "7fc2abe4",
   "metadata": {
    "execution": {
     "iopub.execute_input": "2022-07-14T01:59:53.755984Z",
     "iopub.status.busy": "2022-07-14T01:59:53.755367Z",
     "iopub.status.idle": "2022-07-14T01:59:53.764824Z",
     "shell.execute_reply": "2022-07-14T01:59:53.764274Z"
    },
    "papermill": {
     "duration": 0.015432,
     "end_time": "2022-07-14T01:59:53.766208",
     "exception": false,
     "start_time": "2022-07-14T01:59:53.750776",
     "status": "completed"
    },
    "tags": []
   },
   "outputs": [],
   "source": [
    "def parallel_FE_lgbm(i):\n",
    "    global pic_,status_, train_x, valid_x, train_y, valid_y, columns_data, strategy_\n",
    "    \n",
    "    experiment_name = \"Feature Selection\"\n",
    "    ## check if the experiment already exists\n",
    "    if not mlflow.get_experiment_by_name(experiment_name):\n",
    "        mlflow.create_experiment(name=experiment_name) \n",
    "    experiment = mlflow.get_experiment_by_name(experiment_name)\n",
    "    ### check finished experiment\n",
    "    client = MlflowClient()\n",
    "    exp_r = client.get_experiment_by_name(\"Feature Selection\")\n",
    "    client_run=mlflow.search_runs([exp_r.experiment_id], order_by=[\"metrics.f1_micro DESC\"])\n",
    "    if ((client_run.shape[0]>0)&(\"params.condition\" in client_run.columns)&\n",
    "        (\"params.algorithm\" in client_run.columns)&(\"params.strategy\" in client_run.columns)):\n",
    "        client_run=client_run.loc[(client_run[\"params.condition\"]==status_)&\n",
    "                                  (client_run[\"params.algorithm\"]=='lightgbm')&\n",
    "                                  (client_run[\"params.strategy\"]==strategy_)]\n",
    "        if str(i) in client_run['params.num_feature'].to_list():\n",
    "            print('Experiment with number of feature:',i, ' already done. It will be skipped.')\n",
    "            return ''\n",
    "    mlflow.set_tracking_uri(tracking_uri_)\n",
    "    \n",
    "    with mlflow.start_run(experiment_id = experiment.experiment_id,\n",
    "                          run_name=status_+'-'+datetime.now().strftime(\"%d/%m/%Y %H:%M:%S\")):\n",
    "        model = lgb.LGBMClassifier(random_state=1234,verbose=-1, n_estimators=50)\n",
    "        model.fit(train_x, train_y,\n",
    "                     eval_set=[(valid_x,valid_y)])\n",
    "        selector = RFE(model, n_features_to_select=i, step=1)\n",
    "        selector.fit(train_x,train_y)\n",
    "        \n",
    "        \n",
    "        col_data=[columns_data[j] for j in list(np.where(selector.support_)[0])]    \n",
    "            \n",
    "        pred_labels=selector.predict(valid_x).tolist()\n",
    "        preds_proba_=selector.predict_proba(valid_x)\n",
    "        \n",
    "        \n",
    "        f1_micro=f1_score(valid_y, pred_labels,average='micro')\n",
    "        log_loss_=log_loss(valid_y,preds_proba_)\n",
    "        \n",
    "        mlflow.log_param(\"num_feature\", i)\n",
    "        mlflow.log_param('feature_name',col_data)\n",
    "        mlflow.log_param('condition',status_)\n",
    "        mlflow.log_param('algorithm',\"lightgbm\")        \n",
    "        mlflow.log_param('strategy',strategy_)\n",
    "\n",
    "        mlflow.log_metric(\"f1_micro\", f1_micro)\n",
    "        mlflow.log_metric(\"log_loss\", log_loss_)\n",
    "        \n",
    "    return ''"
   ]
  },
  {
   "cell_type": "code",
   "execution_count": 5,
   "id": "4aea0c4e",
   "metadata": {
    "execution": {
     "iopub.execute_input": "2022-07-14T01:59:53.772204Z",
     "iopub.status.busy": "2022-07-14T01:59:53.771989Z",
     "iopub.status.idle": "2022-07-14T01:59:53.775308Z",
     "shell.execute_reply": "2022-07-14T01:59:53.774717Z"
    },
    "papermill": {
     "duration": 0.007979,
     "end_time": "2022-07-14T01:59:53.776770",
     "exception": false,
     "start_time": "2022-07-14T01:59:53.768791",
     "status": "completed"
    },
    "tags": []
   },
   "outputs": [],
   "source": [
    "def run_FE_lgbm():\n",
    "    y1=range(5,18)\n",
    "    for i1 in y1:\n",
    "        parallel_FE_lgbm(i1)\n",
    "    #with pool_x(10) as p:\n",
    "    #    p.map(parallel_FE_lgbm,y1)"
   ]
  },
  {
   "cell_type": "markdown",
   "id": "51dc5654",
   "metadata": {
    "papermill": {
     "duration": 0.002275,
     "end_time": "2022-07-14T01:59:53.781450",
     "exception": false,
     "start_time": "2022-07-14T01:59:53.779175",
     "status": "completed"
    },
    "tags": []
   },
   "source": [
    "### Without Artificial Data"
   ]
  },
  {
   "cell_type": "code",
   "execution_count": 6,
   "id": "aacf516d",
   "metadata": {
    "execution": {
     "iopub.execute_input": "2022-07-14T01:59:53.787210Z",
     "iopub.status.busy": "2022-07-14T01:59:53.786809Z",
     "iopub.status.idle": "2022-07-14T01:59:59.938812Z",
     "shell.execute_reply": "2022-07-14T01:59:59.938098Z"
    },
    "papermill": {
     "duration": 6.156712,
     "end_time": "2022-07-14T01:59:59.940504",
     "exception": false,
     "start_time": "2022-07-14T01:59:53.783792",
     "status": "completed"
    },
    "tags": []
   },
   "outputs": [
    {
     "name": "stdout",
     "output_type": "stream",
     "text": [
      "RUN DATA WITHOUT ARTIFICIAL DATA\n",
      "\n",
      "\n",
      "===========RUN Data w Outlier===========\n",
      "Experiment with number of feature: 5  already done. It will be skipped.\n",
      "Experiment with number of feature: 6  already done. It will be skipped.\n",
      "Experiment with number of feature: 7  already done. It will be skipped.\n",
      "Experiment with number of feature: 8  already done. It will be skipped.\n",
      "Experiment with number of feature: 9  already done. It will be skipped.\n",
      "Experiment with number of feature: 10  already done. It will be skipped.\n",
      "Experiment with number of feature: 11  already done. It will be skipped.\n",
      "Experiment with number of feature: 12  already done. It will be skipped.\n",
      "Experiment with number of feature: 13  already done. It will be skipped.\n",
      "Experiment with number of feature: 14  already done. It will be skipped.\n",
      "Experiment with number of feature: 15  already done. It will be skipped.\n",
      "Experiment with number of feature: 16  already done. It will be skipped.\n",
      "Experiment with number of feature: 17  already done. It will be skipped.\n",
      "===========FINISH=======================\n",
      "===========RUN Data w/o Outlier===========\n",
      "Experiment with number of feature: 5  already done. It will be skipped.\n",
      "Experiment with number of feature: 6  already done. It will be skipped.\n",
      "Experiment with number of feature: 7  already done. It will be skipped.\n",
      "Experiment with number of feature: 8  already done. It will be skipped.\n",
      "Experiment with number of feature: 9  already done. It will be skipped.\n",
      "Experiment with number of feature: 10  already done. It will be skipped.\n",
      "Experiment with number of feature: 11  already done. It will be skipped.\n",
      "Experiment with number of feature: 12  already done. It will be skipped.\n",
      "Experiment with number of feature: 13  already done. It will be skipped.\n",
      "Experiment with number of feature: 14  already done. It will be skipped.\n",
      "Experiment with number of feature: 15  already done. It will be skipped.\n",
      "Experiment with number of feature: 16  already done. It will be skipped.\n",
      "Experiment with number of feature: 17  already done. It will be skipped.\n",
      "===========FINISH=======================\n",
      "\n",
      "\n",
      "FINISH\n"
     ]
    }
   ],
   "source": [
    "print('RUN DATA WITHOUT ARTIFICIAL DATA\\n\\n')\n",
    "print('===========RUN Data w Outlier===========')\n",
    "strategy_='no artificial'\n",
    "data_sample=pd.read_csv(\"gs://bps-gcp-bucket/MLST2023/preprocessing/sample_\"+str(pic_) +\".csv\",sep=',')\n",
    "data_sample['nama_valid']=data_sample.nama_valid.apply(lambda y: str(y)[:6])\n",
    "data_sample=data_sample.sort_values('nama_valid')\n",
    "status_='w_outlier_'\n",
    "columns_data=['B1_p15', 'B2_p15', 'B3_p15',\n",
    "       'B4_p15', 'B5_p15', 'B6_p15', 'B7_p15', 'B8_p15', 'B8A_p15', 'B11_p15',\n",
    "       'B12_p15', 'NDVI_p50', 'NDWI_p50', 'NDBI_p50', 'SAVI_p50', 'EVI_p50',\n",
    "       'GNDVI_p50','nama_valid']\n",
    "X=data_sample[columns_data].drop(['nama_valid'],axis=1)\n",
    "y=data_sample['nama_valid']\n",
    "train_x, valid_x, train_y, valid_y = train_test_split(X, y, test_size=0.2,stratify=y)\n",
    "run_FE_lgbm()\n",
    "print('===========FINISH=======================')\n",
    "print('===========RUN Data w/o Outlier===========')\n",
    "data_sample=pd.read_csv(\"gs://bps-gcp-bucket/MLST2023/preprocessing/sample_\"+str(pic_) +\"_no_outlier.csv\",sep=',')\n",
    "data_sample['nama_valid']=data_sample.nama_valid.apply(lambda y: str(y)[:6])\n",
    "data_sample=data_sample.sort_values('nama_valid')\n",
    "status_='wo_outlier_'\n",
    "columns_data=['B1_p15', 'B2_p15', 'B3_p15',\n",
    "       'B4_p15', 'B5_p15', 'B6_p15', 'B7_p15', 'B8_p15', 'B8A_p15', 'B11_p15',\n",
    "       'B12_p15', 'NDVI_p50', 'NDWI_p50', 'NDBI_p50', 'SAVI_p50', 'EVI_p50',\n",
    "       'GNDVI_p50','nama_valid']\n",
    "X=data_sample[columns_data].drop(['nama_valid'],axis=1)\n",
    "y=data_sample['nama_valid']\n",
    "train_x, valid_x, train_y, valid_y = train_test_split(X, y, test_size=0.2,stratify=y)\n",
    "run_FE_lgbm()\n",
    "print('===========FINISH=======================')\n",
    "print('\\n\\nFINISH')"
   ]
  },
  {
   "cell_type": "markdown",
   "id": "168fcd85",
   "metadata": {
    "papermill": {
     "duration": 0.003218,
     "end_time": "2022-07-14T01:59:59.947951",
     "exception": false,
     "start_time": "2022-07-14T01:59:59.944733",
     "status": "completed"
    },
    "tags": []
   },
   "source": [
    "### ENN-BORDER SMOTE"
   ]
  },
  {
   "cell_type": "code",
   "execution_count": 7,
   "id": "7f6ccddd",
   "metadata": {
    "execution": {
     "iopub.execute_input": "2022-07-14T01:59:59.955653Z",
     "iopub.status.busy": "2022-07-14T01:59:59.955403Z",
     "iopub.status.idle": "2022-07-14T02:00:05.094716Z",
     "shell.execute_reply": "2022-07-14T02:00:05.094007Z"
    },
    "papermill": {
     "duration": 5.145311,
     "end_time": "2022-07-14T02:00:05.096395",
     "exception": false,
     "start_time": "2022-07-14T01:59:59.951084",
     "status": "completed"
    },
    "tags": []
   },
   "outputs": [
    {
     "name": "stdout",
     "output_type": "stream",
     "text": [
      "RUN DATA WITHOUT ENN-BORDER SMOTE\n",
      "\n",
      "\n",
      "===========RUN Data w Outlier===========\n",
      "Experiment with number of feature: 5  already done. It will be skipped.\n",
      "Experiment with number of feature: 6  already done. It will be skipped.\n",
      "Experiment with number of feature: 7  already done. It will be skipped.\n",
      "Experiment with number of feature: 8  already done. It will be skipped.\n",
      "Experiment with number of feature: 9  already done. It will be skipped.\n",
      "Experiment with number of feature: 10  already done. It will be skipped.\n",
      "Experiment with number of feature: 11  already done. It will be skipped.\n",
      "Experiment with number of feature: 12  already done. It will be skipped.\n",
      "Experiment with number of feature: 13  already done. It will be skipped.\n",
      "Experiment with number of feature: 14  already done. It will be skipped.\n",
      "Experiment with number of feature: 15  already done. It will be skipped.\n",
      "Experiment with number of feature: 16  already done. It will be skipped.\n",
      "Experiment with number of feature: 17  already done. It will be skipped.\n",
      "===========FINISH=======================\n",
      "===========RUN Data w/o Outlier===========\n",
      "Experiment with number of feature: 5  already done. It will be skipped.\n",
      "Experiment with number of feature: 6  already done. It will be skipped.\n",
      "Experiment with number of feature: 7  already done. It will be skipped.\n",
      "Experiment with number of feature: 8  already done. It will be skipped.\n",
      "Experiment with number of feature: 9  already done. It will be skipped.\n",
      "Experiment with number of feature: 10  already done. It will be skipped.\n",
      "Experiment with number of feature: 11  already done. It will be skipped.\n",
      "Experiment with number of feature: 12  already done. It will be skipped.\n",
      "Experiment with number of feature: 13  already done. It will be skipped.\n",
      "Experiment with number of feature: 14  already done. It will be skipped.\n",
      "Experiment with number of feature: 15  already done. It will be skipped.\n",
      "Experiment with number of feature: 16  already done. It will be skipped.\n",
      "Experiment with number of feature: 17  already done. It will be skipped.\n",
      "===========FINISH=======================\n",
      "\n",
      "\n",
      "FINISH\n"
     ]
    }
   ],
   "source": [
    "print('RUN DATA WITHOUT ENN-BORDER SMOTE\\n\\n')\n",
    "print('===========RUN Data w Outlier===========')\n",
    "strategy_='enn_border_smote'\n",
    "data_sample=pd.read_csv(\"gs://bps-gcp-bucket/MLST2023/preprocessing/sample_\"+str(pic_) +\"_enn_border_smote.csv\",sep=',')\n",
    "data_sample['nama_valid']=data_sample.nama_valid.apply(lambda y: str(y)[:6])\n",
    "data_sample=data_sample.sort_values('nama_valid')\n",
    "status_='w_outlier_'\n",
    "columns_data=['B1_p15', 'B2_p15', 'B3_p15',\n",
    "       'B4_p15', 'B5_p15', 'B6_p15', 'B7_p15', 'B8_p15', 'B8A_p15', 'B11_p15',\n",
    "       'B12_p15', 'NDVI_p50', 'NDWI_p50', 'NDBI_p50', 'SAVI_p50', 'EVI_p50',\n",
    "       'GNDVI_p50','nama_valid']\n",
    "X=data_sample[columns_data].drop(['nama_valid'],axis=1)\n",
    "y=data_sample['nama_valid']\n",
    "train_x, valid_x, train_y, valid_y = train_test_split(X, y, test_size=0.2,stratify=y)\n",
    "run_FE_lgbm()\n",
    "print('===========FINISH=======================')\n",
    "print('===========RUN Data w/o Outlier===========')\n",
    "data_sample=pd.read_csv(\"gs://bps-gcp-bucket/MLST2023/preprocessing/sample_\"+str(pic_) +\"_no_outlier_enn_border_smote.csv\",sep=',')\n",
    "data_sample['nama_valid']=data_sample.nama_valid.apply(lambda y: str(y)[:6])\n",
    "data_sample=data_sample.sort_values('nama_valid')\n",
    "status_='wo_outlier_'\n",
    "columns_data=['B1_p15', 'B2_p15', 'B3_p15',\n",
    "       'B4_p15', 'B5_p15', 'B6_p15', 'B7_p15', 'B8_p15', 'B8A_p15', 'B11_p15',\n",
    "       'B12_p15', 'NDVI_p50', 'NDWI_p50', 'NDBI_p50', 'SAVI_p50', 'EVI_p50',\n",
    "       'GNDVI_p50','nama_valid']\n",
    "X=data_sample[columns_data].drop(['nama_valid'],axis=1)\n",
    "y=data_sample['nama_valid']\n",
    "train_x, valid_x, train_y, valid_y = train_test_split(X, y, test_size=0.2,stratify=y)\n",
    "run_FE_lgbm()\n",
    "print('===========FINISH=======================')\n",
    "print('\\n\\nFINISH')"
   ]
  },
  {
   "cell_type": "markdown",
   "id": "0f43b5ee",
   "metadata": {
    "papermill": {
     "duration": 0.003839,
     "end_time": "2022-07-14T02:00:05.104971",
     "exception": false,
     "start_time": "2022-07-14T02:00:05.101132",
     "status": "completed"
    },
    "tags": []
   },
   "source": [
    "### ENN-SMOTE"
   ]
  },
  {
   "cell_type": "code",
   "execution_count": 8,
   "id": "43b25f25",
   "metadata": {
    "execution": {
     "iopub.execute_input": "2022-07-14T02:00:05.113745Z",
     "iopub.status.busy": "2022-07-14T02:00:05.113489Z",
     "iopub.status.idle": "2022-07-14T02:00:10.085970Z",
     "shell.execute_reply": "2022-07-14T02:00:10.085022Z"
    },
    "papermill": {
     "duration": 4.979324,
     "end_time": "2022-07-14T02:00:10.087672",
     "exception": false,
     "start_time": "2022-07-14T02:00:05.108348",
     "status": "completed"
    },
    "tags": []
   },
   "outputs": [
    {
     "name": "stdout",
     "output_type": "stream",
     "text": [
      "RUN DATA WITHOUT ENN-SMOTE\n",
      "\n",
      "\n",
      "===========RUN Data w Outlier===========\n",
      "Experiment with number of feature: 5  already done. It will be skipped.\n",
      "Experiment with number of feature: 6  already done. It will be skipped.\n",
      "Experiment with number of feature: 7  already done. It will be skipped.\n",
      "Experiment with number of feature: 8  already done. It will be skipped.\n",
      "Experiment with number of feature: 9  already done. It will be skipped.\n",
      "Experiment with number of feature: 10  already done. It will be skipped.\n",
      "Experiment with number of feature: 11  already done. It will be skipped.\n",
      "Experiment with number of feature: 12  already done. It will be skipped.\n",
      "Experiment with number of feature: 13  already done. It will be skipped.\n",
      "Experiment with number of feature: 14  already done. It will be skipped.\n",
      "Experiment with number of feature: 15  already done. It will be skipped.\n",
      "Experiment with number of feature: 16  already done. It will be skipped.\n",
      "Experiment with number of feature: 17  already done. It will be skipped.\n",
      "===========FINISH=======================\n",
      "===========RUN Data w/o Outlier===========\n",
      "Experiment with number of feature: 5  already done. It will be skipped.\n",
      "Experiment with number of feature: 6  already done. It will be skipped.\n",
      "Experiment with number of feature: 7  already done. It will be skipped.\n",
      "Experiment with number of feature: 8  already done. It will be skipped.\n",
      "Experiment with number of feature: 9  already done. It will be skipped.\n",
      "Experiment with number of feature: 10  already done. It will be skipped.\n",
      "Experiment with number of feature: 11  already done. It will be skipped.\n",
      "Experiment with number of feature: 12  already done. It will be skipped.\n",
      "Experiment with number of feature: 13  already done. It will be skipped.\n",
      "Experiment with number of feature: 14  already done. It will be skipped.\n",
      "Experiment with number of feature: 15  already done. It will be skipped.\n",
      "Experiment with number of feature: 16  already done. It will be skipped.\n",
      "Experiment with number of feature: 17  already done. It will be skipped.\n",
      "===========FINISH=======================\n",
      "\n",
      "\n",
      "FINISH\n"
     ]
    }
   ],
   "source": [
    "print('RUN DATA WITHOUT ENN-SMOTE\\n\\n')\n",
    "print('===========RUN Data w Outlier===========')\n",
    "strategy_='enn_smote'\n",
    "data_sample=pd.read_csv(\"gs://bps-gcp-bucket/MLST2023/preprocessing/sample_\"+str(pic_) +\"_enn_smote.csv\",sep=',')\n",
    "data_sample['nama_valid']=data_sample.nama_valid.apply(lambda y: str(y)[:6])\n",
    "data_sample=data_sample.sort_values('nama_valid')\n",
    "status_='w_outlier_'\n",
    "columns_data=['B1_p15', 'B2_p15', 'B3_p15',\n",
    "       'B4_p15', 'B5_p15', 'B6_p15', 'B7_p15', 'B8_p15', 'B8A_p15', 'B11_p15',\n",
    "       'B12_p15', 'NDVI_p50', 'NDWI_p50', 'NDBI_p50', 'SAVI_p50', 'EVI_p50',\n",
    "       'GNDVI_p50','nama_valid']\n",
    "X=data_sample[columns_data].drop(['nama_valid'],axis=1)\n",
    "y=data_sample['nama_valid']\n",
    "train_x, valid_x, train_y, valid_y = train_test_split(X, y, test_size=0.2,stratify=y)\n",
    "run_FE_lgbm()\n",
    "print('===========FINISH=======================')\n",
    "print('===========RUN Data w/o Outlier===========')\n",
    "data_sample=pd.read_csv(\"gs://bps-gcp-bucket/MLST2023/preprocessing/sample_\"+str(pic_) +\"_no_outlier_enn_smote.csv\",sep=',')\n",
    "data_sample['nama_valid']=data_sample.nama_valid.apply(lambda y: str(y)[:6])\n",
    "data_sample=data_sample.sort_values('nama_valid')\n",
    "status_='wo_outlier_'\n",
    "columns_data=['B1_p15', 'B2_p15', 'B3_p15',\n",
    "       'B4_p15', 'B5_p15', 'B6_p15', 'B7_p15', 'B8_p15', 'B8A_p15', 'B11_p15',\n",
    "       'B12_p15', 'NDVI_p50', 'NDWI_p50', 'NDBI_p50', 'SAVI_p50', 'EVI_p50',\n",
    "       'GNDVI_p50','nama_valid']\n",
    "X=data_sample[columns_data].drop(['nama_valid'],axis=1)\n",
    "y=data_sample['nama_valid']\n",
    "train_x, valid_x, train_y, valid_y = train_test_split(X, y, test_size=0.2,stratify=y)\n",
    "run_FE_lgbm()\n",
    "print('===========FINISH=======================')\n",
    "print('\\n\\nFINISH')"
   ]
  },
  {
   "cell_type": "markdown",
   "id": "ecd80efd",
   "metadata": {
    "papermill": {
     "duration": 0.004278,
     "end_time": "2022-07-14T02:00:10.097477",
     "exception": false,
     "start_time": "2022-07-14T02:00:10.093199",
     "status": "completed"
    },
    "tags": []
   },
   "source": [
    "### TL-BORDER SMOTE"
   ]
  },
  {
   "cell_type": "code",
   "execution_count": 9,
   "id": "cd4a9b75",
   "metadata": {
    "execution": {
     "iopub.execute_input": "2022-07-14T02:00:10.106985Z",
     "iopub.status.busy": "2022-07-14T02:00:10.106436Z",
     "iopub.status.idle": "2022-07-14T02:00:15.128864Z",
     "shell.execute_reply": "2022-07-14T02:00:15.128202Z"
    },
    "papermill": {
     "duration": 5.029001,
     "end_time": "2022-07-14T02:00:15.130568",
     "exception": false,
     "start_time": "2022-07-14T02:00:10.101567",
     "status": "completed"
    },
    "tags": []
   },
   "outputs": [
    {
     "name": "stdout",
     "output_type": "stream",
     "text": [
      "RUN DATA WITHOUT TL-BORDER SMOTE\n",
      "\n",
      "\n",
      "===========RUN Data w Outlier===========\n",
      "Experiment with number of feature: 5  already done. It will be skipped.\n",
      "Experiment with number of feature: 6  already done. It will be skipped.\n",
      "Experiment with number of feature: 7  already done. It will be skipped.\n",
      "Experiment with number of feature: 8  already done. It will be skipped.\n",
      "Experiment with number of feature: 9  already done. It will be skipped.\n",
      "Experiment with number of feature: 10  already done. It will be skipped.\n",
      "Experiment with number of feature: 11  already done. It will be skipped.\n",
      "Experiment with number of feature: 12  already done. It will be skipped.\n",
      "Experiment with number of feature: 13  already done. It will be skipped.\n",
      "Experiment with number of feature: 14  already done. It will be skipped.\n",
      "Experiment with number of feature: 15  already done. It will be skipped.\n",
      "Experiment with number of feature: 16  already done. It will be skipped.\n",
      "Experiment with number of feature: 17  already done. It will be skipped.\n",
      "===========FINISH=======================\n",
      "===========RUN Data w/o Outlier===========\n",
      "Experiment with number of feature: 5  already done. It will be skipped.\n",
      "Experiment with number of feature: 6  already done. It will be skipped.\n",
      "Experiment with number of feature: 7  already done. It will be skipped.\n",
      "Experiment with number of feature: 8  already done. It will be skipped.\n",
      "Experiment with number of feature: 9  already done. It will be skipped.\n",
      "Experiment with number of feature: 10  already done. It will be skipped.\n",
      "Experiment with number of feature: 11  already done. It will be skipped.\n",
      "Experiment with number of feature: 12  already done. It will be skipped.\n",
      "Experiment with number of feature: 13  already done. It will be skipped.\n",
      "Experiment with number of feature: 14  already done. It will be skipped.\n",
      "Experiment with number of feature: 15  already done. It will be skipped.\n",
      "Experiment with number of feature: 16  already done. It will be skipped.\n",
      "Experiment with number of feature: 17  already done. It will be skipped.\n",
      "===========FINISH=======================\n",
      "\n",
      "\n",
      "FINISH\n"
     ]
    }
   ],
   "source": [
    "print('RUN DATA WITHOUT TL-BORDER SMOTE\\n\\n')\n",
    "print('===========RUN Data w Outlier===========')\n",
    "strategy_='tl_border_smote'\n",
    "data_sample=pd.read_csv(\"gs://bps-gcp-bucket/MLST2023/preprocessing/sample_\"+str(pic_) +\"_tl_border_smote.csv\",sep=',')\n",
    "data_sample['nama_valid']=data_sample.nama_valid.apply(lambda y: str(y)[:6])\n",
    "data_sample=data_sample.sort_values('nama_valid')\n",
    "status_='w_outlier_'\n",
    "columns_data=['B1_p15', 'B2_p15', 'B3_p15',\n",
    "       'B4_p15', 'B5_p15', 'B6_p15', 'B7_p15', 'B8_p15', 'B8A_p15', 'B11_p15',\n",
    "       'B12_p15', 'NDVI_p50', 'NDWI_p50', 'NDBI_p50', 'SAVI_p50', 'EVI_p50',\n",
    "       'GNDVI_p50','nama_valid']\n",
    "X=data_sample[columns_data].drop(['nama_valid'],axis=1)\n",
    "y=data_sample['nama_valid']\n",
    "train_x, valid_x, train_y, valid_y = train_test_split(X, y, test_size=0.2,stratify=y)\n",
    "run_FE_lgbm()\n",
    "print('===========FINISH=======================')\n",
    "print('===========RUN Data w/o Outlier===========')\n",
    "data_sample=pd.read_csv(\"gs://bps-gcp-bucket/MLST2023/preprocessing/sample_\"+str(pic_) +\"_no_outlier_tl_border_smote.csv\",sep=',')\n",
    "data_sample['nama_valid']=data_sample.nama_valid.apply(lambda y: str(y)[:6])\n",
    "data_sample=data_sample.sort_values('nama_valid')\n",
    "status_='wo_outlier_'\n",
    "columns_data=['B1_p15', 'B2_p15', 'B3_p15',\n",
    "       'B4_p15', 'B5_p15', 'B6_p15', 'B7_p15', 'B8_p15', 'B8A_p15', 'B11_p15',\n",
    "       'B12_p15', 'NDVI_p50', 'NDWI_p50', 'NDBI_p50', 'SAVI_p50', 'EVI_p50',\n",
    "       'GNDVI_p50','nama_valid']\n",
    "X=data_sample[columns_data].drop(['nama_valid'],axis=1)\n",
    "y=data_sample['nama_valid']\n",
    "train_x, valid_x, train_y, valid_y = train_test_split(X, y, test_size=0.2,stratify=y)\n",
    "run_FE_lgbm()\n",
    "print('===========FINISH=======================')\n",
    "print('\\n\\nFINISH')"
   ]
  },
  {
   "cell_type": "markdown",
   "id": "866d662b",
   "metadata": {
    "papermill": {
     "duration": 0.004961,
     "end_time": "2022-07-14T02:00:15.141746",
     "exception": false,
     "start_time": "2022-07-14T02:00:15.136785",
     "status": "completed"
    },
    "tags": []
   },
   "source": [
    "### TL-SMOTE"
   ]
  },
  {
   "cell_type": "code",
   "execution_count": 10,
   "id": "6a0c42db",
   "metadata": {
    "execution": {
     "iopub.execute_input": "2022-07-14T02:00:15.152605Z",
     "iopub.status.busy": "2022-07-14T02:00:15.152152Z",
     "iopub.status.idle": "2022-07-14T02:00:20.134566Z",
     "shell.execute_reply": "2022-07-14T02:00:20.133934Z"
    },
    "papermill": {
     "duration": 4.989988,
     "end_time": "2022-07-14T02:00:20.136203",
     "exception": false,
     "start_time": "2022-07-14T02:00:15.146215",
     "status": "completed"
    },
    "tags": []
   },
   "outputs": [
    {
     "name": "stdout",
     "output_type": "stream",
     "text": [
      "RUN DATA WITHOUT TL-SMOTE\n",
      "\n",
      "\n",
      "===========RUN Data w Outlier===========\n",
      "Experiment with number of feature: 5  already done. It will be skipped.\n",
      "Experiment with number of feature: 6  already done. It will be skipped.\n",
      "Experiment with number of feature: 7  already done. It will be skipped.\n",
      "Experiment with number of feature: 8  already done. It will be skipped.\n",
      "Experiment with number of feature: 9  already done. It will be skipped.\n",
      "Experiment with number of feature: 10  already done. It will be skipped.\n",
      "Experiment with number of feature: 11  already done. It will be skipped.\n",
      "Experiment with number of feature: 12  already done. It will be skipped.\n",
      "Experiment with number of feature: 13  already done. It will be skipped.\n",
      "Experiment with number of feature: 14  already done. It will be skipped.\n",
      "Experiment with number of feature: 15  already done. It will be skipped.\n",
      "Experiment with number of feature: 16  already done. It will be skipped.\n",
      "Experiment with number of feature: 17  already done. It will be skipped.\n",
      "===========FINISH=======================\n",
      "===========RUN Data w/o Outlier===========\n",
      "Experiment with number of feature: 5  already done. It will be skipped.\n",
      "Experiment with number of feature: 6  already done. It will be skipped.\n",
      "Experiment with number of feature: 7  already done. It will be skipped.\n",
      "Experiment with number of feature: 8  already done. It will be skipped.\n",
      "Experiment with number of feature: 9  already done. It will be skipped.\n",
      "Experiment with number of feature: 10  already done. It will be skipped.\n",
      "Experiment with number of feature: 11  already done. It will be skipped.\n",
      "Experiment with number of feature: 12  already done. It will be skipped.\n",
      "Experiment with number of feature: 13  already done. It will be skipped.\n",
      "Experiment with number of feature: 14  already done. It will be skipped.\n",
      "Experiment with number of feature: 15  already done. It will be skipped.\n",
      "Experiment with number of feature: 16  already done. It will be skipped.\n",
      "Experiment with number of feature: 17  already done. It will be skipped.\n",
      "===========FINISH=======================\n",
      "\n",
      "\n",
      "FINISH\n"
     ]
    }
   ],
   "source": [
    "print('RUN DATA WITHOUT TL-SMOTE\\n\\n')\n",
    "print('===========RUN Data w Outlier===========')\n",
    "strategy_='tl_smote'\n",
    "data_sample=pd.read_csv(\"gs://bps-gcp-bucket/MLST2023/preprocessing/sample_\"+str(pic_) +\"_tl_smote.csv\",sep=',')\n",
    "data_sample['nama_valid']=data_sample.nama_valid.apply(lambda y: str(y)[:6])\n",
    "data_sample=data_sample.sort_values('nama_valid')\n",
    "status_='w_outlier_'\n",
    "columns_data=['B1_p15', 'B2_p15', 'B3_p15',\n",
    "       'B4_p15', 'B5_p15', 'B6_p15', 'B7_p15', 'B8_p15', 'B8A_p15', 'B11_p15',\n",
    "       'B12_p15', 'NDVI_p50', 'NDWI_p50', 'NDBI_p50', 'SAVI_p50', 'EVI_p50',\n",
    "       'GNDVI_p50','nama_valid']\n",
    "X=data_sample[columns_data].drop(['nama_valid'],axis=1)\n",
    "y=data_sample['nama_valid']\n",
    "train_x, valid_x, train_y, valid_y = train_test_split(X, y, test_size=0.2,stratify=y)\n",
    "run_FE_lgbm()\n",
    "print('===========FINISH=======================')\n",
    "print('===========RUN Data w/o Outlier===========')\n",
    "data_sample=pd.read_csv(\"gs://bps-gcp-bucket/MLST2023/preprocessing/sample_\"+str(pic_) +\"_no_outlier_tl_smote.csv\",sep=',')\n",
    "data_sample['nama_valid']=data_sample.nama_valid.apply(lambda y: str(y)[:6])\n",
    "data_sample=data_sample.sort_values('nama_valid')\n",
    "status_='wo_outlier_'\n",
    "columns_data=['B1_p15', 'B2_p15', 'B3_p15',\n",
    "       'B4_p15', 'B5_p15', 'B6_p15', 'B7_p15', 'B8_p15', 'B8A_p15', 'B11_p15',\n",
    "       'B12_p15', 'NDVI_p50', 'NDWI_p50', 'NDBI_p50', 'SAVI_p50', 'EVI_p50',\n",
    "       'GNDVI_p50','nama_valid']\n",
    "X=data_sample[columns_data].drop(['nama_valid'],axis=1)\n",
    "y=data_sample['nama_valid']\n",
    "train_x, valid_x, train_y, valid_y = train_test_split(X, y, test_size=0.2,stratify=y)\n",
    "run_FE_lgbm()\n",
    "print('===========FINISH=======================')\n",
    "print('\\n\\nFINISH')"
   ]
  }
 ],
 "metadata": {
  "celltoolbar": "Tags",
  "kernelspec": {
   "display_name": "Python 3 (ipykernel)",
   "language": "python",
   "name": "python3"
  },
  "language_info": {
   "codemirror_mode": {
    "name": "ipython",
    "version": 3
   },
   "file_extension": ".py",
   "mimetype": "text/x-python",
   "name": "python",
   "nbconvert_exporter": "python",
   "pygments_lexer": "ipython3",
   "version": "3.8.12"
  },
  "papermill": {
   "default_parameters": {},
   "duration": 29.040845,
   "end_time": "2022-07-14T02:00:20.562687",
   "environment_variables": {},
   "exception": null,
   "input_path": "04_b_LGBM-FeatureSelection.ipynb",
   "output_path": "04_b_LGBM-FeatureSelection.ipynb",
   "parameters": {
    "pic_": "F",
    "tracking_uri_": "http://34.128.104.38:5000"
   },
   "start_time": "2022-07-14T01:59:51.521842",
   "version": "2.3.4"
  }
 },
 "nbformat": 4,
 "nbformat_minor": 5
}
