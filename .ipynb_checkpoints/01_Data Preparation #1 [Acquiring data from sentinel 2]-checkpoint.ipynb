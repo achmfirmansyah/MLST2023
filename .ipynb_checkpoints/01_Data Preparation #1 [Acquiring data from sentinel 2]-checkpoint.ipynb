{
 "cells": [
  {
   "cell_type": "markdown",
   "id": "467a2d58",
   "metadata": {},
   "source": [
    "#### [00] Importing packages\n",
    "\n",
    "import several packages that would be used for acquiring sample data."
   ]
  },
  {
   "cell_type": "code",
   "execution_count": 1,
   "id": "5d9504cf",
   "metadata": {},
   "outputs": [],
   "source": [
    "import pandas as pd \n",
    "import numpy as np\n",
    "\n",
    "import geopandas as gpd\n",
    "import rasterio \n",
    "from rasterstats import zonal_stats\n",
    "\n",
    "from multiprocessing import Pool,Process\n",
    "\n",
    "import gcsfs\n",
    "\n",
    "from glob import glob\n",
    "\n",
    "import pathlib\n",
    "\n",
    "import warnings\n",
    "warnings.filterwarnings(\"ignore\")\n",
    "\n",
    "from omegaconf import DictConfig,OmegaConf"
   ]
  },
  {
   "cell_type": "markdown",
   "id": "82e4e21c",
   "metadata": {},
   "source": [
    "#### Editing PIC => go to config/config.yaml"
   ]
  },
  {
   "cell_type": "code",
   "execution_count": 2,
   "id": "889e9148",
   "metadata": {},
   "outputs": [],
   "source": [
    "\n",
    "conf = OmegaConf.load('config/config.yaml')\n",
    "pic_=conf['config']['pic_']"
   ]
  },
  {
   "cell_type": "markdown",
   "id": "1994fe3a",
   "metadata": {},
   "source": [
    "#### [01] Read data"
   ]
  },
  {
   "cell_type": "code",
   "execution_count": 3,
   "id": "019b2049",
   "metadata": {
    "scrolled": true
   },
   "outputs": [
    {
     "data": {
      "text/html": [
       "<div>\n",
       "<style scoped>\n",
       "    .dataframe tbody tr th:only-of-type {\n",
       "        vertical-align: middle;\n",
       "    }\n",
       "\n",
       "    .dataframe tbody tr th {\n",
       "        vertical-align: top;\n",
       "    }\n",
       "\n",
       "    .dataframe thead th {\n",
       "        text-align: right;\n",
       "    }\n",
       "</style>\n",
       "<table border=\"1\" class=\"dataframe\">\n",
       "  <thead>\n",
       "    <tr style=\"text-align: right;\">\n",
       "      <th></th>\n",
       "      <th>ID_GRID</th>\n",
       "      <th>geometry</th>\n",
       "      <th>kdPIC</th>\n",
       "      <th>nama_valid</th>\n",
       "      <th>sub_grid</th>\n",
       "      <th>cen_x</th>\n",
       "      <th>cen_y</th>\n",
       "    </tr>\n",
       "  </thead>\n",
       "  <tbody>\n",
       "    <tr>\n",
       "      <th>0</th>\n",
       "      <td>ID-3043</td>\n",
       "      <td>POLYGON ((114.48113 -8.11080, 114.48131 -8.110...</td>\n",
       "      <td>F</td>\n",
       "      <td>100201.0</td>\n",
       "      <td>ID-3043</td>\n",
       "      <td>114.481219</td>\n",
       "      <td>-8.110705</td>\n",
       "    </tr>\n",
       "    <tr>\n",
       "      <th>1</th>\n",
       "      <td>ID-3043</td>\n",
       "      <td>POLYGON ((114.45973 -8.11225, 114.45991 -8.112...</td>\n",
       "      <td>F</td>\n",
       "      <td>100201.0</td>\n",
       "      <td>ID-3043</td>\n",
       "      <td>114.459815</td>\n",
       "      <td>-8.112159</td>\n",
       "    </tr>\n",
       "  </tbody>\n",
       "</table>\n",
       "</div>"
      ],
      "text/plain": [
       "   ID_GRID                                           geometry kdPIC  \\\n",
       "0  ID-3043  POLYGON ((114.48113 -8.11080, 114.48131 -8.110...     F   \n",
       "1  ID-3043  POLYGON ((114.45973 -8.11225, 114.45991 -8.112...     F   \n",
       "\n",
       "   nama_valid sub_grid       cen_x     cen_y  \n",
       "0    100201.0  ID-3043  114.481219 -8.110705  \n",
       "1    100201.0  ID-3043  114.459815 -8.112159  "
      ]
     },
     "execution_count": 3,
     "metadata": {},
     "output_type": "execute_result"
    }
   ],
   "source": [
    "gdf_ = gpd.read_file(\"gs://bps-gcp-bucket/MLST2023/sample/\"+pic_+\"_sample2022_edit.gpkg\").to_crs(\"EPSG:4326\")[[\n",
    "    'ID_GRID','geometry','kdPIC','nama_valid','sub_grid']]  ## ganti dengan file gpkg\n",
    "gdf_['cen_x'] =gdf_.geometry.centroid.x\n",
    "gdf_['cen_y'] =gdf_.geometry.centroid.y\n",
    "gdf_.head(2)"
   ]
  },
  {
   "cell_type": "code",
   "execution_count": 4,
   "id": "a4b22525",
   "metadata": {},
   "outputs": [],
   "source": [
    "group_gdf_=gdf_.groupby('sub_grid')\n",
    "y_=list(group_gdf_.groups.keys())\n",
    "# y_[0:]"
   ]
  },
  {
   "cell_type": "code",
   "execution_count": 5,
   "id": "a9d55596",
   "metadata": {},
   "outputs": [
    {
     "name": "stdout",
     "output_type": "stream",
     "text": [
      "Total file undone:  498\n",
      "['ID-3043', 'ID-3044', 'ID-3086', 'ID-3087', 'ID-3128', 'ID-3129', 'ID-3130', 'ID-3173_10', 'ID-3173_12', 'ID-3173_13', 'ID-3173_14', 'ID-3173_15', 'ID-3173_16', 'ID-3173_17', 'ID-3173_18', 'ID-3173_19', 'ID-3173_20', 'ID-3173_21', 'ID-3173_22', 'ID-3173_23', 'ID-3173_24', 'ID-3173_25', 'ID-3173_4', 'ID-3173_5', 'ID-3173_8', 'ID-3173_9', 'ID-3174', 'ID-3175_1', 'ID-3175_11', 'ID-3175_12', 'ID-3175_13', 'ID-3175_14', 'ID-3175_16', 'ID-3175_17', 'ID-3175_18', 'ID-3175_19', 'ID-3175_2', 'ID-3175_20', 'ID-3175_21', 'ID-3175_22', 'ID-3175_23', 'ID-3175_24', 'ID-3175_25', 'ID-3175_3', 'ID-3175_6', 'ID-3175_7', 'ID-3175_8', 'ID-3175_9', 'ID-3177', 'ID-3222', 'ID-3223', 'ID-3224_1', 'ID-3224_10', 'ID-3224_11', 'ID-3224_12', 'ID-3224_13', 'ID-3224_14', 'ID-3224_15', 'ID-3224_16', 'ID-3224_17', 'ID-3224_18', 'ID-3224_19', 'ID-3224_2', 'ID-3224_20', 'ID-3224_21', 'ID-3224_22', 'ID-3224_23', 'ID-3224_24', 'ID-3224_25', 'ID-3224_3', 'ID-3224_4', 'ID-3224_5', 'ID-3224_6', 'ID-3224_7', 'ID-3224_8', 'ID-3224_9', 'ID-3225_1', 'ID-3225_10', 'ID-3225_11', 'ID-3225_12', 'ID-3225_13', 'ID-3225_14', 'ID-3225_15', 'ID-3225_16', 'ID-3225_17', 'ID-3225_18', 'ID-3225_2', 'ID-3225_21', 'ID-3225_3', 'ID-3225_4', 'ID-3225_5', 'ID-3225_6', 'ID-3225_7', 'ID-3225_8', 'ID-3225_9', 'ID-3270', 'ID-3271', 'ID-3272_1', 'ID-3272_11', 'ID-3272_12', 'ID-3272_13', 'ID-3272_14', 'ID-3272_16', 'ID-3272_17', 'ID-3272_18', 'ID-3272_19', 'ID-3272_2', 'ID-3272_21', 'ID-3272_22', 'ID-3272_23', 'ID-3272_24', 'ID-3272_3', 'ID-3272_4', 'ID-3272_5', 'ID-3272_6', 'ID-3272_7', 'ID-3272_8', 'ID-3272_9', 'ID-3273', 'ID-3324', 'ID-3325', 'ID-3326', 'ID-3443', 'ID-3496', 'ID-3497_1', 'ID-3497_10', 'ID-3497_12', 'ID-3497_13', 'ID-3497_14', 'ID-3497_15', 'ID-3497_16', 'ID-3497_18', 'ID-3497_19', 'ID-3497_2', 'ID-3497_20', 'ID-3497_21', 'ID-3497_23', 'ID-3497_24', 'ID-3497_25', 'ID-3497_3', 'ID-3497_6', 'ID-3497_7', 'ID-3497_8', 'ID-3497_9', 'ID-3498_10', 'ID-3498_11', 'ID-3498_12', 'ID-3498_13', 'ID-3498_15', 'ID-3498_16', 'ID-3498_17', 'ID-3498_18', 'ID-3498_19', 'ID-3498_20', 'ID-3498_21', 'ID-3498_22', 'ID-3498_23', 'ID-3498_24', 'ID-3498_25', 'ID-3498_3', 'ID-3498_4', 'ID-3498_5', 'ID-3498_6', 'ID-3498_7', 'ID-3498_8', 'ID-3498_9', 'ID-3499', 'ID-3549', 'ID-3550', 'ID-3551_1', 'ID-3551_10', 'ID-3551_11', 'ID-3551_12', 'ID-3551_13', 'ID-3551_14', 'ID-3551_15', 'ID-3551_16', 'ID-3551_17', 'ID-3551_18', 'ID-3551_19', 'ID-3551_2', 'ID-3551_20', 'ID-3551_23', 'ID-3551_24', 'ID-3551_25', 'ID-3551_3', 'ID-3551_4', 'ID-3551_5', 'ID-3551_6', 'ID-3551_8', 'ID-3551_9', 'ID-3552_1', 'ID-3552_10', 'ID-3552_11', 'ID-3552_12', 'ID-3552_13', 'ID-3552_14', 'ID-3552_15', 'ID-3552_16', 'ID-3552_17', 'ID-3552_18', 'ID-3552_19', 'ID-3552_2', 'ID-3552_20', 'ID-3552_21', 'ID-3552_22', 'ID-3552_23', 'ID-3552_24', 'ID-3552_25', 'ID-3552_3', 'ID-3552_4', 'ID-3552_5', 'ID-3552_6', 'ID-3552_7', 'ID-3552_8', 'ID-3552_9', 'ID-3553_1', 'ID-3553_11', 'ID-3553_12', 'ID-3553_13', 'ID-3553_16', 'ID-3553_17', 'ID-3553_18', 'ID-3553_19', 'ID-3553_2', 'ID-3553_21', 'ID-3553_22', 'ID-3553_23', 'ID-3553_24', 'ID-3553_3', 'ID-3553_4', 'ID-3553_6', 'ID-3553_7', 'ID-3553_8', 'ID-3600', 'ID-3601_10', 'ID-3601_13', 'ID-3601_14', 'ID-3601_15', 'ID-3601_17', 'ID-3601_18', 'ID-3601_19', 'ID-3601_20', 'ID-3601_21', 'ID-3601_22', 'ID-3601_23', 'ID-3601_24', 'ID-3601_25', 'ID-3601_3', 'ID-3601_4', 'ID-3601_5', 'ID-3601_6', 'ID-3601_8', 'ID-3601_9', 'ID-3602_1', 'ID-3602_10', 'ID-3602_11', 'ID-3602_12', 'ID-3602_13', 'ID-3602_14', 'ID-3602_15', 'ID-3602_16', 'ID-3602_17', 'ID-3602_18', 'ID-3602_19', 'ID-3602_2', 'ID-3602_20', 'ID-3602_21', 'ID-3602_22', 'ID-3602_23', 'ID-3602_24', 'ID-3602_3', 'ID-3602_4', 'ID-3602_5', 'ID-3602_6', 'ID-3602_7', 'ID-3602_8', 'ID-3602_9', 'ID-3603_1', 'ID-3603_11', 'ID-3603_12', 'ID-3603_13', 'ID-3603_14', 'ID-3603_16', 'ID-3603_17', 'ID-3603_18', 'ID-3603_19', 'ID-3603_2', 'ID-3603_22', 'ID-3603_23', 'ID-3603_3', 'ID-3603_4', 'ID-3603_6', 'ID-3603_7', 'ID-3603_8', 'ID-3603_9', 'ID-3642', 'ID-3643_10', 'ID-3643_11', 'ID-3643_12', 'ID-3643_13', 'ID-3643_14', 'ID-3643_16', 'ID-3643_17', 'ID-3643_2', 'ID-3643_3', 'ID-3643_4', 'ID-3643_5', 'ID-3643_6', 'ID-3643_7', 'ID-3643_8', 'ID-3643_9', 'ID-3644', 'ID-3645', 'ID-3681', 'ID-3682_1', 'ID-3682_10', 'ID-3682_11', 'ID-3682_12', 'ID-3682_13', 'ID-3682_14', 'ID-3682_15', 'ID-3682_16', 'ID-3682_17', 'ID-3682_18', 'ID-3682_19', 'ID-3682_2', 'ID-3682_20', 'ID-3682_23', 'ID-3682_24', 'ID-3682_25', 'ID-3682_3', 'ID-3682_4', 'ID-3682_6', 'ID-3682_7', 'ID-3682_8', 'ID-3682_9', 'ID-3683', 'ID-3684', 'ID-3720', 'ID-3721', 'ID-3722', 'ID-3723', 'ID-3724', 'ID-3762', 'ID-3803', 'ID-3804', 'ID-3805', 'ID-3806', 'ID-3807', 'ID-3846', 'ID-3847', 'ID-3848', 'ID-3849', 'ID-3879', 'ID-3882', 'ID-3883', 'ID-3909', 'ID-3912', 'ID-3930', 'ID-3945', 'ID-3946', 'ID-3964', 'ID-3965', 'ID-3981', 'ID-3982_1', 'ID-3982_10', 'ID-3982_11', 'ID-3982_12', 'ID-3982_13', 'ID-3982_14', 'ID-3982_15', 'ID-3982_16', 'ID-3982_17', 'ID-3982_18', 'ID-3982_19', 'ID-3982_2', 'ID-3982_20', 'ID-3982_21', 'ID-3982_22', 'ID-3982_23', 'ID-3982_24', 'ID-3982_25', 'ID-3982_3', 'ID-3982_4', 'ID-3982_5', 'ID-3982_6', 'ID-3982_7', 'ID-3982_8', 'ID-3983', 'ID-4005', 'ID-4006_1', 'ID-4006_10', 'ID-4006_11', 'ID-4006_12', 'ID-4006_13', 'ID-4006_14', 'ID-4006_15', 'ID-4006_16', 'ID-4006_17', 'ID-4006_18', 'ID-4006_19', 'ID-4006_2', 'ID-4006_24', 'ID-4006_3', 'ID-4006_4', 'ID-4006_5', 'ID-4006_6', 'ID-4006_7', 'ID-4006_8', 'ID-4006_9', 'ID-4007', 'ID-4028', 'ID-4030', 'ID-4031', 'ID-4033', 'ID-4034', 'ID-4063', 'ID-4064', 'ID-4092', 'ID-4093', 'ID-4131', 'ID-4215', 'ID-4262', 'ID-4311', 'ID-4312', 'ID-4315', 'ID-4361', 'ID-4362', 'ID-4363', 'ID-4365', 'ID-4396', 'ID-4397', 'ID-4427', 'ID-4464', 'ID-4465', 'ID-4496', 'ID-4529', 'ID-4568', 'ID-4611', 'ID-4612', 'ID-4613', 'ID-4656', 'ID-4659', 'ID-4696', 'ID-4734', 'ID-4735', 'ID-4860', 'ID-4893', 'ID-4921', 'ID-4946', 'ID-4950', 'ID-4951', 'ID-4974_10', 'ID-4974_12', 'ID-4974_13', 'ID-4974_14', 'ID-4974_15', 'ID-4974_16', 'ID-4974_17', 'ID-4974_18', 'ID-4974_19', 'ID-4974_2', 'ID-4974_20', 'ID-4974_21', 'ID-4974_22', 'ID-4974_23', 'ID-4974_24', 'ID-4974_25', 'ID-4974_3', 'ID-4974_4', 'ID-4974_5', 'ID-4974_7', 'ID-4974_8', 'ID-4974_9', 'ID-4994', 'ID-4995', 'ID-5036', 'ID-5037', 'ID-5038', 'ID-5059', 'ID-5060', 'ID-5061', 'ID-5062', 'ID-5079', 'ID-5083', 'ID-5084', 'ID-5085', 'ID-5086', 'ID-5087', 'ID-5105', 'ID-5106', 'ID-5107', 'ID-5108', 'ID-5122', 'ID-5124', 'ID-5125', 'ID-5139']\n"
     ]
    }
   ],
   "source": [
    "list_file_done=glob('ml_output/01_acquisition_data/sample_calc/*.csv')\n",
    "list_file_done=[i.split('/')[2].replace('calc_','').replace('.csv','') for i in list_file_done]\n",
    "y_=[u for u in y_ if u not in list_file_done]\n",
    "print('Total file undone: ',len(y_))\n",
    "print(y_)"
   ]
  },
  {
   "cell_type": "markdown",
   "id": "5cef40a6",
   "metadata": {},
   "source": [
    "#### [02]  Develop user defined data"
   ]
  },
  {
   "cell_type": "markdown",
   "id": "2614c0c1",
   "metadata": {},
   "source": [
    "specify the \"kdPIC\" and the band that would be calculated"
   ]
  },
  {
   "cell_type": "code",
   "execution_count": 6,
   "id": "bfa287fe",
   "metadata": {},
   "outputs": [],
   "source": [
    "kode_pic_ = gdf_.kdPIC.unique()\n",
    "\n",
    "band_ = ['B1_p15','B2_p15','B3_p15','B4_p15',\n",
    "        'B5_p15','B6_p15','B7_p15','B8_p15',\n",
    "        'B8A_p15','B11_p15','B12_p15',\n",
    "        'NDVI_p50','NDWI_p50','NDBI_p50',\n",
    "        'SAVI_p50','EVI_p50','GNDVI_p50']"
   ]
  },
  {
   "cell_type": "markdown",
   "id": "f4abb0bb",
   "metadata": {},
   "source": [
    "created user defined syntax for defining the raster name and calculating the statistics from them"
   ]
  },
  {
   "cell_type": "code",
   "execution_count": 7,
   "id": "b8fe5730",
   "metadata": {},
   "outputs": [],
   "source": [
    "def get_name(grid, pic):\n",
    "    filename= 'duatahun_'+grid+'_QALPN1_PakKus_sentinel2_10m.tif'\n",
    "    filename_full = 'gs://bps-gcp-bucket/citra-sentinel2/'+pic+'/'+filename\n",
    "    return filename, filename_full\n",
    "\n",
    "\n",
    "def get_index(gdf_, filename_full):\n",
    "    res = []\n",
    "    for i in range(1,18):\n",
    "        tmp = pd.DataFrame(zonal_stats(gdf_.geometry,filename_full,\n",
    "                                       stats='mean', band=i)).rename(columns={\"mean\":band_[i-1]}) #[0]['mean']\n",
    "        if i==1:\n",
    "            res = tmp\n",
    "        else:\n",
    "            res = pd.concat([res,tmp], axis=1)\n",
    "    result_ = pd.concat([gdf_.reset_index(), res], axis=1)\n",
    "    return result_\n",
    "\n",
    "def split_dataframe(df, chunk_size = 2000): \n",
    "    chunks = list()\n",
    "    num_chunks = len(df) // chunk_size + 1\n",
    "    for i in range(num_chunks):\n",
    "        chunks.append(df[i*chunk_size:(i+1)*chunk_size])\n",
    "    return chunks\n",
    "\n",
    "def parallel_get_index(i):\n",
    "    temp=pd.DataFrame()\n",
    "    global gdf_\n",
    "    global group_gdf_\n",
    "    te_=gdf_.iloc[group_gdf_.groups[i]]\n",
    "    p=te_.kdPIC.unique()[0]\n",
    "    filename, filename_full = get_name(i, p)\n",
    "    te_s=split_dataframe(te_)\n",
    "    for j in te_s:\n",
    "        res = get_index(j, filename_full) \n",
    "        temp=res.append(temp)\n",
    "    temp[['ID_GRID','sub_grid','kdPIC','nama_valid','B1_p15','B2_p15','B3_p15','B4_p15','B5_p15','B6_p15','B7_p15',\n",
    "          'B8_p15','B8A_p15','B11_p15','B12_p15','NDVI_p50','NDWI_p50','NDBI_p50','SAVI_p50',\n",
    "          'EVI_p50','GNDVI_p50','cen_x','cen_y']].to_csv('ml_output/01_acquisition_data/sample_calc/calc_'+i+'.csv',sep=';')"
   ]
  },
  {
   "cell_type": "markdown",
   "id": "c46253d8",
   "metadata": {},
   "source": [
    "#### [03] Parallel processing for acquiring data"
   ]
  },
  {
   "cell_type": "code",
   "execution_count": null,
   "id": "3d74198e",
   "metadata": {},
   "outputs": [],
   "source": [
    "if len(y_)>0:\n",
    "    with Pool(28) as p:\n",
    "        p.map(parallel_get_index,y_)"
   ]
  },
  {
   "cell_type": "markdown",
   "id": "5661f2aa",
   "metadata": {},
   "source": [
    "#### [04] Exporting data"
   ]
  },
  {
   "cell_type": "code",
   "execution_count": null,
   "id": "3f1537c3",
   "metadata": {},
   "outputs": [],
   "source": [
    "list_data_=glob('ml_output/01_acquisition_data/sample_calc/*.csv')\n",
    "df_=pd.DataFrame()\n",
    "for i in list_data_:\n",
    "    temp_=pd.read_csv(i,sep=';')[['ID_GRID','sub_grid','kdPIC','nama_valid','B1_p15','B2_p15','B3_p15','B4_p15','B5_p15','B6_p15','B7_p15',\n",
    "          'B8_p15','B8A_p15','B11_p15','B12_p15','NDVI_p50','NDWI_p50','NDBI_p50','SAVI_p50',\n",
    "          'EVI_p50','GNDVI_p50','cen_x','cen_y']]\n",
    "    df_=temp_.append(df_)\n",
    "    df_=df_[['ID_GRID','sub_grid','kdPIC','nama_valid','B1_p15','B2_p15','B3_p15','B4_p15','B5_p15','B6_p15','B7_p15',\n",
    "          'B8_p15','B8A_p15','B11_p15','B12_p15','NDVI_p50','NDWI_p50','NDBI_p50','SAVI_p50',\n",
    "          'EVI_p50','GNDVI_p50','cen_x','cen_y']]\n",
    "df_.to_csv(\"gs://bps-gcp-bucket/MLST2023/sample/sample_\"+str(pic_) + \".csv\",index=False)"
   ]
  },
  {
   "cell_type": "code",
   "execution_count": null,
   "id": "6a3c2186",
   "metadata": {},
   "outputs": [],
   "source": [
    "for i in list_data_:\n",
    "    file_to_rem = pathlib.Path(i)\n",
    "    file_to_rem.unlink()"
   ]
  }
 ],
 "metadata": {
  "kernelspec": {
   "display_name": "Python 3 (ipykernel)",
   "language": "python",
   "name": "python3"
  },
  "language_info": {
   "codemirror_mode": {
    "name": "ipython",
    "version": 3
   },
   "file_extension": ".py",
   "mimetype": "text/x-python",
   "name": "python",
   "nbconvert_exporter": "python",
   "pygments_lexer": "ipython3",
   "version": "3.8.12"
  }
 },
 "nbformat": 4,
 "nbformat_minor": 5
}
