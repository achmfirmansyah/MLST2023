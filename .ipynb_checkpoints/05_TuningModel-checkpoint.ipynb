{
 "cells": [
  {
   "cell_type": "code",
   "execution_count": 1,
   "id": "cc01d51e",
   "metadata": {},
   "outputs": [],
   "source": [
    "import papermill as pm\n",
    "import pickle5 as pickle\n",
    "pic_='F'\n",
    "tracking_uri_='http://34.128.104.38:5000'"
   ]
  },
  {
   "cell_type": "code",
   "execution_count": 2,
   "id": "5777e859",
   "metadata": {},
   "outputs": [],
   "source": [
    "import mlflow\n",
    "from mlflow.tracking import MlflowClient\n",
    "model_tuning={}"
   ]
  },
  {
   "cell_type": "code",
   "execution_count": 3,
   "id": "9ec24d37",
   "metadata": {},
   "outputs": [
    {
     "ename": "AttributeError",
     "evalue": "'NoneType' object has no attribute 'experiment_id'",
     "output_type": "error",
     "traceback": [
      "\u001b[0;31m---------------------------------------------------------------------------\u001b[0m",
      "\u001b[0;31mAttributeError\u001b[0m                            Traceback (most recent call last)",
      "Input \u001b[0;32mIn [3]\u001b[0m, in \u001b[0;36m<cell line: 26>\u001b[0;34m()\u001b[0m\n\u001b[1;32m     22\u001b[0m best_cat\u001b[38;5;241m=\u001b[39mmlflow\u001b[38;5;241m.\u001b[39mcatboost\u001b[38;5;241m.\u001b[39mload_model(best_cat)\n\u001b[1;32m     25\u001b[0m experiment \u001b[38;5;241m=\u001b[39m client\u001b[38;5;241m.\u001b[39mget_experiment_by_name(\u001b[38;5;124m\"\u001b[39m\u001b[38;5;124mTuning [LightGBM]\u001b[39m\u001b[38;5;124m\"\u001b[39m)\n\u001b[0;32m---> 26\u001b[0m exp_id\u001b[38;5;241m=\u001b[39m\u001b[43mexperiment\u001b[49m\u001b[38;5;241;43m.\u001b[39;49m\u001b[43mexperiment_id\u001b[49m\n\u001b[1;32m     27\u001b[0m data_\u001b[38;5;241m=\u001b[39mmlflow\u001b[38;5;241m.\u001b[39msearch_runs([exp_id], order_by\u001b[38;5;241m=\u001b[39m[\u001b[38;5;124m\"\u001b[39m\u001b[38;5;124mmetrics.f1_micro DESC\u001b[39m\u001b[38;5;124m\"\u001b[39m,\u001b[38;5;124m\"\u001b[39m\u001b[38;5;124mmetrics.logloss ASC\u001b[39m\u001b[38;5;124m\"\u001b[39m,\u001b[38;5;124m\"\u001b[39m\u001b[38;5;124mmetrics.roc_auc_score DESC\u001b[39m\u001b[38;5;124m\"\u001b[39m])\n\u001b[1;32m     28\u001b[0m \u001b[38;5;28;01mif\u001b[39;00m (experiment\u001b[38;5;241m==\u001b[39m\u001b[38;5;28;01mNone\u001b[39;00m)\u001b[38;5;129;01mor\u001b[39;00m(data_\u001b[38;5;241m.\u001b[39mshape[\u001b[38;5;241m0\u001b[39m]\u001b[38;5;241m==\u001b[39m\u001b[38;5;241m0\u001b[39m):\n",
      "\u001b[0;31mAttributeError\u001b[0m: 'NoneType' object has no attribute 'experiment_id'"
     ]
    }
   ],
   "source": [
    "client = MlflowClient()\n",
    "experiment = client.get_experiment_by_name(\"Tuning [Catboost]\")\n",
    "if experiment!=None:\n",
    "    exp_id=experiment.experiment_id\n",
    "    data_=mlflow.search_runs([exp_id], order_by=[\"metrics.f1_micro DESC\",\"metrics.logloss ASC\",\"metrics.roc_auc_score DESC\"])\n",
    "if (experiment==None)or(data_.shape[0]==0):\n",
    "    print('==============')\n",
    "    print('Run Hyperparameter Tuning for Catboost')\n",
    "    pm.execute_notebook(\n",
    "       '05_a_Catboost-Optuna-MLFlow.ipynb',\n",
    "       '05_a_Catboost-Optuna-MLFlow.ipynb',\n",
    "       parameters=dict(pic_=pic_,\n",
    "                   tracking_uri_=tracking_uri_)\n",
    "    )\n",
    "    print('DONE')\n",
    "    print('===========')\n",
    "    experiment = client.get_experiment_by_name(\"Tuning [Catboost]\")\n",
    "exp_id=experiment.experiment_id\n",
    "data_=mlflow.search_runs([exp_id], order_by=[\"metrics.f1_micro DESC\",\"metrics.logloss ASC\",\"metrics.roc_auc_score DESC\"])\n",
    "best_cat=data_.iloc[0,:]['run_id']\n",
    "best_cat='runs:/'+best_cat+'/catboost_model'\n",
    "best_cat=mlflow.catboost.load_model(best_cat)\n",
    "\n",
    "\n",
    "experiment = client.get_experiment_by_name(\"Tuning [LightGBM]\")\n",
    "if experiment!=None:\n",
    "    exp_id=experiment.experiment_id\n",
    "    data_=mlflow.search_runs([exp_id], order_by=[\"metrics.f1_micro DESC\",\"metrics.logloss ASC\",\"metrics.roc_auc_score DESC\"])\n",
    "if (experiment==None)or(data_.shape[0]==0):\n",
    "    print('==============')\n",
    "    print('Run Hyperparameter Tuning for LightGBM')\n",
    "    pm.execute_notebook(\n",
    "       '05_b_LightGBM-Optuna-MLFlow.ipynb',\n",
    "       '05_b_LightGBM-Optuna-MLFlow.ipynb',\n",
    "       parameters=dict(pic_=pic_,\n",
    "                   tracking_uri_=tracking_uri_)\n",
    "    )\n",
    "    print('DONE')\n",
    "    print('===========')\n",
    "    experiment = client.get_experiment_by_name(\"Tuning [LightGBM]\")\n",
    "best_lgb=data_.iloc[0,:]['run_id']\n",
    "best_lgb='runs:/'+best_lgb+'/lgbm_model'\n",
    "best_lgb=mlflow.lightgbm.load_model(best_lgb)"
   ]
  },
  {
   "cell_type": "code",
   "execution_count": null,
   "id": "1cc9edcf",
   "metadata": {},
   "outputs": [],
   "source": [
    "model_tuning['catboost']=best_cat\n",
    "model_tuning['lightgbm']=best_lgb\n",
    "\n",
    "with open('model/tuning/model_tuned.pickle', 'wb') as handle:\n",
    "    pickle.dump(model_tuning, handle, protocol=pickle.HIGHEST_PROTOCOL)"
   ]
  },
  {
   "cell_type": "code",
   "execution_count": null,
   "id": "4f666040",
   "metadata": {},
   "outputs": [],
   "source": [
    "import os\n",
    "from google.cloud import storage\n",
    "client = storage.Client()\n",
    "os.environ['GOOGLE_APPLICATION_CREDENTIALS'] = 'gcp_store.json'\n",
    "bucket = client.get_bucket('bps-gcp-bucket')\n",
    "file_name='MLST2023/model/tuning-model/'+pic_+'_tuning.pickle'\n",
    "bucket.blob(file_name).upload_from_filename('model/tuning/model_tuned.pickle')"
   ]
  }
 ],
 "metadata": {
  "kernelspec": {
   "display_name": "Python 3 (ipykernel)",
   "language": "python",
   "name": "python3"
  },
  "language_info": {
   "codemirror_mode": {
    "name": "ipython",
    "version": 3
   },
   "file_extension": ".py",
   "mimetype": "text/x-python",
   "name": "python",
   "nbconvert_exporter": "python",
   "pygments_lexer": "ipython3",
   "version": "3.8.12"
  }
 },
 "nbformat": 4,
 "nbformat_minor": 5
}
