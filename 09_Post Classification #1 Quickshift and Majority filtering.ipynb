{
 "cells": [
  {
   "cell_type": "code",
   "execution_count": 1,
   "id": "8944afcc",
   "metadata": {},
   "outputs": [
    {
     "name": "stderr",
     "output_type": "stream",
     "text": [
      "/home/jupyter-peta_admin/.local/lib/python3.8/site-packages/geopandas/_compat.py:112: UserWarning: The Shapely GEOS version (3.10.2-CAPI-1.16.0) is incompatible with the GEOS version PyGEOS was compiled with (3.11.0-CAPI-1.17.0). Conversions between both will be slow.\n",
      "  warnings.warn(\n"
     ]
    }
   ],
   "source": [
    "import geopandas as gpd\n",
    "import pandas as pd\n",
    "import numpy as np\n",
    "from skimage.util import img_as_ubyte\n",
    "from skimage.io import imread\n",
    "from skimage.morphology import square\n",
    "from skimage.filters.rank import majority\n",
    "from skimage.segmentation import quickshift\n",
    "from rasterio.mask import mask\n",
    "import rasterio as rio\n",
    "from rasterio.merge import merge\n",
    "from scipy.stats import mode\n",
    "\n",
    "from glob import glob\n",
    "\n",
    "from osgeo import gdal, ogr, osr\n",
    "gdal.PushErrorHandler('CPLQuietErrorHandler')\n",
    "gdal.UseExceptions()"
   ]
  },
  {
   "cell_type": "code",
   "execution_count": 2,
   "id": "a8eb67fb",
   "metadata": {},
   "outputs": [],
   "source": [
    "from omegaconf import DictConfig,OmegaConf\n",
    "conf = OmegaConf.load('config/config.yaml')\n",
    "pic_=conf['config']['pic_']"
   ]
  },
  {
   "cell_type": "code",
   "execution_count": 3,
   "id": "1827a8ea",
   "metadata": {},
   "outputs": [],
   "source": [
    "grid = gpd.read_file(\"gs://bps-gcp-bucket/MLST2023/sample/Grid_Ekoreg_2022.gpkg\")[['ID_GRID','geometry','kdPIC']]"
   ]
  },
  {
   "cell_type": "code",
   "execution_count": 4,
   "id": "b025b9d2",
   "metadata": {},
   "outputs": [],
   "source": [
    "from pysal.lib import weights"
   ]
  },
  {
   "cell_type": "code",
   "execution_count": 5,
   "id": "8715f8e2",
   "metadata": {},
   "outputs": [
    {
     "name": "stderr",
     "output_type": "stream",
     "text": [
      "/opt/tljh/user/lib/python3.8/site-packages/libpysal/weights/weights.py:172: UserWarning: The weights matrix is not fully connected: \n",
      " There are 63 disconnected components.\n",
      " There are 10 islands with ids: ID-0702, ID-1404, ID-1829, ID-1836, ID-1890, ID-3719, ID-3941, ID-4731, ID-5159, ID-5525.\n",
      "  warnings.warn(message)\n"
     ]
    }
   ],
   "source": [
    "wr = weights.contiguity.Rook.from_dataframe(grid,idVariable='ID_GRID')"
   ]
  },
  {
   "cell_type": "code",
   "execution_count": 6,
   "id": "58db0fe5",
   "metadata": {},
   "outputs": [],
   "source": [
    "grid['neighbor']=grid.ID_GRID.apply(lambda y: wr.neighbors[y])"
   ]
  },
  {
   "cell_type": "code",
   "execution_count": 7,
   "id": "a798561d",
   "metadata": {},
   "outputs": [],
   "source": [
    "from google.cloud import storage\n",
    "client = storage.Client()\n",
    "\n",
    "\n",
    "ls_=list(client.list_blobs('bps-gcp-bucket', prefix='MLST2023/result'))\n",
    "result_done=[str(i).split('/')[-1].split(',')[0] for i in ls_ if str(i).split('/')[-1].split(',')[0]!='']"
   ]
  },
  {
   "cell_type": "code",
   "execution_count": 8,
   "id": "312addf3",
   "metadata": {},
   "outputs": [],
   "source": [
    "grid['main_done']=grid.ID_GRID.apply(lambda y:1 if 'classified_'+y+'.tif' in result_done else 0)"
   ]
  },
  {
   "cell_type": "code",
   "execution_count": 9,
   "id": "ac0b2e9e",
   "metadata": {},
   "outputs": [],
   "source": [
    "grid['neigh_done']=grid.neighbor.apply(lambda y: 1 if \n",
    "                                       set(['classified_'+j+'.tif' for j in y]).issubset(set(result_done)) else 0)"
   ]
  },
  {
   "cell_type": "code",
   "execution_count": 10,
   "id": "031cd1e1",
   "metadata": {},
   "outputs": [],
   "source": [
    "grid_for_run=grid.query('main_done==1 and neigh_done==1')"
   ]
  },
  {
   "cell_type": "code",
   "execution_count": 11,
   "id": "793bf580",
   "metadata": {},
   "outputs": [
    {
     "data": {
      "text/html": [
       "<div>\n",
       "<style scoped>\n",
       "    .dataframe tbody tr th:only-of-type {\n",
       "        vertical-align: middle;\n",
       "    }\n",
       "\n",
       "    .dataframe tbody tr th {\n",
       "        vertical-align: top;\n",
       "    }\n",
       "\n",
       "    .dataframe thead th {\n",
       "        text-align: right;\n",
       "    }\n",
       "</style>\n",
       "<table border=\"1\" class=\"dataframe\">\n",
       "  <thead>\n",
       "    <tr style=\"text-align: right;\">\n",
       "      <th></th>\n",
       "      <th>ID_GRID</th>\n",
       "      <th>geometry</th>\n",
       "      <th>kdPIC</th>\n",
       "      <th>neighbor</th>\n",
       "      <th>main_done</th>\n",
       "      <th>neigh_done</th>\n",
       "    </tr>\n",
       "  </thead>\n",
       "  <tbody>\n",
       "    <tr>\n",
       "      <th>1293</th>\n",
       "      <td>ID-3044</td>\n",
       "      <td>MULTIPOLYGON (((114.41332 -8.25104, 114.59298 ...</td>\n",
       "      <td>F</td>\n",
       "      <td>[ID-3045, ID-3000, ID-3087, ID-3043]</td>\n",
       "      <td>1</td>\n",
       "      <td>1</td>\n",
       "    </tr>\n",
       "    <tr>\n",
       "      <th>1335</th>\n",
       "      <td>ID-3086</td>\n",
       "      <td>MULTIPOLYGON (((114.59298 -8.06837, 114.77264 ...</td>\n",
       "      <td>F</td>\n",
       "      <td>[ID-3043, ID-3087, ID-3128]</td>\n",
       "      <td>1</td>\n",
       "      <td>1</td>\n",
       "    </tr>\n",
       "    <tr>\n",
       "      <th>1336</th>\n",
       "      <td>ID-3087</td>\n",
       "      <td>MULTIPOLYGON (((114.59298 -8.25104, 114.77264 ...</td>\n",
       "      <td>F</td>\n",
       "      <td>[ID-3129, ID-3086, ID-3044]</td>\n",
       "      <td>1</td>\n",
       "      <td>1</td>\n",
       "    </tr>\n",
       "  </tbody>\n",
       "</table>\n",
       "</div>"
      ],
      "text/plain": [
       "      ID_GRID                                           geometry kdPIC  \\\n",
       "1293  ID-3044  MULTIPOLYGON (((114.41332 -8.25104, 114.59298 ...     F   \n",
       "1335  ID-3086  MULTIPOLYGON (((114.59298 -8.06837, 114.77264 ...     F   \n",
       "1336  ID-3087  MULTIPOLYGON (((114.59298 -8.25104, 114.77264 ...     F   \n",
       "\n",
       "                                  neighbor  main_done  neigh_done  \n",
       "1293  [ID-3045, ID-3000, ID-3087, ID-3043]          1           1  \n",
       "1335           [ID-3043, ID-3087, ID-3128]          1           1  \n",
       "1336           [ID-3129, ID-3086, ID-3044]          1           1  "
      ]
     },
     "execution_count": 11,
     "metadata": {},
     "output_type": "execute_result"
    }
   ],
   "source": [
    "grid_for_run=grid_for_run.to_crs(3857)"
   ]
  },
  {
   "cell_type": "code",
   "execution_count": null,
   "id": "9a33c91b",
   "metadata": {},
   "outputs": [],
   "source": [
    "for index, row in grid_for_run.iterrows():\n",
    "    storage_client = storage.Client()\n",
    "    bucket = storage_client.get_bucket('bps-gcp-bucket')\n",
    "    source_blob_name='MLST2023/result/classified_'+row['ID_GRID']+'.tif'\n",
    "    blob = bucket.blob(source_blob_name)\n",
    "    blob.download_to_filename('ml_output/09_post_classification/temp_download/classified_'+row['ID_GRID']+'.tif')\n",
    "    source_blob_name='citra-sentinel2/'+row['kdPIC']+'/duatahun_'+row['ID_GRID']+'_QALPN1_PakKus_sentinel2_10m.tif'\n",
    "    blob = bucket.blob(source_blob_name)\n",
    "    blob.download_to_filename('ml_output/09_post_classification/temp_sentinel2/'+'duatahun_'+row['ID_GRID']+'_QALPN1_PakKus_sentinel2_10m.tif')    \n",
    "    for j in row['neighbor']:\n",
    "        storage_client = storage.Client()\n",
    "        bucket = storage_client.get_bucket('bps-gcp-bucket')\n",
    "        source_blob_name='MLST2023/result/classified_'+j+'.tif'\n",
    "        blob = bucket.blob(source_blob_name)\n",
    "        blob.download_to_filename('ml_output/09_post_classification/temp_download/classified_'+j+'.tif')\n",
    "        pic=grid.query('ID_GRID==@j')['kdPIC'].values[0]\n",
    "        source_blob_name='citra-sentinel2/'+pic+'/duatahun_'+j+'_QALPN1_PakKus_sentinel2_10m.tif'\n",
    "        blob = bucket.blob(source_blob_name)\n",
    "        blob.download_to_filename('ml_output/09_post_classification/temp_sentinel2/'+'duatahun_'+j+'_QALPN1_PakKus_sentinel2_10m.tif')    \n",
    "    ls_data=y.neighbor\n",
    "    ls_data.append(y['ID_GRID'])\n",
    "    ls_merged_grid=list(set(list(ls_data)))\n",
    "    ls_merged_class=['ml_output/09_post_classification/temp_download/classified_'+j+'.tif' for j in ls_merged_grid]\n",
    "    ls_merged_sentinel2=['ml_output/09_post_classification/temp_sentinel2/'+'duatahun_'+j+'_QALPN1_PakKus_sentinel2_10m.tif' for j in ls_merged_grid]\n",
    "    raster_to_mosiac=[]\n",
    "    for p in ls_merged_class:\n",
    "        raster = rio.open(p)\n",
    "        raster_to_mosiac.append(raster)\n",
    "    mosaic, output = merge(raster_to_mosiac)\n",
    "    output_meta = raster.meta.copy()\n",
    "    output_meta.update(\n",
    "        {\"driver\": \"GTiff\",\n",
    "            \"height\": mosaic.shape[1],\n",
    "            \"width\": mosaic.shape[2],\n",
    "            \"transform\": output,\n",
    "        }\n",
    "    )\n",
    "    with rio.open('ml_output/09_post_classification/temp_merge_class/merged_classified_'+y.ID_GRID+'.tif', \n",
    "                  \"w\", **output_meta) as m:\n",
    "        m.write(mosaic)\n",
    "    mj_fil1=square(3)\n",
    "    mj_fil2=square(3)\n",
    "    data=imread('ml_output/09_post_classification/temp_merge_class/merged_classified_'+y.ID_GRID+'.tif', plugin='tifffile')\n",
    "    major_data=majority(data.astype(np.uint8),mj_fil1)\n",
    "    major_data=majority(major_data,mj_fil2)\n",
    "    with rio.open('ml_output/09_post_classification/temp_merge_class/merged_classified_'+y.ID_GRID+'.tif') as src:\n",
    "        out_meta = src.meta\n",
    "        out_meta.update({'driver':'GTiff',\n",
    "                    'height':src.shape[0],\n",
    "                    'width':src.shape[1],\n",
    "                    'transform':src.transform})\n",
    "        with rio.open('ml_output/09_post_classification/temp_postclass_1/post_t_'+y.ID_GRID+'.tif','w',**out_meta) as dest:\n",
    "            dest.write(major_data,1)\n",
    "    with rio.open('ml_output/09_post_classification/temp_postclass_1/post_t_'+y.ID_GRID+'.tif') as src:\n",
    "        out_image, transformed = mask(src, y.geometry, crop=True,all_touched=True)\n",
    "    with rio.open('ml_output/09_post_classification/temp_sentinel2/'+'duatahun_'+y.ID_GRID+'_QALPN1_PakKus_sentinel2_10m.tif') as src:\n",
    "        out_meta = src.meta\n",
    "        out_meta.update({'driver':'GTiff',\n",
    "                     'count':3,\n",
    "                     'height':out_image.shape[1],\n",
    "                    'width':out_image.shape[2],\n",
    "                    'transform':src.transform})\n",
    "        array_=src.read([12,13,14])\n",
    "        with rio.open('ml_output/09_post_classification/temp_segment1/to_segment_'+y.ID_GRID+'.tif','w',**out_meta) as dest:\n",
    "            dest.write(array_)\n",
    "    data=imread('ml_output/09_post_classification/temp_segment1/to_segment_'+y.ID_GRID+'.tif', plugin='tifffile')\n",
    "    segment_=quickshift(data,kernel=0.5,max_dist=5)\n",
    "    data_=pd.DataFrame({'data':np.ravel(out_image[0]),'segment':np.ravel(segment_)})\n",
    "    y_pivot=pd.pivot_table(data_,index='segment',values='data',aggfunc=mode)\n",
    "    y_pivot['data_']=y_pivot.data.apply(lambda y: y[0][0])\n",
    "    dict_done=y_pivot['data_'].to_dict()\n",
    "    data_['post_label']=data_.segment.apply(lambda y:dict_done[y])\n",
    "    data_done_=data_[['post_label']].to_numpy().reshape(out_image.shape)\n",
    "    out_meta.update({'count':1})\n",
    "    with rio.open('ml_output/09_post_classification/result_post/post_'+y.ID_GRID+'.tif','w',**out_meta) as dest:\n",
    "        dest.write(data_done_)"
   ]
  },
  {
   "cell_type": "code",
   "execution_count": 12,
   "id": "86701940",
   "metadata": {},
   "outputs": [],
   "source": [
    "\n",
    "y=grid_for_run.iloc[0]\n"
   ]
  },
  {
   "cell_type": "code",
   "execution_count": 13,
   "id": "4be866ba",
   "metadata": {},
   "outputs": [],
   "source": []
  },
  {
   "cell_type": "code",
   "execution_count": 14,
   "id": "2eb4b70c",
   "metadata": {},
   "outputs": [],
   "source": []
  },
  {
   "cell_type": "code",
   "execution_count": 32,
   "id": "a458c6c6",
   "metadata": {},
   "outputs": [],
   "source": []
  },
  {
   "cell_type": "code",
   "execution_count": 33,
   "id": "405a3cfe",
   "metadata": {},
   "outputs": [
    {
     "name": "stderr",
     "output_type": "stream",
     "text": [
      "/home/jupyter-peta_admin/.local/lib/python3.8/site-packages/rasterio/features.py:445: ShapelyDeprecationWarning: Iteration over multi-part geometries is deprecated and will be removed in Shapely 2.0. Use the `geoms` property to access the constituent parts of a multi-part geometry.\n",
      "  all_bounds = [bounds(shape, transform=~dataset.transform) for shape in shapes]\n",
      "/home/jupyter-peta_admin/.local/lib/python3.8/site-packages/rasterio/features.py:288: ShapelyDeprecationWarning: Iteration over multi-part geometries is deprecated and will be removed in Shapely 2.0. Use the `geoms` property to access the constituent parts of a multi-part geometry.\n",
      "  for index, item in enumerate(shapes):\n"
     ]
    }
   ],
   "source": []
  },
  {
   "cell_type": "code",
   "execution_count": 17,
   "id": "38b4cc23",
   "metadata": {},
   "outputs": [],
   "source": []
  },
  {
   "cell_type": "code",
   "execution_count": 18,
   "id": "8f6a78c5",
   "metadata": {},
   "outputs": [],
   "source": []
  },
  {
   "cell_type": "code",
   "execution_count": 19,
   "id": "3a08dd62",
   "metadata": {},
   "outputs": [],
   "source": []
  },
  {
   "cell_type": "code",
   "execution_count": 37,
   "id": "82694122",
   "metadata": {},
   "outputs": [],
   "source": []
  },
  {
   "cell_type": "code",
   "execution_count": 38,
   "id": "8b5dddee",
   "metadata": {},
   "outputs": [],
   "source": []
  },
  {
   "cell_type": "code",
   "execution_count": 49,
   "id": "8ec126a7",
   "metadata": {},
   "outputs": [],
   "source": []
  },
  {
   "cell_type": "code",
   "execution_count": 56,
   "id": "53e739a5",
   "metadata": {},
   "outputs": [],
   "source": []
  },
  {
   "cell_type": "code",
   "execution_count": 57,
   "id": "88603dcf",
   "metadata": {},
   "outputs": [],
   "source": []
  },
  {
   "cell_type": "code",
   "execution_count": 65,
   "id": "a3b694ba",
   "metadata": {},
   "outputs": [],
   "source": []
  },
  {
   "cell_type": "code",
   "execution_count": 67,
   "id": "5ac05784",
   "metadata": {},
   "outputs": [
    {
     "data": {
      "text/plain": [
       "array([[[206, 206, 206, ..., 105, 105, 105],\n",
       "        [206, 206, 206, ..., 105, 105, 105],\n",
       "        [206, 206, 206, ..., 105, 105, 105],\n",
       "        ...,\n",
       "        [206, 206, 206, ..., 206, 206, 206],\n",
       "        [206, 206, 206, ..., 206, 206, 206],\n",
       "        [206, 206, 206, ..., 206, 206, 206]]])"
      ]
     },
     "execution_count": 67,
     "metadata": {},
     "output_type": "execute_result"
    }
   ],
   "source": [
    "data_done_"
   ]
  },
  {
   "cell_type": "code",
   "execution_count": 66,
   "id": "014dcaa4",
   "metadata": {},
   "outputs": [],
   "source": []
  }
 ],
 "metadata": {
  "kernelspec": {
   "display_name": "Python 3 (ipykernel)",
   "language": "python",
   "name": "python3"
  },
  "language_info": {
   "codemirror_mode": {
    "name": "ipython",
    "version": 3
   },
   "file_extension": ".py",
   "mimetype": "text/x-python",
   "name": "python",
   "nbconvert_exporter": "python",
   "pygments_lexer": "ipython3",
   "version": "3.8.12"
  }
 },
 "nbformat": 4,
 "nbformat_minor": 5
}
