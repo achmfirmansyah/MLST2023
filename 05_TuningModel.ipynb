{
 "cells": [
  {
   "cell_type": "code",
   "execution_count": 13,
   "id": "cc01d51e",
   "metadata": {},
   "outputs": [],
   "source": [
    "import papermill as pm\n",
    "import pickle5 as pickle\n",
    "pic_='F'\n",
    "tracking_uri_='http://34.128.104.38:5000'"
   ]
  },
  {
   "cell_type": "code",
   "execution_count": 14,
   "id": "5777e859",
   "metadata": {},
   "outputs": [],
   "source": [
    "import mlflow\n",
    "from mlflow.tracking import MlflowClient\n",
    "model_tuning={}"
   ]
  },
  {
   "cell_type": "code",
   "execution_count": 15,
   "id": "3050ade9",
   "metadata": {},
   "outputs": [],
   "source": [
    "client = MlflowClient()\n",
    "experiment = client.get_experiment_by_name(\"Hyper Parameter Tuning\")\n",
    "if experiment!=None:\n",
    "    exp_id=experiment.experiment_id\n",
    "    data_=mlflow.search_runs([exp_id], order_by=[\"metrics.f1_micro DESC\",\"metrics.logloss ASC\",\"metrics.roc_auc_score DESC\"])"
   ]
  },
  {
   "cell_type": "code",
   "execution_count": 16,
   "id": "150300c4",
   "metadata": {},
   "outputs": [],
   "source": [
    "best_cat=data_.loc[data_['params.algorithm']=='catboost'].iloc[0,:]['run_id']\n",
    "best_cat='runs:/'+best_cat+'/catboost_model'\n",
    "best_cat=mlflow.catboost.load_model(best_cat)\n",
    "\n",
    "best_lgb=data_.loc[data_['params.algorithm']=='lightgbm'].iloc[0,:]['run_id']\n",
    "best_lgb='runs:/'+best_lgb+'/lgbm_model'\n",
    "best_lgb=mlflow.lightgbm.load_model(best_lgb)\n",
    "\n",
    "best_rf=data_.loc[data_['params.algorithm']=='randomforest'].iloc[0,:]['run_id']\n",
    "best_rf='runs:/'+best_rf+'/rf_model'\n",
    "best_rf=mlflow.sklearn.load_model(best_rf)"
   ]
  },
  {
   "cell_type": "code",
   "execution_count": 17,
   "id": "1cc9edcf",
   "metadata": {},
   "outputs": [],
   "source": [
    "model_tuning['catboost']=best_cat\n",
    "model_tuning['lightgbm']=best_lgb\n",
    "model_tuning['randomforest']=best_rf\n",
    "\n",
    "with open('model/tuning/model_tuned.pickle', 'wb') as handle:\n",
    "    pickle.dump(model_tuning, handle, protocol=pickle.HIGHEST_PROTOCOL)"
   ]
  },
  {
   "cell_type": "code",
   "execution_count": 18,
   "id": "4f666040",
   "metadata": {},
   "outputs": [],
   "source": [
    "import os\n",
    "from google.cloud import storage\n",
    "client = storage.Client()\n",
    "os.environ['GOOGLE_APPLICATION_CREDENTIALS'] = 'gcp_store.json'\n",
    "bucket = client.get_bucket('bps-gcp-bucket')\n",
    "file_name='MLST2023/model/tuning-model/'+pic_+'_tuning.pickle'\n",
    "bucket.blob(file_name).upload_from_filename('model/tuning/model_tuned.pickle')"
   ]
  }
 ],
 "metadata": {
  "kernelspec": {
   "display_name": "Python 3 (ipykernel)",
   "language": "python",
   "name": "python3"
  },
  "language_info": {
   "codemirror_mode": {
    "name": "ipython",
    "version": 3
   },
   "file_extension": ".py",
   "mimetype": "text/x-python",
   "name": "python",
   "nbconvert_exporter": "python",
   "pygments_lexer": "ipython3",
   "version": "3.8.12"
  }
 },
 "nbformat": 4,
 "nbformat_minor": 5
}
